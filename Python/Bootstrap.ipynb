{
  "nbformat": 4,
  "nbformat_minor": 0,
  "metadata": {
    "colab": {
      "name": "Bootstrap.ipynb",
      "provenance": [],
      "authorship_tag": "ABX9TyO+1rcAy5+z0gXLWoUj3lRg",
      "include_colab_link": true
    },
    "kernelspec": {
      "name": "python3",
      "display_name": "Python 3"
    },
    "language_info": {
      "name": "python"
    }
  },
  "cells": [
    {
      "cell_type": "markdown",
      "metadata": {
        "id": "view-in-github",
        "colab_type": "text"
      },
      "source": [
        "<a href=\"https://colab.research.google.com/github/chavamoon/MachineLearningExamples/blob/main/Python/Bootstrap.ipynb\" target=\"_parent\"><img src=\"https://colab.research.google.com/assets/colab-badge.svg\" alt=\"Open In Colab\"/></a>"
      ]
    },
    {
      "cell_type": "code",
      "metadata": {
        "id": "u0unMtV6HQHh"
      },
      "source": [
        "import pandas as pd\n",
        "import numpy as np\n",
        "import matplotlib.pyplot as plt\n",
        "\n",
        "#resambple with bootstrap\n",
        "from sklearn.utils import resample"
      ],
      "execution_count": 4,
      "outputs": []
    },
    {
      "cell_type": "code",
      "metadata": {
        "id": "h2AGjwS5H2XG"
      },
      "source": [
        "np.random.seed(200726)"
      ],
      "execution_count": 2,
      "outputs": []
    },
    {
      "cell_type": "code",
      "metadata": {
        "id": "IHzwIrdBIBbd"
      },
      "source": [
        "X = np.array([[10,5,2], [8,3,1], [11,4,4], [10,2,2], [5,2,5], [2,3,4], [1,2,3], [12,5,3], [4,3,2], [1,2,1]])\n",
        "y = np.array([1,2,1,3,1,2,1,2,3,1])"
      ],
      "execution_count": 3,
      "outputs": []
    },
    {
      "cell_type": "code",
      "metadata": {
        "colab": {
          "base_uri": "https://localhost:8080/"
        },
        "id": "WLzSz2rwJgFp",
        "outputId": "3495ff84-b0f3-41a7-bc3b-33830876c4f3"
      },
      "source": [
        "#resample\n",
        "splits = resample(X,y, replace=True, n_samples=4)\n",
        "splits"
      ],
      "execution_count": 5,
      "outputs": [
        {
          "output_type": "execute_result",
          "data": {
            "text/plain": [
              "[array([[10,  5,  2],\n",
              "        [11,  4,  4],\n",
              "        [ 8,  3,  1],\n",
              "        [ 1,  2,  1]]), array([1, 1, 2, 1])]"
            ]
          },
          "metadata": {},
          "execution_count": 5
        }
      ]
    },
    {
      "cell_type": "code",
      "metadata": {
        "colab": {
          "base_uri": "https://localhost:8080/"
        },
        "id": "OGyjMIRJugn7",
        "outputId": "1ed79546-f819-4e46-a310-5bbc1289f014"
      },
      "source": [
        "resample(X,y, replace=True, n_samples=4)"
      ],
      "execution_count": 6,
      "outputs": [
        {
          "output_type": "execute_result",
          "data": {
            "text/plain": [
              "[array([[ 1,  2,  1],\n",
              "        [11,  4,  4],\n",
              "        [ 2,  3,  4],\n",
              "        [ 8,  3,  1]]), array([1, 1, 2, 2])]"
            ]
          },
          "metadata": {},
          "execution_count": 6
        }
      ]
    }
  ]
}