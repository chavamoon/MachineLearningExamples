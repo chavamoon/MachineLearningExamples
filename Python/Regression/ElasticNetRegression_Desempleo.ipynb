{
  "nbformat": 4,
  "nbformat_minor": 0,
  "metadata": {
    "colab": {
      "name": "ElasticNetRegression_Desempleo.ipynb",
      "provenance": [],
      "authorship_tag": "ABX9TyN6zDH296cOWoAUvktQFetr",
      "include_colab_link": true
    },
    "kernelspec": {
      "name": "python3",
      "display_name": "Python 3"
    },
    "language_info": {
      "name": "python"
    }
  },
  "cells": [
    {
      "cell_type": "markdown",
      "metadata": {
        "id": "view-in-github",
        "colab_type": "text"
      },
      "source": [
        "<a href=\"https://colab.research.google.com/github/chavamoon/MachineLearningExamples/blob/main/Python/Regression/ElasticNetRegression_Desempleo.ipynb\" target=\"_parent\"><img src=\"https://colab.research.google.com/assets/colab-badge.svg\" alt=\"Open In Colab\"/></a>"
      ]
    },
    {
      "cell_type": "code",
      "metadata": {
        "id": "PM9Ip-53Za9B"
      },
      "source": [
        "import pandas as pd\n",
        "import numpy as np\n",
        "import matplotlib.pyplot as plt\n",
        "import seaborn as sns\n",
        "import pylab\n",
        "import scipy.stats as stats\n",
        "\n",
        "from sklearn.linear_model import ElasticNetCV\n",
        "from sklearn.model_selection import train_test_split\n",
        "from sklearn.metrics import mean_absolute_error, mean_squared_error"
      ],
      "execution_count": 18,
      "outputs": []
    },
    {
      "cell_type": "markdown",
      "metadata": {
        "id": "6vkzJjKWcsRG"
      },
      "source": [
        "**Descripción**: \n",
        "\n",
        "En un estudio de 50 personas se obtuvieron datos de variables que pueden estar relacionadas con el número de semanas que está desempleado un trabajador de la industria manugfacturera.\n",
        "\n",
        "La varaible dependiente de estudio **(weeks_unemployed)** se definió como el número de semanas que un emplemado está desempleado debido a un despido.\n",
        "\n",
        "En este estudio se usaron las siguientes variables independiente:\n",
        "\n",
        "* age: Edad del trabajador\n",
        "* education_years: Número de anios de estudio\n",
        "* married: Si está casado o no\n",
        "* head_of_family: Si es cabeza de familia.\n",
        "* years_of_prev_work: Número de años en el trabajo anterior.\n",
        "* manager: Si su ocupación es en administración\n",
        "* sales: Si su ocupación es en ventas"
      ]
    },
    {
      "cell_type": "markdown",
      "metadata": {
        "id": "4Ie6O_v9aoq4"
      },
      "source": [
        "# **1. CARGA DE DATOS**"
      ]
    },
    {
      "cell_type": "code",
      "metadata": {
        "id": "E2Afr7FYaxPw"
      },
      "source": [
        "# Random seed for making the experiment reproducible \n",
        "np.random.seed(200728)"
      ],
      "execution_count": 3,
      "outputs": []
    },
    {
      "cell_type": "code",
      "metadata": {
        "id": "C_0lJvZtZfKD"
      },
      "source": [
        "desempleo_dataset = pd.read_csv(\"datos_desempleo.csv\")\n"
      ],
      "execution_count": 4,
      "outputs": []
    },
    {
      "cell_type": "markdown",
      "metadata": {
        "id": "nfRjX1b6cM9W"
      },
      "source": [
        "# **2. EDA**"
      ]
    },
    {
      "cell_type": "code",
      "metadata": {
        "colab": {
          "base_uri": "https://localhost:8080/",
          "height": 203
        },
        "id": "3EPlvyy5cVtl",
        "outputId": "69a942e2-c546-4d82-c14b-1542397a660a"
      },
      "source": [
        "desempleo_dataset.head()"
      ],
      "execution_count": 5,
      "outputs": [
        {
          "output_type": "execute_result",
          "data": {
            "text/html": [
              "<div>\n",
              "<style scoped>\n",
              "    .dataframe tbody tr th:only-of-type {\n",
              "        vertical-align: middle;\n",
              "    }\n",
              "\n",
              "    .dataframe tbody tr th {\n",
              "        vertical-align: top;\n",
              "    }\n",
              "\n",
              "    .dataframe thead th {\n",
              "        text-align: right;\n",
              "    }\n",
              "</style>\n",
              "<table border=\"1\" class=\"dataframe\">\n",
              "  <thead>\n",
              "    <tr style=\"text-align: right;\">\n",
              "      <th></th>\n",
              "      <th>weeks_unemployed</th>\n",
              "      <th>age</th>\n",
              "      <th>education_years</th>\n",
              "      <th>married</th>\n",
              "      <th>head_of_family</th>\n",
              "      <th>years_of_prev_work</th>\n",
              "      <th>manager</th>\n",
              "      <th>sales</th>\n",
              "    </tr>\n",
              "  </thead>\n",
              "  <tbody>\n",
              "    <tr>\n",
              "      <th>0</th>\n",
              "      <td>37</td>\n",
              "      <td>30</td>\n",
              "      <td>14</td>\n",
              "      <td>1</td>\n",
              "      <td>1</td>\n",
              "      <td>1</td>\n",
              "      <td>0</td>\n",
              "      <td>0</td>\n",
              "    </tr>\n",
              "    <tr>\n",
              "      <th>1</th>\n",
              "      <td>62</td>\n",
              "      <td>27</td>\n",
              "      <td>14</td>\n",
              "      <td>1</td>\n",
              "      <td>0</td>\n",
              "      <td>6</td>\n",
              "      <td>0</td>\n",
              "      <td>0</td>\n",
              "    </tr>\n",
              "    <tr>\n",
              "      <th>2</th>\n",
              "      <td>49</td>\n",
              "      <td>32</td>\n",
              "      <td>10</td>\n",
              "      <td>0</td>\n",
              "      <td>1</td>\n",
              "      <td>11</td>\n",
              "      <td>0</td>\n",
              "      <td>0</td>\n",
              "    </tr>\n",
              "    <tr>\n",
              "      <th>3</th>\n",
              "      <td>73</td>\n",
              "      <td>44</td>\n",
              "      <td>11</td>\n",
              "      <td>1</td>\n",
              "      <td>0</td>\n",
              "      <td>2</td>\n",
              "      <td>0</td>\n",
              "      <td>0</td>\n",
              "    </tr>\n",
              "    <tr>\n",
              "      <th>4</th>\n",
              "      <td>8</td>\n",
              "      <td>21</td>\n",
              "      <td>14</td>\n",
              "      <td>1</td>\n",
              "      <td>1</td>\n",
              "      <td>2</td>\n",
              "      <td>0</td>\n",
              "      <td>0</td>\n",
              "    </tr>\n",
              "  </tbody>\n",
              "</table>\n",
              "</div>"
            ],
            "text/plain": [
              "   weeks_unemployed  age  education_years  ...  years_of_prev_work  manager  sales\n",
              "0                37   30               14  ...                   1        0      0\n",
              "1                62   27               14  ...                   6        0      0\n",
              "2                49   32               10  ...                  11        0      0\n",
              "3                73   44               11  ...                   2        0      0\n",
              "4                 8   21               14  ...                   2        0      0\n",
              "\n",
              "[5 rows x 8 columns]"
            ]
          },
          "metadata": {
            "tags": []
          },
          "execution_count": 5
        }
      ]
    },
    {
      "cell_type": "code",
      "metadata": {
        "colab": {
          "base_uri": "https://localhost:8080/"
        },
        "id": "O9HVokB2cf5Q",
        "outputId": "12e4913e-a6a2-4b32-b2a8-0dcfaac5fe29"
      },
      "source": [
        "desempleo_dataset.shape"
      ],
      "execution_count": 6,
      "outputs": [
        {
          "output_type": "execute_result",
          "data": {
            "text/plain": [
              "(45, 8)"
            ]
          },
          "metadata": {
            "tags": []
          },
          "execution_count": 6
        }
      ]
    },
    {
      "cell_type": "code",
      "metadata": {
        "colab": {
          "base_uri": "https://localhost:8080/",
          "height": 295
        },
        "id": "FmvzhUyPdNDZ",
        "outputId": "ca553a9e-605b-4565-fe68-37432efe2a75"
      },
      "source": [
        "desempleo_dataset.describe()"
      ],
      "execution_count": 7,
      "outputs": [
        {
          "output_type": "execute_result",
          "data": {
            "text/html": [
              "<div>\n",
              "<style scoped>\n",
              "    .dataframe tbody tr th:only-of-type {\n",
              "        vertical-align: middle;\n",
              "    }\n",
              "\n",
              "    .dataframe tbody tr th {\n",
              "        vertical-align: top;\n",
              "    }\n",
              "\n",
              "    .dataframe thead th {\n",
              "        text-align: right;\n",
              "    }\n",
              "</style>\n",
              "<table border=\"1\" class=\"dataframe\">\n",
              "  <thead>\n",
              "    <tr style=\"text-align: right;\">\n",
              "      <th></th>\n",
              "      <th>weeks_unemployed</th>\n",
              "      <th>age</th>\n",
              "      <th>education_years</th>\n",
              "      <th>married</th>\n",
              "      <th>head_of_family</th>\n",
              "      <th>years_of_prev_work</th>\n",
              "      <th>manager</th>\n",
              "      <th>sales</th>\n",
              "    </tr>\n",
              "  </thead>\n",
              "  <tbody>\n",
              "    <tr>\n",
              "      <th>count</th>\n",
              "      <td>45.000000</td>\n",
              "      <td>45.000000</td>\n",
              "      <td>45.000000</td>\n",
              "      <td>45.000000</td>\n",
              "      <td>45.000000</td>\n",
              "      <td>45.000000</td>\n",
              "      <td>45.000000</td>\n",
              "      <td>45.000000</td>\n",
              "    </tr>\n",
              "    <tr>\n",
              "      <th>mean</th>\n",
              "      <td>46.733333</td>\n",
              "      <td>34.911111</td>\n",
              "      <td>13.266667</td>\n",
              "      <td>0.711111</td>\n",
              "      <td>0.711111</td>\n",
              "      <td>8.666667</td>\n",
              "      <td>0.088889</td>\n",
              "      <td>0.177778</td>\n",
              "    </tr>\n",
              "    <tr>\n",
              "      <th>std</th>\n",
              "      <td>22.404748</td>\n",
              "      <td>9.282981</td>\n",
              "      <td>2.605937</td>\n",
              "      <td>0.458368</td>\n",
              "      <td>0.458368</td>\n",
              "      <td>6.007571</td>\n",
              "      <td>0.287799</td>\n",
              "      <td>0.386646</td>\n",
              "    </tr>\n",
              "    <tr>\n",
              "      <th>min</th>\n",
              "      <td>8.000000</td>\n",
              "      <td>20.000000</td>\n",
              "      <td>7.000000</td>\n",
              "      <td>0.000000</td>\n",
              "      <td>0.000000</td>\n",
              "      <td>1.000000</td>\n",
              "      <td>0.000000</td>\n",
              "      <td>0.000000</td>\n",
              "    </tr>\n",
              "    <tr>\n",
              "      <th>25%</th>\n",
              "      <td>30.000000</td>\n",
              "      <td>28.000000</td>\n",
              "      <td>12.000000</td>\n",
              "      <td>0.000000</td>\n",
              "      <td>0.000000</td>\n",
              "      <td>6.000000</td>\n",
              "      <td>0.000000</td>\n",
              "      <td>0.000000</td>\n",
              "    </tr>\n",
              "    <tr>\n",
              "      <th>50%</th>\n",
              "      <td>44.000000</td>\n",
              "      <td>33.000000</td>\n",
              "      <td>13.000000</td>\n",
              "      <td>1.000000</td>\n",
              "      <td>1.000000</td>\n",
              "      <td>8.000000</td>\n",
              "      <td>0.000000</td>\n",
              "      <td>0.000000</td>\n",
              "    </tr>\n",
              "    <tr>\n",
              "      <th>75%</th>\n",
              "      <td>62.000000</td>\n",
              "      <td>40.000000</td>\n",
              "      <td>15.000000</td>\n",
              "      <td>1.000000</td>\n",
              "      <td>1.000000</td>\n",
              "      <td>11.000000</td>\n",
              "      <td>0.000000</td>\n",
              "      <td>0.000000</td>\n",
              "    </tr>\n",
              "    <tr>\n",
              "      <th>max</th>\n",
              "      <td>98.000000</td>\n",
              "      <td>62.000000</td>\n",
              "      <td>18.000000</td>\n",
              "      <td>1.000000</td>\n",
              "      <td>1.000000</td>\n",
              "      <td>30.000000</td>\n",
              "      <td>1.000000</td>\n",
              "      <td>1.000000</td>\n",
              "    </tr>\n",
              "  </tbody>\n",
              "</table>\n",
              "</div>"
            ],
            "text/plain": [
              "       weeks_unemployed        age  ...    manager      sales\n",
              "count         45.000000  45.000000  ...  45.000000  45.000000\n",
              "mean          46.733333  34.911111  ...   0.088889   0.177778\n",
              "std           22.404748   9.282981  ...   0.287799   0.386646\n",
              "min            8.000000  20.000000  ...   0.000000   0.000000\n",
              "25%           30.000000  28.000000  ...   0.000000   0.000000\n",
              "50%           44.000000  33.000000  ...   0.000000   0.000000\n",
              "75%           62.000000  40.000000  ...   0.000000   0.000000\n",
              "max           98.000000  62.000000  ...   1.000000   1.000000\n",
              "\n",
              "[8 rows x 8 columns]"
            ]
          },
          "metadata": {
            "tags": []
          },
          "execution_count": 7
        }
      ]
    },
    {
      "cell_type": "markdown",
      "metadata": {
        "id": "e5KOl8Yef-xd"
      },
      "source": [
        "Revisar correlación entre variables"
      ]
    },
    {
      "cell_type": "code",
      "metadata": {
        "colab": {
          "base_uri": "https://localhost:8080/",
          "height": 1000
        },
        "id": "-QJ1P-yKfGWO",
        "outputId": "eaf24452-5d44-4455-f6f1-f3fe36860ebb"
      },
      "source": [
        "#checking correlation between variables\n",
        "sns.pairplot(desempleo_dataset)"
      ],
      "execution_count": 9,
      "outputs": [
        {
          "output_type": "execute_result",
          "data": {
            "text/plain": [
              "<seaborn.axisgrid.PairGrid at 0x7f59100e0e50>"
            ]
          },
          "metadata": {
            "tags": []
          },
          "execution_count": 9
        },
        {
          "output_type": "display_data",
          "data": {
            "image/png": "[encoded data removed]",
            "text/plain": [
              "<Figure size 1440x1440 with 72 Axes>"
            ]
          },
          "metadata": {
            "tags": [],
            "needs_background": "light"
          }
        }
      ]
    },
    {
      "cell_type": "code",
      "metadata": {
        "colab": {
          "base_uri": "https://localhost:8080/",
          "height": 295
        },
        "id": "kxREIuWcfgto",
        "outputId": "732d1608-afe6-48b4-d9cf-6752d47d563a"
      },
      "source": [
        "#Correlation matrix\n",
        "desempleo_dataset.corr()"
      ],
      "execution_count": 10,
      "outputs": [
        {
          "output_type": "execute_result",
          "data": {
            "text/html": [
              "<div>\n",
              "<style scoped>\n",
              "    .dataframe tbody tr th:only-of-type {\n",
              "        vertical-align: middle;\n",
              "    }\n",
              "\n",
              "    .dataframe tbody tr th {\n",
              "        vertical-align: top;\n",
              "    }\n",
              "\n",
              "    .dataframe thead th {\n",
              "        text-align: right;\n",
              "    }\n",
              "</style>\n",
              "<table border=\"1\" class=\"dataframe\">\n",
              "  <thead>\n",
              "    <tr style=\"text-align: right;\">\n",
              "      <th></th>\n",
              "      <th>weeks_unemployed</th>\n",
              "      <th>age</th>\n",
              "      <th>education_years</th>\n",
              "      <th>married</th>\n",
              "      <th>head_of_family</th>\n",
              "      <th>years_of_prev_work</th>\n",
              "      <th>manager</th>\n",
              "      <th>sales</th>\n",
              "    </tr>\n",
              "  </thead>\n",
              "  <tbody>\n",
              "    <tr>\n",
              "      <th>weeks_unemployed</th>\n",
              "      <td>1.000000</td>\n",
              "      <td>0.613680</td>\n",
              "      <td>0.140602</td>\n",
              "      <td>-0.211273</td>\n",
              "      <td>-0.332992</td>\n",
              "      <td>0.370463</td>\n",
              "      <td>-0.197146</td>\n",
              "      <td>-0.125582</td>\n",
              "    </tr>\n",
              "    <tr>\n",
              "      <th>age</th>\n",
              "      <td>0.613680</td>\n",
              "      <td>1.000000</td>\n",
              "      <td>0.147564</td>\n",
              "      <td>-0.209141</td>\n",
              "      <td>-0.022196</td>\n",
              "      <td>0.448964</td>\n",
              "      <td>0.054066</td>\n",
              "      <td>0.124812</td>\n",
              "    </tr>\n",
              "    <tr>\n",
              "      <th>education_years</th>\n",
              "      <td>0.140602</td>\n",
              "      <td>0.147564</td>\n",
              "      <td>1.000000</td>\n",
              "      <td>-0.219444</td>\n",
              "      <td>-0.048202</td>\n",
              "      <td>0.204693</td>\n",
              "      <td>0.119194</td>\n",
              "      <td>0.132331</td>\n",
              "    </tr>\n",
              "    <tr>\n",
              "      <th>married</th>\n",
              "      <td>-0.211273</td>\n",
              "      <td>-0.209141</td>\n",
              "      <td>-0.219444</td>\n",
              "      <td>1.000000</td>\n",
              "      <td>-0.406250</td>\n",
              "      <td>-0.085285</td>\n",
              "      <td>0.026800</td>\n",
              "      <td>-0.088342</td>\n",
              "    </tr>\n",
              "    <tr>\n",
              "      <th>head_of_family</th>\n",
              "      <td>-0.332992</td>\n",
              "      <td>-0.022196</td>\n",
              "      <td>-0.048202</td>\n",
              "      <td>-0.406250</td>\n",
              "      <td>1.000000</td>\n",
              "      <td>-0.077032</td>\n",
              "      <td>-0.145484</td>\n",
              "      <td>-0.088342</td>\n",
              "    </tr>\n",
              "    <tr>\n",
              "      <th>years_of_prev_work</th>\n",
              "      <td>0.370463</td>\n",
              "      <td>0.448964</td>\n",
              "      <td>0.204693</td>\n",
              "      <td>-0.085285</td>\n",
              "      <td>-0.077032</td>\n",
              "      <td>1.000000</td>\n",
              "      <td>-0.140213</td>\n",
              "      <td>0.084798</td>\n",
              "    </tr>\n",
              "    <tr>\n",
              "      <th>manager</th>\n",
              "      <td>-0.197146</td>\n",
              "      <td>0.054066</td>\n",
              "      <td>0.119194</td>\n",
              "      <td>0.026800</td>\n",
              "      <td>-0.145484</td>\n",
              "      <td>-0.140213</td>\n",
              "      <td>1.000000</td>\n",
              "      <td>-0.145239</td>\n",
              "    </tr>\n",
              "    <tr>\n",
              "      <th>sales</th>\n",
              "      <td>-0.125582</td>\n",
              "      <td>0.124812</td>\n",
              "      <td>0.132331</td>\n",
              "      <td>-0.088342</td>\n",
              "      <td>-0.088342</td>\n",
              "      <td>0.084798</td>\n",
              "      <td>-0.145239</td>\n",
              "      <td>1.000000</td>\n",
              "    </tr>\n",
              "  </tbody>\n",
              "</table>\n",
              "</div>"
            ],
            "text/plain": [
              "                    weeks_unemployed       age  ...   manager     sales\n",
              "weeks_unemployed            1.000000  0.613680  ... -0.197146 -0.125582\n",
              "age                         0.613680  1.000000  ...  0.054066  0.124812\n",
              "education_years             0.140602  0.147564  ...  0.119194  0.132331\n",
              "married                    -0.211273 -0.209141  ...  0.026800 -0.088342\n",
              "head_of_family             -0.332992 -0.022196  ... -0.145484 -0.088342\n",
              "years_of_prev_work          0.370463  0.448964  ... -0.140213  0.084798\n",
              "manager                    -0.197146  0.054066  ...  1.000000 -0.145239\n",
              "sales                      -0.125582  0.124812  ... -0.145239  1.000000\n",
              "\n",
              "[8 rows x 8 columns]"
            ]
          },
          "metadata": {
            "tags": []
          },
          "execution_count": 10
        }
      ]
    },
    {
      "cell_type": "markdown",
      "metadata": {
        "id": "Ymdpi8RvgIZl"
      },
      "source": [
        "Insuline and bmi are the best candidates for predicting glucose, in this example we will use bmi to predict glucose"
      ]
    },
    {
      "cell_type": "code",
      "metadata": {
        "id": "RY1FlN4bggwe"
      },
      "source": [
        "X = desempleo_dataset[['age', 'education_years', 'married', 'head_of_family', 'years_of_prev_work', 'manager', 'sales']]\n",
        "y = desempleo_dataset[['weeks_unemployed']]"
      ],
      "execution_count": 22,
      "outputs": []
    },
    {
      "cell_type": "code",
      "metadata": {
        "id": "noaQyrzIiv6V"
      },
      "source": [
        "X_train, X_test, y_train, y_test = train_test_split(X, y, test_size=0.3)"
      ],
      "execution_count": 15,
      "outputs": []
    },
    {
      "cell_type": "code",
      "metadata": {
        "colab": {
          "base_uri": "https://localhost:8080/"
        },
        "id": "jW-Hfq6Tj2T1",
        "outputId": "edf0868e-f115-4124-b0d9-685381e73d78"
      },
      "source": [
        "print(\"Shape of X_train: \" , X_train.shape, \". Shape of X_test\" , X_test.shape)"
      ],
      "execution_count": 16,
      "outputs": [
        {
          "output_type": "stream",
          "text": [
            "Shape of X_train:  (31, 7) . Shape of X_test (14, 7)\n"
          ],
          "name": "stdout"
        }
      ]
    },
    {
      "cell_type": "code",
      "metadata": {
        "colab": {
          "base_uri": "https://localhost:8080/"
        },
        "id": "NLBwqPrLka5s",
        "outputId": "a572f5d0-2fc1-41b4-e52c-ae4efe777de3"
      },
      "source": [
        "print(\"Shape of y_train: \" , y_train.shape, \". Shape of y_test\" , y_test.shape)"
      ],
      "execution_count": 17,
      "outputs": [
        {
          "output_type": "stream",
          "text": [
            "Shape of y_train:  (31, 1) . Shape of y_test (14, 1)\n"
          ],
          "name": "stdout"
        }
      ]
    },
    {
      "cell_type": "markdown",
      "metadata": {
        "id": "R_4M08PPk035"
      },
      "source": [
        "# **3. ENTRENAMIENTO**"
      ]
    },
    {
      "cell_type": "code",
      "metadata": {
        "id": "9n6d6PiHlAjW"
      },
      "source": [
        "lr = ElasticNetCV()"
      ],
      "execution_count": 19,
      "outputs": []
    },
    {
      "cell_type": "code",
      "metadata": {
        "id": "lyTwvgUqlEf8",
        "colab": {
          "base_uri": "https://localhost:8080/"
        },
        "outputId": "6ffd76d9-0d0f-4007-8df7-a01c223572d0"
      },
      "source": [
        "# Send training values to LinearRegression\n",
        "m_lr = lr.fit(X_train, y_train)"
      ],
      "execution_count": 23,
      "outputs": [
        {
          "output_type": "stream",
          "text": [
            "/usr/local/lib/python3.7/dist-packages/sklearn/linear_model/_coordinate_descent.py:1088: DataConversionWarning: A column-vector y was passed when a 1d array was expected. Please change the shape of y to (n_samples, ), for example using ravel().\n",
            "  y = column_or_1d(y, warn=True)\n"
          ],
          "name": "stderr"
        }
      ]
    },
    {
      "cell_type": "markdown",
      "metadata": {
        "id": "4NXFvqghl5DG"
      },
      "source": [
        "Getting betas and intercept"
      ]
    },
    {
      "cell_type": "code",
      "metadata": {
        "colab": {
          "base_uri": "https://localhost:8080/"
        },
        "id": "3BISuEyjl9m1",
        "outputId": "8deb637c-cb99-489e-c057-485900d308ac"
      },
      "source": [
        "# Betas\n",
        "m_lr.coef_"
      ],
      "execution_count": 24,
      "outputs": [
        {
          "output_type": "execute_result",
          "data": {
            "text/plain": [
              "array([ 1.33470991,  0.7357316 , -3.56033873, -8.72444089,  0.23622775,\n",
              "       -9.16565002, -8.31912395])"
            ]
          },
          "metadata": {
            "tags": []
          },
          "execution_count": 24
        }
      ]
    },
    {
      "cell_type": "code",
      "metadata": {
        "colab": {
          "base_uri": "https://localhost:8080/"
        },
        "id": "3BLUWww1mO79",
        "outputId": "aa711b13-58b1-4070-aac9-3b8c1d43f6fb"
      },
      "source": [
        "#Intercept\n",
        "m_lr.intercept_"
      ],
      "execution_count": 25,
      "outputs": [
        {
          "output_type": "execute_result",
          "data": {
            "text/plain": [
              "0.578995286619552"
            ]
          },
          "metadata": {
            "tags": []
          },
          "execution_count": 25
        }
      ]
    },
    {
      "cell_type": "markdown",
      "metadata": {
        "id": "Kb2tNkZCmliU"
      },
      "source": [
        "# **4. Predicciones**"
      ]
    },
    {
      "cell_type": "code",
      "metadata": {
        "id": "3ZG9Ho00mnyV"
      },
      "source": [
        "predictions = m_lr.predict(X_test)"
      ],
      "execution_count": 26,
      "outputs": []
    },
    {
      "cell_type": "code",
      "metadata": {
        "colab": {
          "base_uri": "https://localhost:8080/"
        },
        "id": "0kW8_sALm4Wu",
        "outputId": "40192fe6-e7e4-4ec4-c2c1-754d270a1365"
      },
      "source": [
        "#last_five predictions\n",
        "predictions[:5]"
      ],
      "execution_count": 27,
      "outputs": [
        {
          "output_type": "execute_result",
          "data": {
            "text/plain": [
              "array([38.87198316, 43.93601634, 41.57655026, 49.38586081, 49.87016289])"
            ]
          },
          "metadata": {
            "tags": []
          },
          "execution_count": 27
        }
      ]
    },
    {
      "cell_type": "markdown",
      "metadata": {
        "id": "mBoXAtqunCK2"
      },
      "source": [
        "**4. PERFORMANCE METRICS**"
      ]
    },
    {
      "cell_type": "code",
      "metadata": {
        "colab": {
          "base_uri": "https://localhost:8080/"
        },
        "id": "Zq7pc_cmnIpE",
        "outputId": "e7b61b0f-131b-479d-9669-d4262d613f0d"
      },
      "source": [
        "#MAE\n",
        "mean_absolute_error(y_test, predictions)"
      ],
      "execution_count": 28,
      "outputs": [
        {
          "output_type": "execute_result",
          "data": {
            "text/plain": [
              "12.750307394656074"
            ]
          },
          "metadata": {
            "tags": []
          },
          "execution_count": 28
        }
      ]
    },
    {
      "cell_type": "code",
      "metadata": {
        "colab": {
          "base_uri": "https://localhost:8080/"
        },
        "id": "xBZxNnJjntS_",
        "outputId": "3dc8f9df-9836-469f-d0f6-72db006ee62c"
      },
      "source": [
        "#RMSE\n",
        "mean_squared_error(y_test, predictions, squared=False)"
      ],
      "execution_count": 29,
      "outputs": [
        {
          "output_type": "execute_result",
          "data": {
            "text/plain": [
              "15.200997242387372"
            ]
          },
          "metadata": {
            "tags": []
          },
          "execution_count": 29
        }
      ]
    },
    {
      "cell_type": "markdown",
      "metadata": {
        "id": "RJHI8IkToQEA"
      },
      "source": [
        "**5.RESIDUALS**"
      ]
    },
    {
      "cell_type": "code",
      "metadata": {
        "id": "KX85_EcIoV0n"
      },
      "source": [
        "residuals = y_test.weeks_unemployed - predictions"
      ],
      "execution_count": 34,
      "outputs": []
    },
    {
      "cell_type": "code",
      "metadata": {
        "id": "U3ycYy7XpZSl"
      },
      "source": [
        " # predictions to 231 single array\n",
        "df_residuals = pd.DataFrame({'y_test': y_test['weeks_unemployed'], 'predictions': predictions, 'residuals': residuals})\n"
      ],
      "execution_count": 39,
      "outputs": []
    },
    {
      "cell_type": "code",
      "metadata": {
        "colab": {
          "base_uri": "https://localhost:8080/",
          "height": 296
        },
        "id": "IGXT_B9Rq9B_",
        "outputId": "413b7cc9-6f38-4488-d67d-73a65d0b6cdd"
      },
      "source": [
        "#Dots should be centered in zero and have constants variance (no pattern)\n",
        "sns.scatterplot(x=\"predictions\", y=\"residuals\", data=df_residuals)"
      ],
      "execution_count": 40,
      "outputs": [
        {
          "output_type": "execute_result",
          "data": {
            "text/plain": [
              "<matplotlib.axes._subplots.AxesSubplot at 0x7f5903f40c50>"
            ]
          },
          "metadata": {
            "tags": []
          },
          "execution_count": 40
        },
        {
          "output_type": "display_data",
          "data": {
            "image/png": "[encoded data removed]",
            "text/plain": [
              "<Figure size 432x288 with 1 Axes>"
            ]
          },
          "metadata": {
            "tags": [],
            "needs_background": "light"
          }
        }
      ]
    },
    {
      "cell_type": "markdown",
      "metadata": {
        "id": "U5GVS2s5vGkY"
      },
      "source": [
        "**5. QQPLOT**"
      ]
    },
    {
      "cell_type": "code",
      "metadata": {
        "colab": {
          "base_uri": "https://localhost:8080/",
          "height": 295
        },
        "id": "zqGzQXJ0vokE",
        "outputId": "c49db7c2-d9d5-42fc-9d37-7a1585320199"
      },
      "source": [
        "# Must follow 45 degrees line\n",
        "stats.probplot(residuals, dist='norm', plot=pylab)\n",
        "pylab.show()"
      ],
      "execution_count": 41,
      "outputs": [
        {
          "output_type": "display_data",
          "data": {
            "image/png": "[encoded data removed]",
            "text/plain": [
              "<Figure size 432x288 with 1 Axes>"
            ]
          },
          "metadata": {
            "tags": [],
            "needs_background": "light"
          }
        }
      ]
    }
  ]
}