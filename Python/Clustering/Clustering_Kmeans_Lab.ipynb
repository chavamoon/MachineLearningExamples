{
 "cells": [
  {
   "cell_type": "code",
   "execution_count": 29,
   "id": "7b6a1a96",
   "metadata": {},
   "outputs": [],
   "source": [
    "import pandas as pd\n",
    "import numpy as np\n",
    "import matplotlib.pyplot as plt\n",
    "import seaborn as sns\n",
    "from sklearn.cluster import KMeans\n",
    "from sklearn.preprocessing import scale"
   ]
  },
  {
   "cell_type": "markdown",
   "id": "da0e3b07",
   "metadata": {},
   "source": [
    "# Descripción\n",
    "\n",
    "Contamos con los datos de temperatura y humedad de varios aparatos eléctricos y electrónicos -appliances- de varios hogares de una región de Bélgica recolectados por cuatro meses y medio cada 10 minutos. \n",
    "\n",
    "Queremos predecir el consumo de energía en Wh que un aparato eléctrico/electrónico tendrá en cierto momento, esta variable corresponde a la variable -appliances-.\n",
    "\n",
    "El conjunto de datos tiene las siguientes variables:\n",
    "\n",
    "* date: Año, mes, día, hora, minuto y segundo del evento\n",
    "* appliances: Energía utilizada en Wh\n",
    "* lights: Energía utilizada en luz por la casa en Wh\n",
    "* T1: Temperatura en la cocina en grados celsius \n",
    "* RH_1: Humedad en la cocina en porcentaje \n",
    "* T2: Temperatura en la sala en grados celsius\n",
    "* RH_2: Humedad en la sala en porcentaje\n",
    "* T3: Temperatura en el cuarto de lavado en grados celsius\n",
    "* RH_3: Humedad en el cuarto de lavado en porcentaje\n",
    "* T4: Temperatura en el cuarto de oficina en grados celsius\n",
    "* RH_4: Humedad en el cuarto de oficina en porcentaje\n",
    "* T5: Temperatura en el baño en grados celsius\n",
    "* RH_5: Humedad en el baño en porcentaje \n",
    "* T6: Temperatura afuera del edificio (lado norte) en grados celsius\n",
    "* RH_6: Humedad afuera del edificio (lado norte) en porcentaje\n",
    "* T7: Temperatura en el cuarto de planchado en grados celsius\n",
    "* RH_7: Humedad en el cuarto de planchado en el porcentaje\n",
    "* T8: Temperatura en el cuarto de hijo 2 en grados celsius\n",
    "* RH_8: Humedad en el cuarto de hijo 2 en porcentaje\n",
    "* T9: Temperatura en el cuarto de los padres en grados celsius\n",
    "* RH_9: Humedad en el cuarto de los padres en porcentaje\n",
    "* To: Temperatura externa (de la estación de clima Chiervres) en grados celsius\n",
    "* Pressure: Presión en mm Hg desde la estación de clima Chievres\n",
    "* RH_out: Humedad externa desde la estación de clima Chievres en porcentaje\n",
    "* Wind speed: Velocidad del viento en m/s desde la estación de clima Chievres\n",
    "* Visibility: Visibilidad en km desde la estación de Chievres\n",
    "* Tdewpoint: Temperatura de punto de rocío desde la estación de Chievres en grados celsius ( °C)\n",
    "* rv1: Variable aleatoria 1, no dimensional\n",
    "* rv2: Variable aleatoria 2, no dimensional "
   ]
  },
  {
   "cell_type": "code",
   "execution_count": 3,
   "id": "b787c402",
   "metadata": {},
   "outputs": [],
   "source": [
    "np.random.seed(200929)"
   ]
  },
  {
   "cell_type": "markdown",
   "id": "fc5d6a83",
   "metadata": {},
   "source": [
    "## Data preparation"
   ]
  },
  {
   "cell_type": "code",
   "execution_count": 5,
   "id": "07b07277",
   "metadata": {},
   "outputs": [],
   "source": [
    "energy_dataset = pd.read_csv('https://raw.githubusercontent.com/chavamoon/MachineLearningExamples/main/Python/energydata_complete.csv')"
   ]
  },
  {
   "cell_type": "code",
   "execution_count": 7,
   "id": "ea856d74",
   "metadata": {},
   "outputs": [
    {
     "data": {
      "text/html": [
       "<div>\n",
       "<style scoped>\n",
       "    .dataframe tbody tr th:only-of-type {\n",
       "        vertical-align: middle;\n",
       "    }\n",
       "\n",
       "    .dataframe tbody tr th {\n",
       "        vertical-align: top;\n",
       "    }\n",
       "\n",
       "    .dataframe thead th {\n",
       "        text-align: right;\n",
       "    }\n",
       "</style>\n",
       "<table border=\"1\" class=\"dataframe\">\n",
       "  <thead>\n",
       "    <tr style=\"text-align: right;\">\n",
       "      <th></th>\n",
       "      <th>date</th>\n",
       "      <th>Appliances</th>\n",
       "      <th>lights</th>\n",
       "      <th>T1</th>\n",
       "      <th>RH_1</th>\n",
       "      <th>T2</th>\n",
       "      <th>RH_2</th>\n",
       "      <th>T3</th>\n",
       "      <th>RH_3</th>\n",
       "      <th>T4</th>\n",
       "      <th>...</th>\n",
       "      <th>T9</th>\n",
       "      <th>RH_9</th>\n",
       "      <th>T_out</th>\n",
       "      <th>Press_mm_hg</th>\n",
       "      <th>RH_out</th>\n",
       "      <th>Windspeed</th>\n",
       "      <th>Visibility</th>\n",
       "      <th>Tdewpoint</th>\n",
       "      <th>rv1</th>\n",
       "      <th>rv2</th>\n",
       "    </tr>\n",
       "  </thead>\n",
       "  <tbody>\n",
       "    <tr>\n",
       "      <th>0</th>\n",
       "      <td>2016-01-11 17:00:00</td>\n",
       "      <td>60</td>\n",
       "      <td>30</td>\n",
       "      <td>19.89</td>\n",
       "      <td>47.596667</td>\n",
       "      <td>19.2</td>\n",
       "      <td>44.790000</td>\n",
       "      <td>19.79</td>\n",
       "      <td>44.730000</td>\n",
       "      <td>19.000000</td>\n",
       "      <td>...</td>\n",
       "      <td>17.033333</td>\n",
       "      <td>45.53</td>\n",
       "      <td>6.600000</td>\n",
       "      <td>733.5</td>\n",
       "      <td>92.0</td>\n",
       "      <td>7.000000</td>\n",
       "      <td>63.000000</td>\n",
       "      <td>5.3</td>\n",
       "      <td>13.275433</td>\n",
       "      <td>13.275433</td>\n",
       "    </tr>\n",
       "    <tr>\n",
       "      <th>1</th>\n",
       "      <td>2016-01-11 17:10:00</td>\n",
       "      <td>60</td>\n",
       "      <td>30</td>\n",
       "      <td>19.89</td>\n",
       "      <td>46.693333</td>\n",
       "      <td>19.2</td>\n",
       "      <td>44.722500</td>\n",
       "      <td>19.79</td>\n",
       "      <td>44.790000</td>\n",
       "      <td>19.000000</td>\n",
       "      <td>...</td>\n",
       "      <td>17.066667</td>\n",
       "      <td>45.56</td>\n",
       "      <td>6.483333</td>\n",
       "      <td>733.6</td>\n",
       "      <td>92.0</td>\n",
       "      <td>6.666667</td>\n",
       "      <td>59.166667</td>\n",
       "      <td>5.2</td>\n",
       "      <td>18.606195</td>\n",
       "      <td>18.606195</td>\n",
       "    </tr>\n",
       "    <tr>\n",
       "      <th>2</th>\n",
       "      <td>2016-01-11 17:20:00</td>\n",
       "      <td>50</td>\n",
       "      <td>30</td>\n",
       "      <td>19.89</td>\n",
       "      <td>46.300000</td>\n",
       "      <td>19.2</td>\n",
       "      <td>44.626667</td>\n",
       "      <td>19.79</td>\n",
       "      <td>44.933333</td>\n",
       "      <td>18.926667</td>\n",
       "      <td>...</td>\n",
       "      <td>17.000000</td>\n",
       "      <td>45.50</td>\n",
       "      <td>6.366667</td>\n",
       "      <td>733.7</td>\n",
       "      <td>92.0</td>\n",
       "      <td>6.333333</td>\n",
       "      <td>55.333333</td>\n",
       "      <td>5.1</td>\n",
       "      <td>28.642668</td>\n",
       "      <td>28.642668</td>\n",
       "    </tr>\n",
       "    <tr>\n",
       "      <th>3</th>\n",
       "      <td>2016-01-11 17:30:00</td>\n",
       "      <td>50</td>\n",
       "      <td>40</td>\n",
       "      <td>19.89</td>\n",
       "      <td>46.066667</td>\n",
       "      <td>19.2</td>\n",
       "      <td>44.590000</td>\n",
       "      <td>19.79</td>\n",
       "      <td>45.000000</td>\n",
       "      <td>18.890000</td>\n",
       "      <td>...</td>\n",
       "      <td>17.000000</td>\n",
       "      <td>45.40</td>\n",
       "      <td>6.250000</td>\n",
       "      <td>733.8</td>\n",
       "      <td>92.0</td>\n",
       "      <td>6.000000</td>\n",
       "      <td>51.500000</td>\n",
       "      <td>5.0</td>\n",
       "      <td>45.410389</td>\n",
       "      <td>45.410389</td>\n",
       "    </tr>\n",
       "    <tr>\n",
       "      <th>4</th>\n",
       "      <td>2016-01-11 17:40:00</td>\n",
       "      <td>60</td>\n",
       "      <td>40</td>\n",
       "      <td>19.89</td>\n",
       "      <td>46.333333</td>\n",
       "      <td>19.2</td>\n",
       "      <td>44.530000</td>\n",
       "      <td>19.79</td>\n",
       "      <td>45.000000</td>\n",
       "      <td>18.890000</td>\n",
       "      <td>...</td>\n",
       "      <td>17.000000</td>\n",
       "      <td>45.40</td>\n",
       "      <td>6.133333</td>\n",
       "      <td>733.9</td>\n",
       "      <td>92.0</td>\n",
       "      <td>5.666667</td>\n",
       "      <td>47.666667</td>\n",
       "      <td>4.9</td>\n",
       "      <td>10.084097</td>\n",
       "      <td>10.084097</td>\n",
       "    </tr>\n",
       "  </tbody>\n",
       "</table>\n",
       "<p>5 rows × 29 columns</p>\n",
       "</div>"
      ],
      "text/plain": [
       "                  date  Appliances  lights     T1       RH_1    T2       RH_2  \\\n",
       "0  2016-01-11 17:00:00          60      30  19.89  47.596667  19.2  44.790000   \n",
       "1  2016-01-11 17:10:00          60      30  19.89  46.693333  19.2  44.722500   \n",
       "2  2016-01-11 17:20:00          50      30  19.89  46.300000  19.2  44.626667   \n",
       "3  2016-01-11 17:30:00          50      40  19.89  46.066667  19.2  44.590000   \n",
       "4  2016-01-11 17:40:00          60      40  19.89  46.333333  19.2  44.530000   \n",
       "\n",
       "      T3       RH_3         T4  ...         T9   RH_9     T_out  Press_mm_hg  \\\n",
       "0  19.79  44.730000  19.000000  ...  17.033333  45.53  6.600000        733.5   \n",
       "1  19.79  44.790000  19.000000  ...  17.066667  45.56  6.483333        733.6   \n",
       "2  19.79  44.933333  18.926667  ...  17.000000  45.50  6.366667        733.7   \n",
       "3  19.79  45.000000  18.890000  ...  17.000000  45.40  6.250000        733.8   \n",
       "4  19.79  45.000000  18.890000  ...  17.000000  45.40  6.133333        733.9   \n",
       "\n",
       "   RH_out  Windspeed  Visibility  Tdewpoint        rv1        rv2  \n",
       "0    92.0   7.000000   63.000000        5.3  13.275433  13.275433  \n",
       "1    92.0   6.666667   59.166667        5.2  18.606195  18.606195  \n",
       "2    92.0   6.333333   55.333333        5.1  28.642668  28.642668  \n",
       "3    92.0   6.000000   51.500000        5.0  45.410389  45.410389  \n",
       "4    92.0   5.666667   47.666667        4.9  10.084097  10.084097  \n",
       "\n",
       "[5 rows x 29 columns]"
      ]
     },
     "execution_count": 7,
     "metadata": {},
     "output_type": "execute_result"
    }
   ],
   "source": [
    "energy_dataset.head()"
   ]
  },
  {
   "cell_type": "code",
   "execution_count": 9,
   "id": "ccd1941b",
   "metadata": {},
   "outputs": [
    {
     "data": {
      "text/plain": [
       "date            object\n",
       "Appliances       int64\n",
       "lights           int64\n",
       "T1             float64\n",
       "RH_1           float64\n",
       "T2             float64\n",
       "RH_2           float64\n",
       "T3             float64\n",
       "RH_3           float64\n",
       "T4             float64\n",
       "RH_4           float64\n",
       "T5             float64\n",
       "RH_5           float64\n",
       "T6             float64\n",
       "RH_6           float64\n",
       "T7             float64\n",
       "RH_7           float64\n",
       "T8             float64\n",
       "RH_8           float64\n",
       "T9             float64\n",
       "RH_9           float64\n",
       "T_out          float64\n",
       "Press_mm_hg    float64\n",
       "RH_out         float64\n",
       "Windspeed      float64\n",
       "Visibility     float64\n",
       "Tdewpoint      float64\n",
       "rv1            float64\n",
       "rv2            float64\n",
       "dtype: object"
      ]
     },
     "execution_count": 9,
     "metadata": {},
     "output_type": "execute_result"
    }
   ],
   "source": [
    "energy_dataset.dtypes"
   ]
  },
  {
   "cell_type": "code",
   "execution_count": 10,
   "id": "57124239",
   "metadata": {},
   "outputs": [
    {
     "data": {
      "text/plain": [
       "(19735, 29)"
      ]
     },
     "execution_count": 10,
     "metadata": {},
     "output_type": "execute_result"
    }
   ],
   "source": [
    "energy_dataset.shape"
   ]
  },
  {
   "cell_type": "code",
   "execution_count": 16,
   "id": "bd673dd2",
   "metadata": {},
   "outputs": [],
   "source": [
    "# Split datetime into columns\n",
    "energy_dataset['year'] = pd.to_datetime(energy_dataset['date'],  infer_datetime_format=True).dt.year\n",
    "energy_dataset['month'] = pd.to_datetime(energy_dataset['date'],  infer_datetime_format=True).dt.month\n",
    "energy_dataset['day'] = pd.to_datetime(energy_dataset['date'],  infer_datetime_format=True).dt.day\n",
    "energy_dataset.drop(\"date\", inplace=True, axis=1)"
   ]
  },
  {
   "cell_type": "code",
   "execution_count": 17,
   "id": "48a6b434",
   "metadata": {},
   "outputs": [
    {
     "data": {
      "text/html": [
       "<div>\n",
       "<style scoped>\n",
       "    .dataframe tbody tr th:only-of-type {\n",
       "        vertical-align: middle;\n",
       "    }\n",
       "\n",
       "    .dataframe tbody tr th {\n",
       "        vertical-align: top;\n",
       "    }\n",
       "\n",
       "    .dataframe thead th {\n",
       "        text-align: right;\n",
       "    }\n",
       "</style>\n",
       "<table border=\"1\" class=\"dataframe\">\n",
       "  <thead>\n",
       "    <tr style=\"text-align: right;\">\n",
       "      <th></th>\n",
       "      <th>Appliances</th>\n",
       "      <th>lights</th>\n",
       "      <th>T1</th>\n",
       "      <th>RH_1</th>\n",
       "      <th>T2</th>\n",
       "      <th>RH_2</th>\n",
       "      <th>T3</th>\n",
       "      <th>RH_3</th>\n",
       "      <th>T4</th>\n",
       "      <th>RH_4</th>\n",
       "      <th>...</th>\n",
       "      <th>Press_mm_hg</th>\n",
       "      <th>RH_out</th>\n",
       "      <th>Windspeed</th>\n",
       "      <th>Visibility</th>\n",
       "      <th>Tdewpoint</th>\n",
       "      <th>rv1</th>\n",
       "      <th>rv2</th>\n",
       "      <th>year</th>\n",
       "      <th>month</th>\n",
       "      <th>day</th>\n",
       "    </tr>\n",
       "  </thead>\n",
       "  <tbody>\n",
       "    <tr>\n",
       "      <th>0</th>\n",
       "      <td>60</td>\n",
       "      <td>30</td>\n",
       "      <td>19.89</td>\n",
       "      <td>47.596667</td>\n",
       "      <td>19.2</td>\n",
       "      <td>44.790000</td>\n",
       "      <td>19.79</td>\n",
       "      <td>44.730000</td>\n",
       "      <td>19.000000</td>\n",
       "      <td>45.566667</td>\n",
       "      <td>...</td>\n",
       "      <td>733.5</td>\n",
       "      <td>92.0</td>\n",
       "      <td>7.000000</td>\n",
       "      <td>63.000000</td>\n",
       "      <td>5.3</td>\n",
       "      <td>13.275433</td>\n",
       "      <td>13.275433</td>\n",
       "      <td>2016</td>\n",
       "      <td>1</td>\n",
       "      <td>11</td>\n",
       "    </tr>\n",
       "    <tr>\n",
       "      <th>1</th>\n",
       "      <td>60</td>\n",
       "      <td>30</td>\n",
       "      <td>19.89</td>\n",
       "      <td>46.693333</td>\n",
       "      <td>19.2</td>\n",
       "      <td>44.722500</td>\n",
       "      <td>19.79</td>\n",
       "      <td>44.790000</td>\n",
       "      <td>19.000000</td>\n",
       "      <td>45.992500</td>\n",
       "      <td>...</td>\n",
       "      <td>733.6</td>\n",
       "      <td>92.0</td>\n",
       "      <td>6.666667</td>\n",
       "      <td>59.166667</td>\n",
       "      <td>5.2</td>\n",
       "      <td>18.606195</td>\n",
       "      <td>18.606195</td>\n",
       "      <td>2016</td>\n",
       "      <td>1</td>\n",
       "      <td>11</td>\n",
       "    </tr>\n",
       "    <tr>\n",
       "      <th>2</th>\n",
       "      <td>50</td>\n",
       "      <td>30</td>\n",
       "      <td>19.89</td>\n",
       "      <td>46.300000</td>\n",
       "      <td>19.2</td>\n",
       "      <td>44.626667</td>\n",
       "      <td>19.79</td>\n",
       "      <td>44.933333</td>\n",
       "      <td>18.926667</td>\n",
       "      <td>45.890000</td>\n",
       "      <td>...</td>\n",
       "      <td>733.7</td>\n",
       "      <td>92.0</td>\n",
       "      <td>6.333333</td>\n",
       "      <td>55.333333</td>\n",
       "      <td>5.1</td>\n",
       "      <td>28.642668</td>\n",
       "      <td>28.642668</td>\n",
       "      <td>2016</td>\n",
       "      <td>1</td>\n",
       "      <td>11</td>\n",
       "    </tr>\n",
       "    <tr>\n",
       "      <th>3</th>\n",
       "      <td>50</td>\n",
       "      <td>40</td>\n",
       "      <td>19.89</td>\n",
       "      <td>46.066667</td>\n",
       "      <td>19.2</td>\n",
       "      <td>44.590000</td>\n",
       "      <td>19.79</td>\n",
       "      <td>45.000000</td>\n",
       "      <td>18.890000</td>\n",
       "      <td>45.723333</td>\n",
       "      <td>...</td>\n",
       "      <td>733.8</td>\n",
       "      <td>92.0</td>\n",
       "      <td>6.000000</td>\n",
       "      <td>51.500000</td>\n",
       "      <td>5.0</td>\n",
       "      <td>45.410389</td>\n",
       "      <td>45.410389</td>\n",
       "      <td>2016</td>\n",
       "      <td>1</td>\n",
       "      <td>11</td>\n",
       "    </tr>\n",
       "    <tr>\n",
       "      <th>4</th>\n",
       "      <td>60</td>\n",
       "      <td>40</td>\n",
       "      <td>19.89</td>\n",
       "      <td>46.333333</td>\n",
       "      <td>19.2</td>\n",
       "      <td>44.530000</td>\n",
       "      <td>19.79</td>\n",
       "      <td>45.000000</td>\n",
       "      <td>18.890000</td>\n",
       "      <td>45.530000</td>\n",
       "      <td>...</td>\n",
       "      <td>733.9</td>\n",
       "      <td>92.0</td>\n",
       "      <td>5.666667</td>\n",
       "      <td>47.666667</td>\n",
       "      <td>4.9</td>\n",
       "      <td>10.084097</td>\n",
       "      <td>10.084097</td>\n",
       "      <td>2016</td>\n",
       "      <td>1</td>\n",
       "      <td>11</td>\n",
       "    </tr>\n",
       "  </tbody>\n",
       "</table>\n",
       "<p>5 rows × 31 columns</p>\n",
       "</div>"
      ],
      "text/plain": [
       "   Appliances  lights     T1       RH_1    T2       RH_2     T3       RH_3  \\\n",
       "0          60      30  19.89  47.596667  19.2  44.790000  19.79  44.730000   \n",
       "1          60      30  19.89  46.693333  19.2  44.722500  19.79  44.790000   \n",
       "2          50      30  19.89  46.300000  19.2  44.626667  19.79  44.933333   \n",
       "3          50      40  19.89  46.066667  19.2  44.590000  19.79  45.000000   \n",
       "4          60      40  19.89  46.333333  19.2  44.530000  19.79  45.000000   \n",
       "\n",
       "          T4       RH_4  ...  Press_mm_hg  RH_out  Windspeed  Visibility  \\\n",
       "0  19.000000  45.566667  ...        733.5    92.0   7.000000   63.000000   \n",
       "1  19.000000  45.992500  ...        733.6    92.0   6.666667   59.166667   \n",
       "2  18.926667  45.890000  ...        733.7    92.0   6.333333   55.333333   \n",
       "3  18.890000  45.723333  ...        733.8    92.0   6.000000   51.500000   \n",
       "4  18.890000  45.530000  ...        733.9    92.0   5.666667   47.666667   \n",
       "\n",
       "   Tdewpoint        rv1        rv2  year  month  day  \n",
       "0        5.3  13.275433  13.275433  2016      1   11  \n",
       "1        5.2  18.606195  18.606195  2016      1   11  \n",
       "2        5.1  28.642668  28.642668  2016      1   11  \n",
       "3        5.0  45.410389  45.410389  2016      1   11  \n",
       "4        4.9  10.084097  10.084097  2016      1   11  \n",
       "\n",
       "[5 rows x 31 columns]"
      ]
     },
     "execution_count": 17,
     "metadata": {},
     "output_type": "execute_result"
    }
   ],
   "source": [
    "energy_dataset.head()"
   ]
  },
  {
   "cell_type": "code",
   "execution_count": 20,
   "id": "0f0cf174",
   "metadata": {},
   "outputs": [],
   "source": [
    "# renaming colums to lower case\n",
    "energy_dataset.rename(columns={col: col.lower() for col in energy_dataset.columns.values}, inplace=True)"
   ]
  },
  {
   "cell_type": "code",
   "execution_count": 21,
   "id": "56abe02c",
   "metadata": {},
   "outputs": [],
   "source": [
    "#drop rv1 and rv2\n",
    "energy_dataset.drop(['rv1', 'rv2'], axis=1, inplace=True)"
   ]
  },
  {
   "cell_type": "code",
   "execution_count": 23,
   "id": "1c4d2a06",
   "metadata": {},
   "outputs": [
    {
     "data": {
      "text/html": [
       "<div>\n",
       "<style scoped>\n",
       "    .dataframe tbody tr th:only-of-type {\n",
       "        vertical-align: middle;\n",
       "    }\n",
       "\n",
       "    .dataframe tbody tr th {\n",
       "        vertical-align: top;\n",
       "    }\n",
       "\n",
       "    .dataframe thead th {\n",
       "        text-align: right;\n",
       "    }\n",
       "</style>\n",
       "<table border=\"1\" class=\"dataframe\">\n",
       "  <thead>\n",
       "    <tr style=\"text-align: right;\">\n",
       "      <th></th>\n",
       "      <th>appliances</th>\n",
       "      <th>lights</th>\n",
       "      <th>t1</th>\n",
       "      <th>rh_1</th>\n",
       "      <th>t2</th>\n",
       "      <th>rh_2</th>\n",
       "      <th>t3</th>\n",
       "      <th>rh_3</th>\n",
       "      <th>t4</th>\n",
       "      <th>rh_4</th>\n",
       "      <th>...</th>\n",
       "      <th>rh_9</th>\n",
       "      <th>t_out</th>\n",
       "      <th>press_mm_hg</th>\n",
       "      <th>rh_out</th>\n",
       "      <th>windspeed</th>\n",
       "      <th>visibility</th>\n",
       "      <th>tdewpoint</th>\n",
       "      <th>year</th>\n",
       "      <th>month</th>\n",
       "      <th>day</th>\n",
       "    </tr>\n",
       "  </thead>\n",
       "  <tbody>\n",
       "    <tr>\n",
       "      <th>0</th>\n",
       "      <td>60</td>\n",
       "      <td>30</td>\n",
       "      <td>19.89</td>\n",
       "      <td>47.596667</td>\n",
       "      <td>19.2</td>\n",
       "      <td>44.790000</td>\n",
       "      <td>19.79</td>\n",
       "      <td>44.730000</td>\n",
       "      <td>19.000000</td>\n",
       "      <td>45.566667</td>\n",
       "      <td>...</td>\n",
       "      <td>45.53</td>\n",
       "      <td>6.600000</td>\n",
       "      <td>733.5</td>\n",
       "      <td>92.0</td>\n",
       "      <td>7.000000</td>\n",
       "      <td>63.000000</td>\n",
       "      <td>5.3</td>\n",
       "      <td>2016</td>\n",
       "      <td>1</td>\n",
       "      <td>11</td>\n",
       "    </tr>\n",
       "    <tr>\n",
       "      <th>1</th>\n",
       "      <td>60</td>\n",
       "      <td>30</td>\n",
       "      <td>19.89</td>\n",
       "      <td>46.693333</td>\n",
       "      <td>19.2</td>\n",
       "      <td>44.722500</td>\n",
       "      <td>19.79</td>\n",
       "      <td>44.790000</td>\n",
       "      <td>19.000000</td>\n",
       "      <td>45.992500</td>\n",
       "      <td>...</td>\n",
       "      <td>45.56</td>\n",
       "      <td>6.483333</td>\n",
       "      <td>733.6</td>\n",
       "      <td>92.0</td>\n",
       "      <td>6.666667</td>\n",
       "      <td>59.166667</td>\n",
       "      <td>5.2</td>\n",
       "      <td>2016</td>\n",
       "      <td>1</td>\n",
       "      <td>11</td>\n",
       "    </tr>\n",
       "    <tr>\n",
       "      <th>2</th>\n",
       "      <td>50</td>\n",
       "      <td>30</td>\n",
       "      <td>19.89</td>\n",
       "      <td>46.300000</td>\n",
       "      <td>19.2</td>\n",
       "      <td>44.626667</td>\n",
       "      <td>19.79</td>\n",
       "      <td>44.933333</td>\n",
       "      <td>18.926667</td>\n",
       "      <td>45.890000</td>\n",
       "      <td>...</td>\n",
       "      <td>45.50</td>\n",
       "      <td>6.366667</td>\n",
       "      <td>733.7</td>\n",
       "      <td>92.0</td>\n",
       "      <td>6.333333</td>\n",
       "      <td>55.333333</td>\n",
       "      <td>5.1</td>\n",
       "      <td>2016</td>\n",
       "      <td>1</td>\n",
       "      <td>11</td>\n",
       "    </tr>\n",
       "    <tr>\n",
       "      <th>3</th>\n",
       "      <td>50</td>\n",
       "      <td>40</td>\n",
       "      <td>19.89</td>\n",
       "      <td>46.066667</td>\n",
       "      <td>19.2</td>\n",
       "      <td>44.590000</td>\n",
       "      <td>19.79</td>\n",
       "      <td>45.000000</td>\n",
       "      <td>18.890000</td>\n",
       "      <td>45.723333</td>\n",
       "      <td>...</td>\n",
       "      <td>45.40</td>\n",
       "      <td>6.250000</td>\n",
       "      <td>733.8</td>\n",
       "      <td>92.0</td>\n",
       "      <td>6.000000</td>\n",
       "      <td>51.500000</td>\n",
       "      <td>5.0</td>\n",
       "      <td>2016</td>\n",
       "      <td>1</td>\n",
       "      <td>11</td>\n",
       "    </tr>\n",
       "    <tr>\n",
       "      <th>4</th>\n",
       "      <td>60</td>\n",
       "      <td>40</td>\n",
       "      <td>19.89</td>\n",
       "      <td>46.333333</td>\n",
       "      <td>19.2</td>\n",
       "      <td>44.530000</td>\n",
       "      <td>19.79</td>\n",
       "      <td>45.000000</td>\n",
       "      <td>18.890000</td>\n",
       "      <td>45.530000</td>\n",
       "      <td>...</td>\n",
       "      <td>45.40</td>\n",
       "      <td>6.133333</td>\n",
       "      <td>733.9</td>\n",
       "      <td>92.0</td>\n",
       "      <td>5.666667</td>\n",
       "      <td>47.666667</td>\n",
       "      <td>4.9</td>\n",
       "      <td>2016</td>\n",
       "      <td>1</td>\n",
       "      <td>11</td>\n",
       "    </tr>\n",
       "  </tbody>\n",
       "</table>\n",
       "<p>5 rows × 29 columns</p>\n",
       "</div>"
      ],
      "text/plain": [
       "   appliances  lights     t1       rh_1    t2       rh_2     t3       rh_3  \\\n",
       "0          60      30  19.89  47.596667  19.2  44.790000  19.79  44.730000   \n",
       "1          60      30  19.89  46.693333  19.2  44.722500  19.79  44.790000   \n",
       "2          50      30  19.89  46.300000  19.2  44.626667  19.79  44.933333   \n",
       "3          50      40  19.89  46.066667  19.2  44.590000  19.79  45.000000   \n",
       "4          60      40  19.89  46.333333  19.2  44.530000  19.79  45.000000   \n",
       "\n",
       "          t4       rh_4  ...   rh_9     t_out  press_mm_hg  rh_out  windspeed  \\\n",
       "0  19.000000  45.566667  ...  45.53  6.600000        733.5    92.0   7.000000   \n",
       "1  19.000000  45.992500  ...  45.56  6.483333        733.6    92.0   6.666667   \n",
       "2  18.926667  45.890000  ...  45.50  6.366667        733.7    92.0   6.333333   \n",
       "3  18.890000  45.723333  ...  45.40  6.250000        733.8    92.0   6.000000   \n",
       "4  18.890000  45.530000  ...  45.40  6.133333        733.9    92.0   5.666667   \n",
       "\n",
       "   visibility  tdewpoint  year  month  day  \n",
       "0   63.000000        5.3  2016      1   11  \n",
       "1   59.166667        5.2  2016      1   11  \n",
       "2   55.333333        5.1  2016      1   11  \n",
       "3   51.500000        5.0  2016      1   11  \n",
       "4   47.666667        4.9  2016      1   11  \n",
       "\n",
       "[5 rows x 29 columns]"
      ]
     },
     "execution_count": 23,
     "metadata": {},
     "output_type": "execute_result"
    }
   ],
   "source": [
    "energy_dataset.head()"
   ]
  },
  {
   "cell_type": "code",
   "execution_count": 26,
   "id": "a47ee32b",
   "metadata": {},
   "outputs": [
    {
     "data": {
      "text/plain": [
       "array([[-0.36767572,  3.30126384, -1.11864475,  1.84382063, -0.52041138,\n",
       "         1.07368343, -1.23506343,  1.68612997, -0.90821667,  1.50643758,\n",
       "        -1.31490324,  0.47116038, -0.14519618,  0.95179837, -1.45364639,\n",
       "         1.21986131, -1.95750878,  1.14157236, -1.21732362,  0.95813624,\n",
       "        -0.15264674, -2.97632767,  0.82208042,  1.20769354,  2.09159642,\n",
       "         0.3669753 ,  0.        , -1.56936931, -0.59845459],\n",
       "       [-0.36767572,  3.30126384, -1.11864475,  1.61680671, -0.52041138,\n",
       "         1.05709748, -1.23506343,  1.70456601, -0.90821667,  1.6045285 ,\n",
       "        -1.31490324,  0.47116038, -0.17694121,  0.94559165, -1.45364639,\n",
       "         1.2068254 , -1.95750878,  1.13455378, -1.20077824,  0.96536273,\n",
       "        -0.17458781, -2.96281279,  0.82208042,  1.07170342,  1.76658397,\n",
       "         0.34313479,  0.        , -1.56936931, -0.59845459],\n",
       "       [-0.46521548,  3.30126384, -1.11864475,  1.51795932, -0.52041138,\n",
       "         1.03354953, -1.23506343,  1.74860768, -0.94411453,  1.58091757,\n",
       "        -1.31490324,  0.45896769, -0.22182211,  0.91648425, -1.45364639,\n",
       "         1.18205717, -1.95750878,  1.10903167, -1.23386899,  0.95090975,\n",
       "        -0.19652887, -2.94929791,  0.82208042,  0.93571331,  1.44157151,\n",
       "         0.31929428,  0.        , -1.56936931, -0.59845459],\n",
       "       [-0.46521548,  4.56137838, -1.11864475,  1.45932104, -0.52041138,\n",
       "         1.02453987, -1.23506343,  1.76909217, -0.96206346,  1.54252582,\n",
       "        -1.31490324,  0.45896769, -0.24262058,  0.92504525, -1.48524287,\n",
       "         1.15402997, -2.00863059,  1.08223345, -1.23386899,  0.92682144,\n",
       "        -0.21846994, -2.93578303,  0.82208042,  0.79972319,  1.11655906,\n",
       "         0.29545377,  0.        , -1.56936931, -0.59845459]])"
      ]
     },
     "execution_count": 26,
     "metadata": {},
     "output_type": "execute_result"
    }
   ],
   "source": [
    "energy_scaled = scale(energy_dataset) \n",
    "energy_scaled[:4]"
   ]
  },
  {
   "cell_type": "code",
   "execution_count": 27,
   "id": "7beb81f1",
   "metadata": {},
   "outputs": [
    {
     "data": {
      "text/plain": [
       "(19735, 29)"
      ]
     },
     "execution_count": 27,
     "metadata": {},
     "output_type": "execute_result"
    }
   ],
   "source": [
    "energy_scaled.shape"
   ]
  },
  {
   "cell_type": "markdown",
   "id": "52936bcd",
   "metadata": {},
   "source": [
    "## Training"
   ]
  },
  {
   "cell_type": "markdown",
   "id": "b7f8038c",
   "metadata": {},
   "source": [
    "Kmeans execution for 5, 7 , 9 and 11 clusters"
   ]
  },
  {
   "cell_type": "code",
   "execution_count": 32,
   "id": "b6518817",
   "metadata": {},
   "outputs": [],
   "source": [
    "def k_means(n_cluster_list):\n",
    "    k_means_groups = []\n",
    "    for element in n_cluster_list:\n",
    "        km = KMeans(n_clusters=element)\n",
    "        m = km.fit(energy_scaled)\n",
    "        k_means_groups.append({'centroides': m.cluster_centers_, 'labels': m.labels_, 'sse': m.inertia_})\n",
    "    return k_means_groups     "
   ]
  },
  {
   "cell_type": "code",
   "execution_count": 33,
   "id": "866f60c9",
   "metadata": {},
   "outputs": [],
   "source": [
    "results = k_means([5,7,9,11])"
   ]
  },
  {
   "cell_type": "code",
   "execution_count": 35,
   "id": "33a22fbc",
   "metadata": {},
   "outputs": [
    {
     "data": {
      "text/plain": [
       "[{'centroides': array([[-1.23834722e-03,  2.82749471e-01, -5.24136051e-01,\n",
       "           8.92058471e-01, -1.46687948e-01,  6.07759489e-01,\n",
       "          -6.20342067e-01,  1.32285608e+00, -7.44973596e-01,\n",
       "           1.21714667e+00, -6.40879364e-01,  5.67945607e-01,\n",
       "          -2.10600025e-01,  1.13399351e+00, -9.60825974e-01,\n",
       "           1.10179525e+00, -9.69109969e-01,  1.18194391e+00,\n",
       "          -9.05861856e-01,  1.13706418e+00, -1.46319116e-01,\n",
       "          -1.26077598e-01,  5.50574023e-01,  8.02147697e-01,\n",
       "           4.38031820e-02,  2.18983416e-01,  0.00000000e+00,\n",
       "          -1.16417058e+00, -4.59581150e-02],\n",
       "         [ 1.29174963e-01, -2.17722687e-01,  1.73654063e+00,\n",
       "           1.53897370e+00,  1.60955407e+00,  1.14154530e+00,\n",
       "           1.90090483e+00,  8.67342802e-01,  1.73901087e+00,\n",
       "           1.16611599e+00,  1.91123128e+00,  3.43640504e-01,\n",
       "           1.52265033e+00, -8.60587819e-01,  1.73254340e+00,\n",
       "           1.22218666e+00,  1.44935036e+00,  1.05097246e+00,\n",
       "           1.85710652e+00,  1.13382654e+00,  1.56932650e+00,\n",
       "          -4.58446675e-01, -8.61260871e-02, -3.31331246e-01,\n",
       "          -1.08808825e-01,  1.88412928e+00,  0.00000000e+00,\n",
       "           1.38667981e+00,  1.05256844e-01],\n",
       "         [-7.88514460e-02, -1.33278477e-01,  2.12542453e-01,\n",
       "          -6.05515075e-03, -1.73101981e-01,  4.43076988e-01,\n",
       "           4.27465907e-01, -2.83172672e-01,  2.06191190e-01,\n",
       "          -8.65299580e-02,  3.74720702e-01, -1.89851134e-01,\n",
       "           9.13327204e-02, -3.25509126e-01,  3.80684501e-01,\n",
       "          -1.31258221e-02,  4.71925554e-01, -1.76024259e-01,\n",
       "           4.70560270e-01, -1.40371593e-01,  9.16863452e-02,\n",
       "          -1.49860172e-01,  2.57008158e-01, -2.35822422e-01,\n",
       "          -1.61393546e-01,  3.27298679e-01,  0.00000000e+00,\n",
       "           5.37153726e-01,  1.51137846e-01],\n",
       "         [ 1.39381342e-01, -1.96466017e-01,  8.81804978e-01,\n",
       "          -7.22195045e-01,  1.16053447e+00, -1.31231107e+00,\n",
       "           7.16174134e-01, -8.47878275e-01,  1.00492654e+00,\n",
       "          -7.54482381e-01,  7.93073910e-01, -5.19014587e-01,\n",
       "           1.11404392e+00, -1.48680023e+00,  9.74873939e-01,\n",
       "          -7.07290731e-01,  7.68385606e-01, -9.07108911e-01,\n",
       "           8.65212567e-01, -7.50512502e-01,  1.08565202e+00,\n",
       "           3.47252167e-01, -1.55132478e+00,  4.52001778e-02,\n",
       "          -7.23832529e-02,  1.24189344e-01,  0.00000000e+00,\n",
       "           1.00838367e+00, -3.19690811e-01],\n",
       "         [-3.68220147e-02,  5.34599387e-02, -6.74597021e-01,\n",
       "          -7.11157345e-01, -7.37715837e-01, -4.77868452e-01,\n",
       "          -7.42303558e-01, -5.61733711e-01, -5.68677096e-01,\n",
       "          -7.66911249e-01, -7.24506006e-01, -1.05294512e-01,\n",
       "          -8.57573591e-01,  3.75508530e-01, -5.35927455e-01,\n",
       "          -7.79518311e-01, -4.28968262e-01, -5.66520362e-01,\n",
       "          -6.28981724e-01, -6.59072989e-01, -9.03452337e-01,\n",
       "           1.69313937e-01,  1.55031887e-01, -3.24902255e-01,\n",
       "           1.60901800e-01, -9.84588635e-01,  0.00000000e+00,\n",
       "          -4.36970335e-01,  3.58891158e-02]]),\n",
       "  'labels': array([0, 0, 0, ..., 1, 1, 1]),\n",
       "  'sse': 279625.83460178424},\n",
       " {'centroides': array([[ 0.11175414,  0.48802543, -0.06490258,  0.89588824,  0.18184211,\n",
       "           0.53466499, -0.27380551,  1.31896882, -0.37813222,  1.16908572,\n",
       "          -0.30575364,  0.69113189, -0.22649128,  1.08219644, -0.70574833,\n",
       "           1.06983377, -0.5007236 ,  1.18321984, -0.62357939,  1.07832561,\n",
       "          -0.17121151, -0.51907588,  0.55204228,  0.82035698,  0.07289113,\n",
       "           0.18857708,  0.        , -0.97611697, -0.56377383],\n",
       "         [-0.02139475, -0.06829776, -0.17423179, -0.90017255, -0.42771611,\n",
       "          -0.58425788, -0.19366767, -0.97572351, -0.06132851, -0.9775375 ,\n",
       "          -0.25584757, -0.40041203, -0.32379064, -0.44185657,  0.02286648,\n",
       "          -1.02823656,  0.14886752, -0.90065734, -0.04905497, -0.85148517,\n",
       "          -0.36104718,  0.66554669, -0.25100547, -0.25084181,  0.00847291,\n",
       "          -0.58423459,  0.        ,  0.20648615,  0.33258732],\n",
       "         [-0.24754042, -0.12824213, -1.45108857,  0.96345   , -0.78816273,\n",
       "           0.81541713, -1.31592393,  1.41821177, -1.50415057,  1.39390764,\n",
       "          -1.31605168,  0.3222315 , -0.13983542,  1.25373662, -1.50144587,\n",
       "           1.21982267, -1.92822717,  1.22540897, -1.49225423,  1.30676087,\n",
       "          -0.05219702,  0.74102202,  0.55115035,  0.75486602, -0.0023296 ,\n",
       "           0.33622276,  0.        , -1.56131104,  1.0415958 ],\n",
       "         [-0.03236388,  0.13273385, -0.87830228, -0.5231396 , -0.82865476,\n",
       "          -0.36178191, -0.94377148, -0.26631164, -0.77896824, -0.54018307,\n",
       "          -0.85451417,  0.04842284, -1.0498872 ,  0.76656575, -0.80628337,\n",
       "          -0.49326581, -0.71446312, -0.28597751, -0.87737585, -0.53085692,\n",
       "          -1.09983902, -0.15636708,  0.39976007, -0.3532923 ,  0.15360683,\n",
       "          -1.06679374,  0.        , -0.70583847, -0.1700051 ],\n",
       "         [ 0.08193679, -0.21558499,  1.78755657,  1.69072226,  1.64731944,\n",
       "           1.30273891,  1.97336304,  1.02248081,  1.79263634,  1.28865219,\n",
       "           1.9909325 ,  0.33360481,  1.57338805, -0.82191953,  1.78067748,\n",
       "           1.3257346 ,  1.47931419,  1.17718341,  1.92221083,  1.26194039,\n",
       "           1.61090051, -0.47430748, -0.02474914, -0.34690757, -0.05155306,\n",
       "           1.97974636,  0.        ,  1.40853444,  0.16254104],\n",
       "         [-0.03722064, -0.13671913,  0.29230923,  0.20308797, -0.08118653,\n",
       "           0.62646099,  0.53032386, -0.11077166,  0.26003762,  0.10008802,\n",
       "           0.45395571, -0.07571657,  0.19913295, -0.30774029,  0.49323633,\n",
       "           0.15487931,  0.56205761, -0.06297685,  0.57292832,  0.07670245,\n",
       "           0.22238309, -0.36738767,  0.25441109, -0.13763082, -0.16716457,\n",
       "           0.48516946,  0.        ,  0.54462446,  0.06538629],\n",
       "         [ 0.10383243, -0.26684458,  1.08551295, -0.60613693,  1.4016815 ,\n",
       "          -1.28464752,  0.91810112, -0.77962421,  1.19245821, -0.63170448,\n",
       "           1.02194671, -0.50138735,  1.30905213, -1.53221435,  1.13328303,\n",
       "          -0.51447484,  0.85423314, -0.76243009,  1.05590153, -0.64168845,\n",
       "           1.27591669,  0.20248322, -1.55879936, -0.02303358, -0.05377136,\n",
       "           0.32810546,  0.        ,  1.16602567, -0.38513004]]),\n",
       "  'labels': array([0, 0, 0, ..., 4, 4, 4]),\n",
       "  'sse': 248091.9528149742},\n",
       " {'centroides': array([[-0.10411477,  0.06418023, -0.90717233, -0.65412984, -0.86487042,\n",
       "          -0.47118231, -0.99723468, -0.33910182, -0.73616297, -0.66235118,\n",
       "          -0.86738291, -0.02041202, -1.27630246,  0.75281084, -0.72820908,\n",
       "          -0.57635823, -0.73035317, -0.34163367, -0.91192354, -0.54987661,\n",
       "          -1.31171319,  0.66048397,  0.34580955, -0.69521334,  0.28956715,\n",
       "          -1.36103476,  0.        , -0.89405051,  0.31878845],\n",
       "         [ 0.02320502,  0.16137684, -0.70419554, -0.36109002, -0.69245315,\n",
       "          -0.22743063, -0.7763236 , -0.209222  , -0.7559846 , -0.36263645,\n",
       "          -0.73992614,  0.10328319, -0.62574149,  0.73181401, -0.76499484,\n",
       "          -0.40356478, -0.52220336, -0.22535907, -0.71210041, -0.41599459,\n",
       "          -0.69231778, -1.37287758,  0.42772274,  0.22352602,  0.06670072,\n",
       "          -0.54636355,  0.        , -0.36065615, -0.9479286 ],\n",
       "         [-0.2632553 , -0.1790721 , -0.02027356, -0.47596166, -0.58214736,\n",
       "           0.23010612,  0.08992909, -0.60345531, -0.0458785 , -0.47705753,\n",
       "           0.10882958, -0.32182833, -0.39015878, -0.05639705,  0.09247488,\n",
       "          -0.34988364,  0.30871408, -0.28256921,  0.2126035 , -0.41822653,\n",
       "          -0.4077421 ,  0.20111256,  0.55074009, -0.44459527,  0.051904  ,\n",
       "          -0.1039435 ,  0.        ,  0.35940676,  0.46684447],\n",
       "         [ 0.12738388,  0.54592807, -0.01748891,  0.95632242,  0.23395738,\n",
       "           0.5670775 , -0.23606275,  1.390618  , -0.34366915,  1.24045301,\n",
       "          -0.28314426,  0.73028675, -0.19977838,  1.07684968, -0.71295048,\n",
       "           1.12801469, -0.50605916,  1.23566908, -0.61766234,  1.1445036 ,\n",
       "          -0.13592855, -0.43693157,  0.52934084,  0.85967332,  0.07055066,\n",
       "           0.2185756 ,  0.        , -0.99367403, -0.56192732],\n",
       "         [ 0.04176267, -0.2595442 ,  1.81143625,  1.79296976,  1.65465997,\n",
       "           1.41239241,  1.99273429,  1.12767581,  1.82029764,  1.36382292,\n",
       "           2.03214085,  0.32132498,  1.58543328, -0.79102863,  1.80407085,\n",
       "           1.3847476 ,  1.50207821,  1.26147129,  1.95763779,  1.34384272,\n",
       "           1.62784391, -0.48529115,  0.01609429, -0.36612647, -0.02090724,\n",
       "           2.03366891,  0.        ,  1.41756321,  0.2029688 ],\n",
       "         [ 0.21936157, -0.0159111 , -0.06958941, -0.97166408, -0.01406913,\n",
       "          -1.06549143, -0.13917359, -1.040275  ,  0.08296232, -1.07002219,\n",
       "          -0.25010116, -0.43833454,  0.04772357, -0.90817733,  0.15242643,\n",
       "          -1.24926728,  0.19754705, -1.24031777, -0.01972217, -0.97240914,\n",
       "           0.01063042,  0.73193059, -1.0230145 ,  0.12592806, -0.12515457,\n",
       "          -0.67756567,  0.        ,  0.1919945 ,  0.32722467],\n",
       "         [ 0.07676088, -0.1033349 ,  0.49876616,  0.38551323,  0.2680145 ,\n",
       "           0.56107117,  0.73714143, -0.04148013,  0.53754712,  0.1947924 ,\n",
       "           0.62681183, -0.01408578,  0.55428248, -0.61472023,  0.72520787,\n",
       "           0.21961578,  0.66625893, -0.05843477,  0.77793735,  0.14609343,\n",
       "           0.5806052 , -0.41326216, -0.03164493, -0.07497539, -0.28724208,\n",
       "           0.73863355,  0.        ,  0.79479789, -0.31643019],\n",
       "         [-0.22345377, -0.12536341, -1.44504796,  0.95714633, -0.78224933,\n",
       "           0.80424523, -1.30926866,  1.42008628, -1.49043624,  1.37918833,\n",
       "          -1.3096837 ,  0.32476524, -0.15146098,  1.25270723, -1.49640078,\n",
       "           1.20765847, -1.92119202,  1.21642665, -1.48772037,  1.29167615,\n",
       "          -0.06542797,  0.70078754,  0.55428832,  0.74914441, -0.00373481,\n",
       "           0.32175362,  0.        , -1.56046092,  1.01518157],\n",
       "         [ 0.13164294, -0.28926871,  1.28432145, -0.64664393,  1.68336549,\n",
       "          -1.45783691,  1.09780566, -0.81710208,  1.37562295, -0.64869578,\n",
       "           1.20358476, -0.49065987,  1.54679523, -1.61316094,  1.30792192,\n",
       "          -0.46080401,  0.9763401 , -0.75700942,  1.20817569, -0.6920345 ,\n",
       "           1.50869882,  0.13994471, -1.73291902, -0.08897665, -0.05050633,\n",
       "           0.44095688,  0.        ,  1.27685577, -0.41302679]]),\n",
       "  'labels': array([3, 3, 3, ..., 4, 4, 4]),\n",
       "  'sse': 231055.72633251926},\n",
       " {'centroides': array([[ 0.09366443, -0.22574082,  0.70944441, -0.92991854,  0.96642912,\n",
       "          -1.46291698,  0.53712046, -1.02741106,  0.87826831, -1.02479371,\n",
       "           0.7961639 , -0.52812631,  0.83930565, -1.51682696,  0.80556057,\n",
       "          -0.97831697,  0.66151961, -1.05958405,  0.70984253, -1.05141374,\n",
       "           0.80357786,  0.6780205 , -1.5713152 ,  0.0534641 , -0.01447246,\n",
       "          -0.22888956,  0.        ,  1.03249848, -0.42829411],\n",
       "         [-0.22105588, -0.12286365, -1.44198769,  0.96285371, -0.77898104,\n",
       "           0.80901974, -1.30691135,  1.4266276 , -1.48790405,  1.38657678,\n",
       "          -1.30745684,  0.32884625, -0.1489887 ,  1.25322506, -1.49552392,\n",
       "           1.21525357, -1.92020798,  1.22313613, -1.48687413,  1.30142367,\n",
       "          -0.06188537,  0.70533667,  0.55330484,  0.7494597 , -0.00776731,\n",
       "           0.32561525,  0.        , -1.56092569,  1.01997882],\n",
       "         [-0.00345462,  0.16998481, -0.7056804 , -0.37015175, -0.70185704,\n",
       "          -0.22289219, -0.77418744, -0.22257839, -0.74053879, -0.36920846,\n",
       "          -0.7402732 ,  0.09048708, -0.63430283,  0.73055803, -0.77012736,\n",
       "          -0.39546857, -0.52915387, -0.21585179, -0.71776165, -0.42889831,\n",
       "          -0.70534099, -1.35252018,  0.44765911,  0.19027474,  0.07261149,\n",
       "          -0.55053352,  0.        , -0.35248633, -0.94769988],\n",
       "         [-0.33900964, -0.17359746, -0.22423985, -0.80364006, -0.82161017,\n",
       "          -0.04906564, -0.20500734, -0.85509849, -0.10085687, -0.89492811,\n",
       "          -0.1269419 , -0.34157823, -0.74241342, -0.02837712, -0.00880761,\n",
       "          -0.77072382,  0.1869773 , -0.45994972,  0.04953135, -0.62514839,\n",
       "          -0.76328173,  0.79073044,  0.57001913, -0.72007594,  0.40430757,\n",
       "          -0.53583533,  0.        ,  0.36768301, -0.02830848],\n",
       "         [ 0.11465111, -0.27087832,  1.50138867, -0.14630131,  1.83626044,\n",
       "          -0.933874  ,  1.39065196, -0.45140086,  1.55102734, -0.12598201,\n",
       "           1.28292017, -0.27661664,  1.74125901, -1.50451889,  1.46943655,\n",
       "           0.09336307,  1.05100713, -0.30768558,  1.44909518, -0.10878496,\n",
       "           1.73127389, -0.29052756, -1.38103759, -0.1935343 , -0.11697176,\n",
       "           1.01028292,  0.        ,  1.30652265, -0.2849813 ],\n",
       "         [ 0.00541982, -0.27709234,  1.80106116,  1.83753233,  1.61538121,\n",
       "           1.49243393,  1.97897272,  1.17461583,  1.80889143,  1.39601427,\n",
       "           2.0360493 ,  0.32395599,  1.5605744 , -0.75924424,  1.79851621,\n",
       "           1.40730267,  1.50701043,  1.29728887,  1.9577568 ,  1.37826455,\n",
       "           1.59893799, -0.48694552,  0.0743591 , -0.3652662 , -0.01959901,\n",
       "           2.04528367,  0.        ,  1.41756321,  0.22043512],\n",
       "         [ 0.27934532,  0.05350227, -0.33832561, -1.04134908, -0.29132898,\n",
       "          -1.06435886, -0.41131412, -1.05636751, -0.18309191, -1.14435707,\n",
       "          -0.60637014, -0.52321969, -0.22024327, -0.52673949, -0.00970251,\n",
       "          -1.32914114,  0.00375911, -1.33857094, -0.28821966, -0.96636926,\n",
       "          -0.27183445,  0.62713335, -0.90134795,  0.12659497, -0.32749363,\n",
       "          -0.912835  ,  0.        , -0.18682473,  0.51343042],\n",
       "         [ 0.11829871,  0.53889131, -0.01466273,  0.96430911,  0.23804695,\n",
       "           0.57323424, -0.23258585,  1.398866  , -0.35074074,  1.25350781,\n",
       "          -0.27952833,  0.73659406, -0.19335587,  1.07582863, -0.71690587,\n",
       "           1.1364753 , -0.50442108,  1.2486031 , -0.6172935 ,  1.15874212,\n",
       "          -0.12833376, -0.45116995,  0.53071201,  0.87231745,  0.07827446,\n",
       "           0.22875777,  0.        , -0.99166993, -0.57553398],\n",
       "         [ 0.05178974, -0.06239424,  0.18908409, -0.19944003, -0.19125909,\n",
       "           0.2386561 ,  0.26779713, -0.39157475, -0.05607824, -0.0769609 ,\n",
       "           0.19099864, -0.17453958,  0.1159352 , -0.23258095,  0.15547913,\n",
       "          -0.06630321,  0.45090152, -0.17577393,  0.20340382, -0.32075172,\n",
       "           0.09036157, -0.26969222,  0.07958164,  0.24180706,  0.0806715 ,\n",
       "           0.20819715,  0.        ,  0.08034043,  1.2407545 ],\n",
       "         [-0.05630266,  0.09121948, -1.00100435, -0.52147273, -0.82934305,\n",
       "          -0.44781936, -1.08920762, -0.12828555, -0.84994992, -0.50147381,\n",
       "          -0.93001811,  0.15889137, -1.37165631,  0.90628767, -0.88811757,\n",
       "          -0.4286799 , -0.89317117, -0.19935469, -1.05954102, -0.49205983,\n",
       "          -1.39306509,  0.59048419,  0.39953546, -0.7176181 ,  0.22675189,\n",
       "          -1.42679146,  0.        , -1.1040083 ,  0.44299086],\n",
       "         [-0.02559848, -0.12997579,  0.34765174,  0.44175614,  0.04774543,\n",
       "           0.77280479,  0.6930569 ,  0.01796271,  0.4648    ,  0.19734605,\n",
       "           0.58347757, -0.05982106,  0.35334974, -0.45435514,  0.65574704,\n",
       "           0.25788619,  0.56512534, -0.05726528,  0.7565214 ,  0.21684129,\n",
       "           0.3861885 , -0.38877322,  0.26261972, -0.34998634, -0.41275209,\n",
       "           0.69590176,  0.        ,  0.85727393, -0.59627918]]),\n",
       "  'labels': array([7, 7, 7, ..., 5, 5, 5]),\n",
       "  'sse': 218047.87780864397}]"
      ]
     },
     "execution_count": 35,
     "metadata": {},
     "output_type": "execute_result"
    }
   ],
   "source": [
    "results"
   ]
  },
  {
   "cell_type": "markdown",
   "id": "4b8079db",
   "metadata": {},
   "source": [
    "## Elbow graph"
   ]
  },
  {
   "cell_type": "code",
   "execution_count": 41,
   "id": "118adb19",
   "metadata": {},
   "outputs": [
    {
     "data": {
      "text/html": [
       "<div>\n",
       "<style scoped>\n",
       "    .dataframe tbody tr th:only-of-type {\n",
       "        vertical-align: middle;\n",
       "    }\n",
       "\n",
       "    .dataframe tbody tr th {\n",
       "        vertical-align: top;\n",
       "    }\n",
       "\n",
       "    .dataframe thead th {\n",
       "        text-align: right;\n",
       "    }\n",
       "</style>\n",
       "<table border=\"1\" class=\"dataframe\">\n",
       "  <thead>\n",
       "    <tr style=\"text-align: right;\">\n",
       "      <th></th>\n",
       "      <th>clusters</th>\n",
       "      <th>sse</th>\n",
       "    </tr>\n",
       "  </thead>\n",
       "  <tbody>\n",
       "    <tr>\n",
       "      <th>0</th>\n",
       "      <td>5</td>\n",
       "      <td>279625.834602</td>\n",
       "    </tr>\n",
       "    <tr>\n",
       "      <th>1</th>\n",
       "      <td>7</td>\n",
       "      <td>248091.952815</td>\n",
       "    </tr>\n",
       "    <tr>\n",
       "      <th>2</th>\n",
       "      <td>9</td>\n",
       "      <td>231055.726333</td>\n",
       "    </tr>\n",
       "    <tr>\n",
       "      <th>3</th>\n",
       "      <td>11</td>\n",
       "      <td>218047.877809</td>\n",
       "    </tr>\n",
       "  </tbody>\n",
       "</table>\n",
       "</div>"
      ],
      "text/plain": [
       "   clusters            sse\n",
       "0         5  279625.834602\n",
       "1         7  248091.952815\n",
       "2         9  231055.726333\n",
       "3        11  218047.877809"
      ]
     },
     "execution_count": 41,
     "metadata": {},
     "output_type": "execute_result"
    }
   ],
   "source": [
    "sse_pd = pd.DataFrame({'clusters':[5,7,9,11], 'sse': [result['sse'] for result in results]})\n",
    "sse_pd"
   ]
  },
  {
   "cell_type": "code",
   "execution_count": 43,
   "id": "2ba96de9",
   "metadata": {},
   "outputs": [
    {
     "data": {
      "text/plain": [
       "<AxesSubplot:xlabel='clusters', ylabel='sse'>"
      ]
     },
     "execution_count": 43,
     "metadata": {},
     "output_type": "execute_result"
    },
    {
     "data": {
      "image/png": "[encoded data removed]",
      "text/plain": [
       "<Figure size 432x288 with 1 Axes>"
      ]
     },
     "metadata": {
      "needs_background": "light"
     },
     "output_type": "display_data"
    }
   ],
   "source": [
    "sns.lineplot(x='clusters', y='sse', data=sse_pd)"
   ]
  },
  {
   "cell_type": "code",
   "execution_count": 47,
   "id": "c4dc4e15",
   "metadata": {},
   "outputs": [
    {
     "data": {
      "text/plain": [
       "array([[ 0.11175414,  0.48802543, -0.06490258,  0.89588824,  0.18184211,\n",
       "         0.53466499, -0.27380551,  1.31896882, -0.37813222,  1.16908572,\n",
       "        -0.30575364,  0.69113189, -0.22649128,  1.08219644, -0.70574833,\n",
       "         1.06983377, -0.5007236 ,  1.18321984, -0.62357939,  1.07832561,\n",
       "        -0.17121151, -0.51907588,  0.55204228,  0.82035698,  0.07289113,\n",
       "         0.18857708,  0.        , -0.97611697, -0.56377383],\n",
       "       [-0.02139475, -0.06829776, -0.17423179, -0.90017255, -0.42771611,\n",
       "        -0.58425788, -0.19366767, -0.97572351, -0.06132851, -0.9775375 ,\n",
       "        -0.25584757, -0.40041203, -0.32379064, -0.44185657,  0.02286648,\n",
       "        -1.02823656,  0.14886752, -0.90065734, -0.04905497, -0.85148517,\n",
       "        -0.36104718,  0.66554669, -0.25100547, -0.25084181,  0.00847291,\n",
       "        -0.58423459,  0.        ,  0.20648615,  0.33258732],\n",
       "       [-0.24754042, -0.12824213, -1.45108857,  0.96345   , -0.78816273,\n",
       "         0.81541713, -1.31592393,  1.41821177, -1.50415057,  1.39390764,\n",
       "        -1.31605168,  0.3222315 , -0.13983542,  1.25373662, -1.50144587,\n",
       "         1.21982267, -1.92822717,  1.22540897, -1.49225423,  1.30676087,\n",
       "        -0.05219702,  0.74102202,  0.55115035,  0.75486602, -0.0023296 ,\n",
       "         0.33622276,  0.        , -1.56131104,  1.0415958 ],\n",
       "       [-0.03236388,  0.13273385, -0.87830228, -0.5231396 , -0.82865476,\n",
       "        -0.36178191, -0.94377148, -0.26631164, -0.77896824, -0.54018307,\n",
       "        -0.85451417,  0.04842284, -1.0498872 ,  0.76656575, -0.80628337,\n",
       "        -0.49326581, -0.71446312, -0.28597751, -0.87737585, -0.53085692,\n",
       "        -1.09983902, -0.15636708,  0.39976007, -0.3532923 ,  0.15360683,\n",
       "        -1.06679374,  0.        , -0.70583847, -0.1700051 ],\n",
       "       [ 0.08193679, -0.21558499,  1.78755657,  1.69072226,  1.64731944,\n",
       "         1.30273891,  1.97336304,  1.02248081,  1.79263634,  1.28865219,\n",
       "         1.9909325 ,  0.33360481,  1.57338805, -0.82191953,  1.78067748,\n",
       "         1.3257346 ,  1.47931419,  1.17718341,  1.92221083,  1.26194039,\n",
       "         1.61090051, -0.47430748, -0.02474914, -0.34690757, -0.05155306,\n",
       "         1.97974636,  0.        ,  1.40853444,  0.16254104],\n",
       "       [-0.03722064, -0.13671913,  0.29230923,  0.20308797, -0.08118653,\n",
       "         0.62646099,  0.53032386, -0.11077166,  0.26003762,  0.10008802,\n",
       "         0.45395571, -0.07571657,  0.19913295, -0.30774029,  0.49323633,\n",
       "         0.15487931,  0.56205761, -0.06297685,  0.57292832,  0.07670245,\n",
       "         0.22238309, -0.36738767,  0.25441109, -0.13763082, -0.16716457,\n",
       "         0.48516946,  0.        ,  0.54462446,  0.06538629],\n",
       "       [ 0.10383243, -0.26684458,  1.08551295, -0.60613693,  1.4016815 ,\n",
       "        -1.28464752,  0.91810112, -0.77962421,  1.19245821, -0.63170448,\n",
       "         1.02194671, -0.50138735,  1.30905213, -1.53221435,  1.13328303,\n",
       "        -0.51447484,  0.85423314, -0.76243009,  1.05590153, -0.64168845,\n",
       "         1.27591669,  0.20248322, -1.55879936, -0.02303358, -0.05377136,\n",
       "         0.32810546,  0.        ,  1.16602567, -0.38513004]])"
      ]
     },
     "execution_count": 47,
     "metadata": {},
     "output_type": "execute_result"
    }
   ],
   "source": [
    "seven_clusters_result = results[1]\n",
    "seven_clusters_centroids = seven_clusters_result['centroides']\n",
    "seven_clusters_centroids"
   ]
  },
  {
   "cell_type": "markdown",
   "id": "08af2192",
   "metadata": {},
   "source": [
    "¿Cuáles son las coordenadas correspondientes a la variable RH_3 de los centroides correspondientes a los grupos generados?"
   ]
  },
  {
   "cell_type": "code",
   "execution_count": 50,
   "id": "6f81775f",
   "metadata": {},
   "outputs": [
    {
     "data": {
      "text/plain": [
       "array([ 1.31896882, -0.97572351,  1.41821177, -0.26631164,  1.02248081,\n",
       "       -0.11077166, -0.77962421])"
      ]
     },
     "execution_count": 50,
     "metadata": {},
     "output_type": "execute_result"
    }
   ],
   "source": [
    "rh3_index = energy_dataset.columns.get_loc('rh_3')\n",
    "seven_clusters_centroids[:,rh3_index]"
   ]
  },
  {
   "cell_type": "code",
   "execution_count": 52,
   "id": "dcd1fb01",
   "metadata": {},
   "outputs": [
    {
     "data": {
      "text/plain": [
       "array([0, 0, 0, ..., 4, 4, 4])"
      ]
     },
     "execution_count": 52,
     "metadata": {},
     "output_type": "execute_result"
    }
   ],
   "source": [
    "seven_clusters_labels = seven_clusters_result['labels']\n",
    "seven_clusters_labels"
   ]
  },
  {
   "cell_type": "code",
   "execution_count": 69,
   "id": "83f413ed",
   "metadata": {},
   "outputs": [],
   "source": [
    "energy_dataset['cluster'] = seven_clusters_labels\n",
    "energy_dataset['cluster'] = energy_dataset.cluster.astype('category')"
   ]
  },
  {
   "cell_type": "code",
   "execution_count": 72,
   "id": "7334db6e",
   "metadata": {},
   "outputs": [
    {
     "data": {
      "text/html": [
       "<div>\n",
       "<style scoped>\n",
       "    .dataframe tbody tr th:only-of-type {\n",
       "        vertical-align: middle;\n",
       "    }\n",
       "\n",
       "    .dataframe tbody tr th {\n",
       "        vertical-align: top;\n",
       "    }\n",
       "\n",
       "    .dataframe thead th {\n",
       "        text-align: right;\n",
       "    }\n",
       "</style>\n",
       "<table border=\"1\" class=\"dataframe\">\n",
       "  <thead>\n",
       "    <tr style=\"text-align: right;\">\n",
       "      <th></th>\n",
       "      <th>appliances</th>\n",
       "      <th>lights</th>\n",
       "      <th>t1</th>\n",
       "      <th>rh_1</th>\n",
       "      <th>t2</th>\n",
       "      <th>rh_2</th>\n",
       "      <th>t3</th>\n",
       "      <th>rh_3</th>\n",
       "      <th>t4</th>\n",
       "      <th>rh_4</th>\n",
       "      <th>...</th>\n",
       "      <th>t_out</th>\n",
       "      <th>press_mm_hg</th>\n",
       "      <th>rh_out</th>\n",
       "      <th>windspeed</th>\n",
       "      <th>visibility</th>\n",
       "      <th>tdewpoint</th>\n",
       "      <th>year</th>\n",
       "      <th>month</th>\n",
       "      <th>day</th>\n",
       "      <th>cluster</th>\n",
       "    </tr>\n",
       "  </thead>\n",
       "  <tbody>\n",
       "    <tr>\n",
       "      <th>0</th>\n",
       "      <td>60</td>\n",
       "      <td>30</td>\n",
       "      <td>19.890000</td>\n",
       "      <td>47.596667</td>\n",
       "      <td>19.200000</td>\n",
       "      <td>44.790000</td>\n",
       "      <td>19.790000</td>\n",
       "      <td>44.730000</td>\n",
       "      <td>19.000000</td>\n",
       "      <td>45.566667</td>\n",
       "      <td>...</td>\n",
       "      <td>6.600000</td>\n",
       "      <td>733.5</td>\n",
       "      <td>92.000000</td>\n",
       "      <td>7.000000</td>\n",
       "      <td>63.000000</td>\n",
       "      <td>5.300000</td>\n",
       "      <td>2016</td>\n",
       "      <td>1</td>\n",
       "      <td>11</td>\n",
       "      <td>0</td>\n",
       "    </tr>\n",
       "    <tr>\n",
       "      <th>1</th>\n",
       "      <td>60</td>\n",
       "      <td>30</td>\n",
       "      <td>19.890000</td>\n",
       "      <td>46.693333</td>\n",
       "      <td>19.200000</td>\n",
       "      <td>44.722500</td>\n",
       "      <td>19.790000</td>\n",
       "      <td>44.790000</td>\n",
       "      <td>19.000000</td>\n",
       "      <td>45.992500</td>\n",
       "      <td>...</td>\n",
       "      <td>6.483333</td>\n",
       "      <td>733.6</td>\n",
       "      <td>92.000000</td>\n",
       "      <td>6.666667</td>\n",
       "      <td>59.166667</td>\n",
       "      <td>5.200000</td>\n",
       "      <td>2016</td>\n",
       "      <td>1</td>\n",
       "      <td>11</td>\n",
       "      <td>0</td>\n",
       "    </tr>\n",
       "    <tr>\n",
       "      <th>2</th>\n",
       "      <td>50</td>\n",
       "      <td>30</td>\n",
       "      <td>19.890000</td>\n",
       "      <td>46.300000</td>\n",
       "      <td>19.200000</td>\n",
       "      <td>44.626667</td>\n",
       "      <td>19.790000</td>\n",
       "      <td>44.933333</td>\n",
       "      <td>18.926667</td>\n",
       "      <td>45.890000</td>\n",
       "      <td>...</td>\n",
       "      <td>6.366667</td>\n",
       "      <td>733.7</td>\n",
       "      <td>92.000000</td>\n",
       "      <td>6.333333</td>\n",
       "      <td>55.333333</td>\n",
       "      <td>5.100000</td>\n",
       "      <td>2016</td>\n",
       "      <td>1</td>\n",
       "      <td>11</td>\n",
       "      <td>0</td>\n",
       "    </tr>\n",
       "    <tr>\n",
       "      <th>3</th>\n",
       "      <td>50</td>\n",
       "      <td>40</td>\n",
       "      <td>19.890000</td>\n",
       "      <td>46.066667</td>\n",
       "      <td>19.200000</td>\n",
       "      <td>44.590000</td>\n",
       "      <td>19.790000</td>\n",
       "      <td>45.000000</td>\n",
       "      <td>18.890000</td>\n",
       "      <td>45.723333</td>\n",
       "      <td>...</td>\n",
       "      <td>6.250000</td>\n",
       "      <td>733.8</td>\n",
       "      <td>92.000000</td>\n",
       "      <td>6.000000</td>\n",
       "      <td>51.500000</td>\n",
       "      <td>5.000000</td>\n",
       "      <td>2016</td>\n",
       "      <td>1</td>\n",
       "      <td>11</td>\n",
       "      <td>0</td>\n",
       "    </tr>\n",
       "    <tr>\n",
       "      <th>4</th>\n",
       "      <td>60</td>\n",
       "      <td>40</td>\n",
       "      <td>19.890000</td>\n",
       "      <td>46.333333</td>\n",
       "      <td>19.200000</td>\n",
       "      <td>44.530000</td>\n",
       "      <td>19.790000</td>\n",
       "      <td>45.000000</td>\n",
       "      <td>18.890000</td>\n",
       "      <td>45.530000</td>\n",
       "      <td>...</td>\n",
       "      <td>6.133333</td>\n",
       "      <td>733.9</td>\n",
       "      <td>92.000000</td>\n",
       "      <td>5.666667</td>\n",
       "      <td>47.666667</td>\n",
       "      <td>4.900000</td>\n",
       "      <td>2016</td>\n",
       "      <td>1</td>\n",
       "      <td>11</td>\n",
       "      <td>0</td>\n",
       "    </tr>\n",
       "    <tr>\n",
       "      <th>...</th>\n",
       "      <td>...</td>\n",
       "      <td>...</td>\n",
       "      <td>...</td>\n",
       "      <td>...</td>\n",
       "      <td>...</td>\n",
       "      <td>...</td>\n",
       "      <td>...</td>\n",
       "      <td>...</td>\n",
       "      <td>...</td>\n",
       "      <td>...</td>\n",
       "      <td>...</td>\n",
       "      <td>...</td>\n",
       "      <td>...</td>\n",
       "      <td>...</td>\n",
       "      <td>...</td>\n",
       "      <td>...</td>\n",
       "      <td>...</td>\n",
       "      <td>...</td>\n",
       "      <td>...</td>\n",
       "      <td>...</td>\n",
       "      <td>...</td>\n",
       "    </tr>\n",
       "    <tr>\n",
       "      <th>19730</th>\n",
       "      <td>100</td>\n",
       "      <td>0</td>\n",
       "      <td>25.566667</td>\n",
       "      <td>46.560000</td>\n",
       "      <td>25.890000</td>\n",
       "      <td>42.025714</td>\n",
       "      <td>27.200000</td>\n",
       "      <td>41.163333</td>\n",
       "      <td>24.700000</td>\n",
       "      <td>45.590000</td>\n",
       "      <td>...</td>\n",
       "      <td>22.733333</td>\n",
       "      <td>755.2</td>\n",
       "      <td>55.666667</td>\n",
       "      <td>3.333333</td>\n",
       "      <td>23.666667</td>\n",
       "      <td>13.333333</td>\n",
       "      <td>2016</td>\n",
       "      <td>5</td>\n",
       "      <td>27</td>\n",
       "      <td>4</td>\n",
       "    </tr>\n",
       "    <tr>\n",
       "      <th>19731</th>\n",
       "      <td>90</td>\n",
       "      <td>0</td>\n",
       "      <td>25.500000</td>\n",
       "      <td>46.500000</td>\n",
       "      <td>25.754000</td>\n",
       "      <td>42.080000</td>\n",
       "      <td>27.133333</td>\n",
       "      <td>41.223333</td>\n",
       "      <td>24.700000</td>\n",
       "      <td>45.590000</td>\n",
       "      <td>...</td>\n",
       "      <td>22.600000</td>\n",
       "      <td>755.2</td>\n",
       "      <td>56.000000</td>\n",
       "      <td>3.500000</td>\n",
       "      <td>24.500000</td>\n",
       "      <td>13.300000</td>\n",
       "      <td>2016</td>\n",
       "      <td>5</td>\n",
       "      <td>27</td>\n",
       "      <td>4</td>\n",
       "    </tr>\n",
       "    <tr>\n",
       "      <th>19732</th>\n",
       "      <td>270</td>\n",
       "      <td>10</td>\n",
       "      <td>25.500000</td>\n",
       "      <td>46.596667</td>\n",
       "      <td>25.628571</td>\n",
       "      <td>42.768571</td>\n",
       "      <td>27.050000</td>\n",
       "      <td>41.690000</td>\n",
       "      <td>24.700000</td>\n",
       "      <td>45.730000</td>\n",
       "      <td>...</td>\n",
       "      <td>22.466667</td>\n",
       "      <td>755.2</td>\n",
       "      <td>56.333333</td>\n",
       "      <td>3.666667</td>\n",
       "      <td>25.333333</td>\n",
       "      <td>13.266667</td>\n",
       "      <td>2016</td>\n",
       "      <td>5</td>\n",
       "      <td>27</td>\n",
       "      <td>4</td>\n",
       "    </tr>\n",
       "    <tr>\n",
       "      <th>19733</th>\n",
       "      <td>420</td>\n",
       "      <td>10</td>\n",
       "      <td>25.500000</td>\n",
       "      <td>46.990000</td>\n",
       "      <td>25.414000</td>\n",
       "      <td>43.036000</td>\n",
       "      <td>26.890000</td>\n",
       "      <td>41.290000</td>\n",
       "      <td>24.700000</td>\n",
       "      <td>45.790000</td>\n",
       "      <td>...</td>\n",
       "      <td>22.333333</td>\n",
       "      <td>755.2</td>\n",
       "      <td>56.666667</td>\n",
       "      <td>3.833333</td>\n",
       "      <td>26.166667</td>\n",
       "      <td>13.233333</td>\n",
       "      <td>2016</td>\n",
       "      <td>5</td>\n",
       "      <td>27</td>\n",
       "      <td>4</td>\n",
       "    </tr>\n",
       "    <tr>\n",
       "      <th>19734</th>\n",
       "      <td>430</td>\n",
       "      <td>10</td>\n",
       "      <td>25.500000</td>\n",
       "      <td>46.600000</td>\n",
       "      <td>25.264286</td>\n",
       "      <td>42.971429</td>\n",
       "      <td>26.823333</td>\n",
       "      <td>41.156667</td>\n",
       "      <td>24.700000</td>\n",
       "      <td>45.963333</td>\n",
       "      <td>...</td>\n",
       "      <td>22.200000</td>\n",
       "      <td>755.2</td>\n",
       "      <td>57.000000</td>\n",
       "      <td>4.000000</td>\n",
       "      <td>27.000000</td>\n",
       "      <td>13.200000</td>\n",
       "      <td>2016</td>\n",
       "      <td>5</td>\n",
       "      <td>27</td>\n",
       "      <td>4</td>\n",
       "    </tr>\n",
       "  </tbody>\n",
       "</table>\n",
       "<p>19735 rows × 30 columns</p>\n",
       "</div>"
      ],
      "text/plain": [
       "       appliances  lights         t1       rh_1         t2       rh_2  \\\n",
       "0              60      30  19.890000  47.596667  19.200000  44.790000   \n",
       "1              60      30  19.890000  46.693333  19.200000  44.722500   \n",
       "2              50      30  19.890000  46.300000  19.200000  44.626667   \n",
       "3              50      40  19.890000  46.066667  19.200000  44.590000   \n",
       "4              60      40  19.890000  46.333333  19.200000  44.530000   \n",
       "...           ...     ...        ...        ...        ...        ...   \n",
       "19730         100       0  25.566667  46.560000  25.890000  42.025714   \n",
       "19731          90       0  25.500000  46.500000  25.754000  42.080000   \n",
       "19732         270      10  25.500000  46.596667  25.628571  42.768571   \n",
       "19733         420      10  25.500000  46.990000  25.414000  43.036000   \n",
       "19734         430      10  25.500000  46.600000  25.264286  42.971429   \n",
       "\n",
       "              t3       rh_3         t4       rh_4  ...      t_out  \\\n",
       "0      19.790000  44.730000  19.000000  45.566667  ...   6.600000   \n",
       "1      19.790000  44.790000  19.000000  45.992500  ...   6.483333   \n",
       "2      19.790000  44.933333  18.926667  45.890000  ...   6.366667   \n",
       "3      19.790000  45.000000  18.890000  45.723333  ...   6.250000   \n",
       "4      19.790000  45.000000  18.890000  45.530000  ...   6.133333   \n",
       "...          ...        ...        ...        ...  ...        ...   \n",
       "19730  27.200000  41.163333  24.700000  45.590000  ...  22.733333   \n",
       "19731  27.133333  41.223333  24.700000  45.590000  ...  22.600000   \n",
       "19732  27.050000  41.690000  24.700000  45.730000  ...  22.466667   \n",
       "19733  26.890000  41.290000  24.700000  45.790000  ...  22.333333   \n",
       "19734  26.823333  41.156667  24.700000  45.963333  ...  22.200000   \n",
       "\n",
       "       press_mm_hg     rh_out  windspeed  visibility  tdewpoint  year  month  \\\n",
       "0            733.5  92.000000   7.000000   63.000000   5.300000  2016      1   \n",
       "1            733.6  92.000000   6.666667   59.166667   5.200000  2016      1   \n",
       "2            733.7  92.000000   6.333333   55.333333   5.100000  2016      1   \n",
       "3            733.8  92.000000   6.000000   51.500000   5.000000  2016      1   \n",
       "4            733.9  92.000000   5.666667   47.666667   4.900000  2016      1   \n",
       "...            ...        ...        ...         ...        ...   ...    ...   \n",
       "19730        755.2  55.666667   3.333333   23.666667  13.333333  2016      5   \n",
       "19731        755.2  56.000000   3.500000   24.500000  13.300000  2016      5   \n",
       "19732        755.2  56.333333   3.666667   25.333333  13.266667  2016      5   \n",
       "19733        755.2  56.666667   3.833333   26.166667  13.233333  2016      5   \n",
       "19734        755.2  57.000000   4.000000   27.000000  13.200000  2016      5   \n",
       "\n",
       "       day  cluster  \n",
       "0       11        0  \n",
       "1       11        0  \n",
       "2       11        0  \n",
       "3       11        0  \n",
       "4       11        0  \n",
       "...    ...      ...  \n",
       "19730   27        4  \n",
       "19731   27        4  \n",
       "19732   27        4  \n",
       "19733   27        4  \n",
       "19734   27        4  \n",
       "\n",
       "[19735 rows x 30 columns]"
      ]
     },
     "execution_count": 72,
     "metadata": {},
     "output_type": "execute_result"
    }
   ],
   "source": [
    "energy_dataset"
   ]
  },
  {
   "cell_type": "code",
   "execution_count": 76,
   "id": "3d99cbdc",
   "metadata": {},
   "outputs": [
    {
     "data": {
      "text/html": [
       "<div>\n",
       "<style scoped>\n",
       "    .dataframe tbody tr th:only-of-type {\n",
       "        vertical-align: middle;\n",
       "    }\n",
       "\n",
       "    .dataframe tbody tr th {\n",
       "        vertical-align: top;\n",
       "    }\n",
       "\n",
       "    .dataframe thead th {\n",
       "        text-align: right;\n",
       "    }\n",
       "</style>\n",
       "<table border=\"1\" class=\"dataframe\">\n",
       "  <thead>\n",
       "    <tr style=\"text-align: right;\">\n",
       "      <th></th>\n",
       "      <th>cluster</th>\n",
       "      <th>count</th>\n",
       "    </tr>\n",
       "  </thead>\n",
       "  <tbody>\n",
       "    <tr>\n",
       "      <th>0</th>\n",
       "      <td>0</td>\n",
       "      <td>2890</td>\n",
       "    </tr>\n",
       "    <tr>\n",
       "      <th>1</th>\n",
       "      <td>1</td>\n",
       "      <td>3950</td>\n",
       "    </tr>\n",
       "    <tr>\n",
       "      <th>2</th>\n",
       "      <td>2</td>\n",
       "      <td>1390</td>\n",
       "    </tr>\n",
       "    <tr>\n",
       "      <th>3</th>\n",
       "      <td>3</td>\n",
       "      <td>3866</td>\n",
       "    </tr>\n",
       "    <tr>\n",
       "      <th>4</th>\n",
       "      <td>4</td>\n",
       "      <td>1406</td>\n",
       "    </tr>\n",
       "    <tr>\n",
       "      <th>5</th>\n",
       "      <td>5</td>\n",
       "      <td>3768</td>\n",
       "    </tr>\n",
       "    <tr>\n",
       "      <th>6</th>\n",
       "      <td>6</td>\n",
       "      <td>2465</td>\n",
       "    </tr>\n",
       "  </tbody>\n",
       "</table>\n",
       "</div>"
      ],
      "text/plain": [
       "  cluster  count\n",
       "0       0   2890\n",
       "1       1   3950\n",
       "2       2   1390\n",
       "3       3   3866\n",
       "4       4   1406\n",
       "5       5   3768\n",
       "6       6   2465"
      ]
     },
     "execution_count": 76,
     "metadata": {},
     "output_type": "execute_result"
    }
   ],
   "source": [
    "energy_dataset.groupby(by='cluster', as_index=False)['appliances'].count().rename(columns={'appliances': 'count'})"
   ]
  },
  {
   "cell_type": "markdown",
   "id": "407b6215",
   "metadata": {},
   "source": [
    "Bloxplot for each group by variable"
   ]
  },
  {
   "cell_type": "code",
   "execution_count": 63,
   "id": "08e6d1ca",
   "metadata": {},
   "outputs": [
    {
     "data": {
      "image/png": "[encoded data removed]",
      "text/plain": [
       "<Figure size 432x288 with 1 Axes>"
      ]
     },
     "metadata": {
      "needs_background": "light"
     },
     "output_type": "display_data"
    },
    {
     "data": {
      "image/png": "[encoded data removed]",
      "text/plain": [
       "<Figure size 432x288 with 1 Axes>"
      ]
     },
     "metadata": {
      "needs_background": "light"
     },
     "output_type": "display_data"
    },
    {
     "data": {
      "image/png": "[encoded data removed]",
      "text/plain": [
       "<Figure size 432x288 with 1 Axes>"
      ]
     },
     "metadata": {
      "needs_background": "light"
     },
     "output_type": "display_data"
    },
    {
     "data": {
      "image/png": "[encoded data removed]",
      "text/plain": [
       "<Figure size 432x288 with 1 Axes>"
      ]
     },
     "metadata": {
      "needs_background": "light"
     },
     "output_type": "display_data"
    },
    {
     "data": {
      "image/png": "[encoded data removed]",
      "text/plain": [
       "<Figure size 432x288 with 1 Axes>"
      ]
     },
     "metadata": {
      "needs_background": "light"
     },
     "output_type": "display_data"
    },
    {
     "data": {
      "image/png": "[encoded data removed]",
      "text/plain": [
       "<Figure size 432x288 with 1 Axes>"
      ]
     },
     "metadata": {
      "needs_background": "light"
     },
     "output_type": "display_data"
    },
    {
     "data": {
      "image/png": "[encoded data removed]",
      "text/plain": [
       "<Figure size 432x288 with 1 Axes>"
      ]
     },
     "metadata": {
      "needs_background": "light"
     },
     "output_type": "display_data"
    },
    {
     "data": {
      "image/png": "[encoded data removed]",
      "text/plain": [
       "<Figure size 432x288 with 1 Axes>"
      ]
     },
     "metadata": {
      "needs_background": "light"
     },
     "output_type": "display_data"
    },
    {
     "data": {
      "image/png": "[encoded data removed]",
      "text/plain": [
       "<Figure size 432x288 with 1 Axes>"
      ]
     },
     "metadata": {
      "needs_background": "light"
     },
     "output_type": "display_data"
    },
    {
     "data": {
      "image/png": "[encoded data removed]",
      "text/plain": [
       "<Figure size 432x288 with 1 Axes>"
      ]
     },
     "metadata": {
      "needs_background": "light"
     },
     "output_type": "display_data"
    },
    {
     "data": {
      "image/png": "[encoded data removed]",
      "text/plain": [
       "<Figure size 432x288 with 1 Axes>"
      ]
     },
     "metadata": {
      "needs_background": "light"
     },
     "output_type": "display_data"
    },
    {
     "data": {
      "image/png": "[encoded data removed]",
      "text/plain": [
       "<Figure size 432x288 with 1 Axes>"
      ]
     },
     "metadata": {
      "needs_background": "light"
     },
     "output_type": "display_data"
    },
    {
     "data": {
      "image/png": "[encoded data removed]",
      "text/plain": [
       "<Figure size 432x288 with 1 Axes>"
      ]
     },
     "metadata": {
      "needs_background": "light"
     },
     "output_type": "display_data"
    },
    {
     "data": {
      "image/png": "[encoded data removed]",
      "text/plain": [
       "<Figure size 432x288 with 1 Axes>"
      ]
     },
     "metadata": {
      "needs_background": "light"
     },
     "output_type": "display_data"
    },
    {
     "data": {
      "image/png": "[encoded data removed]",
      "text/plain": [
       "<Figure size 432x288 with 1 Axes>"
      ]
     },
     "metadata": {
      "needs_background": "light"
     },
     "output_type": "display_data"
    },
    {
     "data": {
      "image/png": "[encoded data removed]",
      "text/plain": [
       "<Figure size 432x288 with 1 Axes>"
      ]
     },
     "metadata": {
      "needs_background": "light"
     },
     "output_type": "display_data"
    },
    {
     "data": {
      "image/png": "[encoded data removed]",
      "text/plain": [
       "<Figure size 432x288 with 1 Axes>"
      ]
     },
     "metadata": {
      "needs_background": "light"
     },
     "output_type": "display_data"
    },
    {
     "data": {
      "image/png": "[encoded data removed]",
      "text/plain": [
       "<Figure size 432x288 with 1 Axes>"
      ]
     },
     "metadata": {
      "needs_background": "light"
     },
     "output_type": "display_data"
    },
    {
     "data": {
      "image/png": "[encoded data removed]",
      "text/plain": [
       "<Figure size 432x288 with 1 Axes>"
      ]
     },
     "metadata": {
      "needs_background": "light"
     },
     "output_type": "display_data"
    },
    {
     "data": {
      "image/png": "[encoded data removed]",
      "text/plain": [
       "<Figure size 432x288 with 1 Axes>"
      ]
     },
     "metadata": {
      "needs_background": "light"
     },
     "output_type": "display_data"
    },
    {
     "data": {
      "image/png": "[encoded data removed]",
      "text/plain": [
       "<Figure size 432x288 with 1 Axes>"
      ]
     },
     "metadata": {
      "needs_background": "light"
     },
     "output_type": "display_data"
    },
    {
     "data": {
      "image/png": "[encoded data removed]",
      "text/plain": [
       "<Figure size 432x288 with 1 Axes>"
      ]
     },
     "metadata": {
      "needs_background": "light"
     },
     "output_type": "display_data"
    },
    {
     "data": {
      "image/png": "[encoded data removed]",
      "text/plain": [
       "<Figure size 432x288 with 1 Axes>"
      ]
     },
     "metadata": {
      "needs_background": "light"
     },
     "output_type": "display_data"
    },
    {
     "data": {
      "image/png": "[encoded data removed]",
      "text/plain": [
       "<Figure size 432x288 with 1 Axes>"
      ]
     },
     "metadata": {
      "needs_background": "light"
     },
     "output_type": "display_data"
    },
    {
     "data": {
      "image/png": "[encoded data removed]",
      "text/plain": [
       "<Figure size 432x288 with 1 Axes>"
      ]
     },
     "metadata": {
      "needs_background": "light"
     },
     "output_type": "display_data"
    },
    {
     "data": {
      "image/png": "[encoded data removed]",
      "text/plain": [
       "<Figure size 432x288 with 1 Axes>"
      ]
     },
     "metadata": {
      "needs_background": "light"
     },
     "output_type": "display_data"
    },
    {
     "data": {
      "image/png": "[encoded data removed]",
      "text/plain": [
       "<Figure size 432x288 with 1 Axes>"
      ]
     },
     "metadata": {
      "needs_background": "light"
     },
     "output_type": "display_data"
    },
    {
     "data": {
      "image/png": "[encoded data removed]",
      "text/plain": [
       "<Figure size 432x288 with 1 Axes>"
      ]
     },
     "metadata": {
      "needs_background": "light"
     },
     "output_type": "display_data"
    },
    {
     "data": {
      "image/png": "[encoded data removed]",
      "text/plain": [
       "<Figure size 432x288 with 1 Axes>"
      ]
     },
     "metadata": {
      "needs_background": "light"
     },
     "output_type": "display_data"
    },
    {
     "data": {
      "image/png": "[encoded data removed]",
      "text/plain": [
       "<Figure size 432x288 with 1 Axes>"
      ]
     },
     "metadata": {
      "needs_background": "light"
     },
     "output_type": "display_data"
    }
   ],
   "source": [
    "for col in energy_dataset.columns.values:\n",
    "    plt.clf()\n",
    "    a = sns.boxplot(x='cluster',y=col, data=energy_dataset)\n",
    "    plt.show(a)"
   ]
  },
  {
   "cell_type": "code",
   "execution_count": 68,
   "id": "b829fc5d",
   "metadata": {},
   "outputs": [
    {
     "data": {
      "text/plain": [
       "<AxesSubplot:xlabel='t1', ylabel='t2'>"
      ]
     },
     "execution_count": 68,
     "metadata": {},
     "output_type": "execute_result"
    },
    {
     "data": {
      "image/png": "[encoded data removed]",
      "text/plain": [
       "<Figure size 432x288 with 1 Axes>"
      ]
     },
     "metadata": {
      "needs_background": "light"
     },
     "output_type": "display_data"
    }
   ],
   "source": [
    "sns.scatterplot(x=\"t1\", y=\"t2\", data=energy_dataset, hue=\"cluster\", alpha=0.1)"
   ]
  }
 ],
 "metadata": {
  "kernelspec": {
   "display_name": "Python 3",
   "language": "python",
   "name": "python3"
  },
  "language_info": {
   "codemirror_mode": {
    "name": "ipython",
    "version": 3
   },
   "file_extension": ".py",
   "mimetype": "text/x-python",
   "name": "python",
   "nbconvert_exporter": "python",
   "pygments_lexer": "ipython3",
   "version": "3.8.8"
  }
 },
 "nbformat": 4,
 "nbformat_minor": 5
}
