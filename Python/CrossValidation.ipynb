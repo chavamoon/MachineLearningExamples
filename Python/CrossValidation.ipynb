{
  "nbformat": 4,
  "nbformat_minor": 0,
  "metadata": {
    "colab": {
      "name": "CrossValidation.ipynb",
      "provenance": [],
      "authorship_tag": "ABX9TyNXhTHY1ROiQ45W2h5PKlMO",
      "include_colab_link": true
    },
    "kernelspec": {
      "name": "python3",
      "display_name": "Python 3"
    },
    "language_info": {
      "name": "python"
    }
  },
  "cells": [
    {
      "cell_type": "markdown",
      "metadata": {
        "id": "view-in-github",
        "colab_type": "text"
      },
      "source": [
        "<a href=\"https://colab.research.google.com/github/chavamoon/MachineLearningExamples/blob/main/Python/CrossValidation.ipynb\" target=\"_parent\"><img src=\"https://colab.research.google.com/assets/colab-badge.svg\" alt=\"Open In Colab\"/></a>"
      ]
    },
    {
      "cell_type": "code",
      "metadata": {
        "id": "u0unMtV6HQHh"
      },
      "source": [
        "import pandas as pd\n",
        "import numpy as np\n",
        "import matplotlib.pyplot as plt\n",
        "\n",
        "from sklearn.model_selection import KFold\n",
        "from sklearn.model_selection import TimeSeriesSplit"
      ],
      "execution_count": 8,
      "outputs": []
    },
    {
      "cell_type": "code",
      "metadata": {
        "id": "h2AGjwS5H2XG"
      },
      "source": [
        "np.random.seed(200725)"
      ],
      "execution_count": 3,
      "outputs": []
    },
    {
      "cell_type": "code",
      "metadata": {
        "id": "IHzwIrdBIBbd"
      },
      "source": [
        "X = np.array([[10,5,2], [8,3,1], [11,4,4], [10,2,2], [5,2,5], [2,3,4], [1,2,3], [12,5,3], [4,3,2], [1,2,1]])\n",
        "y = np.array([1,2,1,3,1,2,1,2,3,1])"
      ],
      "execution_count": 5,
      "outputs": []
    },
    {
      "cell_type": "code",
      "metadata": {
        "colab": {
          "base_uri": "https://localhost:8080/"
        },
        "id": "WLzSz2rwJgFp",
        "outputId": "e8b7a7bf-73b6-4475-dfd8-1cfd81badd5b"
      },
      "source": [
        "#K-fold\n",
        "kf = KFold(n_splits=4)\n",
        "\n",
        "for train_indexes, test_indexes in kf.split(X):\n",
        "    print('train indexes: ', train_indexes, 'test indexes: ', test_indexes)\n",
        "    X_train, X_test = X[train_indexes], X[test_indexes]\n",
        "    y_train, y_test = y[train_indexes], y[test_indexes]\n",
        "    print('train elements:\\n ', X_train, y_train)\n",
        "    print('test elements:\\n', X_test, y_test)"
      ],
      "execution_count": 7,
      "outputs": [
        {
          "output_type": "stream",
          "text": [
            "train indexes:  [3 4 5 6 7 8 9] test indexes:  [0 1 2]\n",
            "train elements:\n",
            "  [[10  2  2]\n",
            " [ 5  2  5]\n",
            " [ 2  3  4]\n",
            " [ 1  2  3]\n",
            " [12  5  3]\n",
            " [ 4  3  2]\n",
            " [ 1  2  1]] [3 1 2 1 2 3 1]\n",
            "test elements:\n",
            " [[10  5  2]\n",
            " [ 8  3  1]\n",
            " [11  4  4]] [1 2 1]\n",
            "train indexes:  [0 1 2 6 7 8 9] test indexes:  [3 4 5]\n",
            "train elements:\n",
            "  [[10  5  2]\n",
            " [ 8  3  1]\n",
            " [11  4  4]\n",
            " [ 1  2  3]\n",
            " [12  5  3]\n",
            " [ 4  3  2]\n",
            " [ 1  2  1]] [1 2 1 1 2 3 1]\n",
            "test elements:\n",
            " [[10  2  2]\n",
            " [ 5  2  5]\n",
            " [ 2  3  4]] [3 1 2]\n",
            "train indexes:  [0 1 2 3 4 5 8 9] test indexes:  [6 7]\n",
            "train elements:\n",
            "  [[10  5  2]\n",
            " [ 8  3  1]\n",
            " [11  4  4]\n",
            " [10  2  2]\n",
            " [ 5  2  5]\n",
            " [ 2  3  4]\n",
            " [ 4  3  2]\n",
            " [ 1  2  1]] [1 2 1 3 1 2 3 1]\n",
            "test elements:\n",
            " [[ 1  2  3]\n",
            " [12  5  3]] [1 2]\n",
            "train indexes:  [0 1 2 3 4 5 6 7] test indexes:  [8 9]\n",
            "train elements:\n",
            "  [[10  5  2]\n",
            " [ 8  3  1]\n",
            " [11  4  4]\n",
            " [10  2  2]\n",
            " [ 5  2  5]\n",
            " [ 2  3  4]\n",
            " [ 1  2  3]\n",
            " [12  5  3]] [1 2 1 3 1 2 1 2]\n",
            "test elements:\n",
            " [[4 3 2]\n",
            " [1 2 1]] [3 1]\n"
          ],
          "name": "stdout"
        }
      ]
    },
    {
      "cell_type": "code",
      "metadata": {
        "colab": {
          "base_uri": "https://localhost:8080/"
        },
        "id": "cQVt9eddOqhJ",
        "outputId": "17f047bc-c7ca-446e-e4ed-09659554edf6"
      },
      "source": [
        "#Temporal cross validation\n",
        "tpv = TimeSeriesSplit(n_splits=5)\n",
        "for train_indexes, test_indexes in tpv.split(X):\n",
        "    print('train indexes: ', train_indexes, 'test indexes: ', test_indexes)\n",
        "    X_train, X_test = X[train_indexes], X[test_indexes]\n",
        "    y_train, y_test = y[train_indexes], y[test_indexes]\n",
        "    print('train elements:\\n ', X_train, y_train)\n",
        "    print('test elements:\\n', X_test, y_test)\n"
      ],
      "execution_count": 9,
      "outputs": [
        {
          "output_type": "stream",
          "text": [
            "train indexes:  [0 1 2 3 4] test indexes:  [5]\n",
            "train elements:\n",
            "  [[10  5  2]\n",
            " [ 8  3  1]\n",
            " [11  4  4]\n",
            " [10  2  2]\n",
            " [ 5  2  5]] [1 2 1 3 1]\n",
            "test elements:\n",
            " [[2 3 4]] [2]\n",
            "train indexes:  [0 1 2 3 4 5] test indexes:  [6]\n",
            "train elements:\n",
            "  [[10  5  2]\n",
            " [ 8  3  1]\n",
            " [11  4  4]\n",
            " [10  2  2]\n",
            " [ 5  2  5]\n",
            " [ 2  3  4]] [1 2 1 3 1 2]\n",
            "test elements:\n",
            " [[1 2 3]] [1]\n",
            "train indexes:  [0 1 2 3 4 5 6] test indexes:  [7]\n",
            "train elements:\n",
            "  [[10  5  2]\n",
            " [ 8  3  1]\n",
            " [11  4  4]\n",
            " [10  2  2]\n",
            " [ 5  2  5]\n",
            " [ 2  3  4]\n",
            " [ 1  2  3]] [1 2 1 3 1 2 1]\n",
            "test elements:\n",
            " [[12  5  3]] [2]\n",
            "train indexes:  [0 1 2 3 4 5 6 7] test indexes:  [8]\n",
            "train elements:\n",
            "  [[10  5  2]\n",
            " [ 8  3  1]\n",
            " [11  4  4]\n",
            " [10  2  2]\n",
            " [ 5  2  5]\n",
            " [ 2  3  4]\n",
            " [ 1  2  3]\n",
            " [12  5  3]] [1 2 1 3 1 2 1 2]\n",
            "test elements:\n",
            " [[4 3 2]] [3]\n",
            "train indexes:  [0 1 2 3 4 5 6 7 8] test indexes:  [9]\n",
            "train elements:\n",
            "  [[10  5  2]\n",
            " [ 8  3  1]\n",
            " [11  4  4]\n",
            " [10  2  2]\n",
            " [ 5  2  5]\n",
            " [ 2  3  4]\n",
            " [ 1  2  3]\n",
            " [12  5  3]\n",
            " [ 4  3  2]] [1 2 1 3 1 2 1 2 3]\n",
            "test elements:\n",
            " [[1 2 1]] [1]\n"
          ],
          "name": "stdout"
        }
      ]
    }
  ]
}