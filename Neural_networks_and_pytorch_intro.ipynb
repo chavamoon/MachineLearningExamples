{
  "nbformat": 4,
  "nbformat_minor": 0,
  "metadata": {
    "colab": {
      "name": "Neural networks and pytorch intro.ipynb",
      "provenance": [],
      "collapsed_sections": [],
      "authorship_tag": "ABX9TyMgjPGMYpRSX+LZnwxHL1j1",
      "include_colab_link": true
    },
    "kernelspec": {
      "name": "python3",
      "display_name": "Python 3"
    },
    "language_info": {
      "name": "python"
    }
  },
  "cells": [
    {
      "cell_type": "markdown",
      "metadata": {
        "id": "view-in-github",
        "colab_type": "text"
      },
      "source": [
        "<a href=\"https://colab.research.google.com/github/chavamoon/MachineLearningExamples/blob/main/Neural_networks_and_pytorch_intro.ipynb\" target=\"_parent\"><img src=\"https://colab.research.google.com/assets/colab-badge.svg\" alt=\"Open In Colab\"/></a>"
      ]
    },
    {
      "cell_type": "code",
      "execution_count": 1,
      "metadata": {
        "id": "C1ZajIwDhcKV"
      },
      "outputs": [],
      "source": [
        "import torch"
      ]
    },
    {
      "cell_type": "markdown",
      "source": [
        "## **Pytorch intro**"
      ],
      "metadata": {
        "id": "pxAB7Y_Xhhzk"
      }
    },
    {
      "cell_type": "markdown",
      "source": [
        "#### Empty torch torch.empty "
      ],
      "metadata": {
        "id": "eDQCcbqShszW"
      }
    },
    {
      "cell_type": "markdown",
      "source": [
        "Returns a tensor filled with uninitialized data. The shape of the tensor is defined by the variable argument size.\n",
        "https://pytorch.org/docs/stable/generated/torch.empty.html"
      ],
      "metadata": {
        "id": "oIAHh7RTh5M9"
      }
    },
    {
      "cell_type": "code",
      "source": [
        "# Scalar\n",
        "x = torch.empty(1)\n",
        "print('\\n----------------------------Scalar----------------------------:\\n', x)\n",
        "print('Size:', x.size())\n",
        "\n",
        "#Vector\n",
        "x = torch.empty(1,4)\n",
        "print('\\n----------------------------Vector----------------------------:\\n', x)\n",
        "print('Size:', x.size())\n",
        "\n",
        "#Matrix\n",
        "x = torch.empty(3,3)\n",
        "print('\\n----------------------------Matrix----------------------------:\\n', x)\n",
        "print('Size:', x.size())\n",
        "\n",
        "#3d Tensor\n",
        "x = torch.empty(3,5,4)\n",
        "print('\\n----------------------------3D Tensor----------------------------:\\n', x)\n",
        "print('Size:', x.size())"
      ],
      "metadata": {
        "colab": {
          "base_uri": "https://localhost:8080/"
        },
        "id": "UKbQb-N5hj_9",
        "outputId": "7a6d6b41-9a11-4b46-c277-2be70e31c12e"
      },
      "execution_count": 6,
      "outputs": [
        {
          "output_type": "stream",
          "name": "stdout",
          "text": [
            "\n",
            "----------------------------Scalar----------------------------:\n",
            " tensor([6.8126e+19])\n",
            "Size: torch.Size([1])\n",
            "\n",
            "----------------------------Vector----------------------------:\n",
            " tensor([[6.8127e+19, 3.0848e-41, 3.3631e-44, 0.0000e+00]])\n",
            "Size: torch.Size([1, 4])\n",
            "\n",
            "----------------------------Matrix----------------------------:\n",
            " tensor([[6.8125e+19, 3.0848e-41, 3.3631e-44],\n",
            "        [0.0000e+00,        nan, 6.4460e-44],\n",
            "        [4.4721e+21, 1.5956e+25, 4.7399e+16]])\n",
            "Size: torch.Size([3, 3])\n",
            "\n",
            "----------------------------3D Tensor----------------------------:\n",
            " tensor([[[2.0090e+18, 3.0848e-41, 2.8727e-43, 0.0000e+00],\n",
            "         [0.0000e+00, 0.0000e+00, 0.0000e+00, 0.0000e+00],\n",
            "         [0.0000e+00, 0.0000e+00, 1.9422e+31, 2.7491e+20],\n",
            "         [6.1949e-04, 1.9421e+31, 2.7491e+20, 2.3078e-12],\n",
            "         [1.8788e+31, 7.9303e+34, 6.1949e-04, 1.8590e+34]],\n",
            "\n",
            "        [[7.7767e+31, 7.1536e+22, 1.8180e+31, 1.4580e-19],\n",
            "         [1.1495e+24, 3.0956e-18, 4.7851e+22, 4.1575e+21],\n",
            "         [8.3186e+20, 1.7079e-07, 4.2011e-05, 2.7451e-06],\n",
            "         [5.3696e-05, 3.3831e+21, 2.4153e-18, 8.2207e+32],\n",
            "         [1.8394e+25, 6.1963e-04, 4.1185e-11, 1.4580e-19]],\n",
            "\n",
            "        [[1.8179e+31, 1.8524e+28, 2.1715e-18, 2.1007e+20],\n",
            "         [1.6504e-07, 2.6556e-06, 3.3557e-06, 2.1590e-04],\n",
            "         [6.6290e-10, 2.6407e-06, 4.3200e-05, 2.1707e-18],\n",
            "         [7.2128e+22, 2.1715e-18, 1.0372e-08, 1.0072e-11],\n",
            "         [3.0881e-09, 6.6022e-07, 4.1197e-11, 1.7157e-07]]])\n",
            "Size: torch.Size([3, 5, 4])\n"
          ]
        }
      ]
    },
    {
      "cell_type": "markdown",
      "source": [
        "#### Random, ones and zeros tensors"
      ],
      "metadata": {
        "id": "z4GRwhQllogF"
      }
    },
    {
      "cell_type": "code",
      "source": [
        "print(torch.rand(3,4))\n",
        "print(torch.ones(3,4))\n",
        "print(torch.zeros(3,4))"
      ],
      "metadata": {
        "colab": {
          "base_uri": "https://localhost:8080/"
        },
        "id": "woNnrjA5lu0O",
        "outputId": "f5537374-21ee-43c0-8145-721c1690d09b"
      },
      "execution_count": 7,
      "outputs": [
        {
          "output_type": "stream",
          "name": "stdout",
          "text": [
            "tensor([[0.1725, 0.1760, 0.5230, 0.2637],\n",
            "        [0.2441, 0.5798, 0.0397, 0.1798],\n",
            "        [0.9468, 0.5599, 0.0830, 0.5049]])\n",
            "tensor([[1., 1., 1., 1.],\n",
            "        [1., 1., 1., 1.],\n",
            "        [1., 1., 1., 1.]])\n",
            "tensor([[0., 0., 0., 0.],\n",
            "        [0., 0., 0., 0.],\n",
            "        [0., 0., 0., 0.]])\n"
          ]
        }
      ]
    },
    {
      "cell_type": "markdown",
      "source": [
        "#### Tensor types"
      ],
      "metadata": {
        "id": "DJ8-VIsGl-KU"
      }
    },
    {
      "cell_type": "code",
      "source": [
        "#double\n",
        "x= torch.rand(3,2, dtype=torch.double)\n",
        "print('\\nDouble: \\n', x)\n",
        "\n",
        "#float\n",
        "x= torch.rand(3,2, dtype=torch.float)\n",
        "print('\\nFloat: \\n', x)"
      ],
      "metadata": {
        "colab": {
          "base_uri": "https://localhost:8080/"
        },
        "id": "qGWMZyOtmCcz",
        "outputId": "e502830b-340a-42b9-8180-e268392feb98"
      },
      "execution_count": 8,
      "outputs": [
        {
          "output_type": "stream",
          "name": "stdout",
          "text": [
            "\n",
            "Double: \n",
            " tensor([[0.9720, 0.9280],\n",
            "        [0.0990, 0.7677],\n",
            "        [0.2182, 0.4357]], dtype=torch.float64)\n",
            "\n",
            "Float: \n",
            " tensor([[0.1291, 0.8198],\n",
            "        [0.2982, 0.9236],\n",
            "        [0.0854, 0.0635]])\n"
          ]
        }
      ]
    },
    {
      "cell_type": "markdown",
      "source": [
        "#### From List to tensor"
      ],
      "metadata": {
        "id": "PBvfawyYtPYd"
      }
    },
    {
      "cell_type": "code",
      "source": [
        "print('\\nTensor from list \\n')\n",
        "x = torch.tensor([3.0,4.0,5.0])\n",
        "print(x)\n",
        "print(x.size())\n",
        "\n",
        "print('\\nTensor from list of lists (vector)\\n')\n",
        "x = torch.tensor([[3.0,4.0,5.0]])\n",
        "print(x)\n",
        "print(x.size())\n",
        "\n",
        "print('\\nTensor from list of lists (matrix)\\n')\n",
        "x = torch.tensor([[3.0,4.0,5.0],[1.0, 2.0, 3.0]])\n",
        "print(x)\n",
        "print(x.size())"
      ],
      "metadata": {
        "colab": {
          "base_uri": "https://localhost:8080/"
        },
        "id": "DVfESjM-tTcu",
        "outputId": "db232cab-2d81-4345-af35-bc611d4227aa"
      },
      "execution_count": 11,
      "outputs": [
        {
          "output_type": "stream",
          "name": "stdout",
          "text": [
            "\n",
            "Tensor from list \n",
            "\n",
            "tensor([3., 4., 5.])\n",
            "torch.Size([3])\n",
            "\n",
            "Tensor from list of lists (vector)\n",
            "\n",
            "tensor([[3., 4., 5.]])\n",
            "torch.Size([1, 3])\n",
            "\n",
            "Tensor from list of lists (matrix)\n",
            "\n",
            "tensor([[3., 4., 5.],\n",
            "        [1., 2., 3.]])\n",
            "torch.Size([2, 3])\n"
          ]
        }
      ]
    },
    {
      "cell_type": "markdown",
      "source": [
        "#### Tensor operations"
      ],
      "metadata": {
        "id": "kp33mo5st6Cm"
      }
    },
    {
      "cell_type": "markdown",
      "source": [
        "##### Tensor * Scalar"
      ],
      "metadata": {
        "id": "lIlHZHW3t_yu"
      }
    },
    {
      "cell_type": "code",
      "source": [
        "x = torch.ones(2,2)\n",
        "x *3"
      ],
      "metadata": {
        "colab": {
          "base_uri": "https://localhost:8080/"
        },
        "id": "51hgvOY3t-X-",
        "outputId": "f5220b59-fad2-4532-dec0-5f7ebe47e1ce"
      },
      "execution_count": 12,
      "outputs": [
        {
          "output_type": "execute_result",
          "data": {
            "text/plain": [
              "tensor([[3., 3.],\n",
              "        [3., 3.]])"
            ]
          },
          "metadata": {},
          "execution_count": 12
        }
      ]
    },
    {
      "cell_type": "markdown",
      "source": [
        "##### Tensors sum"
      ],
      "metadata": {
        "id": "oLOpLCEsuK6-"
      }
    },
    {
      "cell_type": "markdown",
      "source": [
        "Two ways, with + symbol or with torch.add method"
      ],
      "metadata": {
        "id": "0eg3sH_6uQke"
      }
    },
    {
      "cell_type": "code",
      "source": [
        "x = 2*torch.ones(2,2)\n",
        "y = torch.ones(2,2)\n",
        "\n",
        "print(x)\n",
        "print(y)\n",
        "\n",
        "print('\\nSum with + \\n', x+y)\n",
        "print('\\nSum with pytorch add\\n', torch.add(x,y))\n"
      ],
      "metadata": {
        "colab": {
          "base_uri": "https://localhost:8080/"
        },
        "id": "iuzEN6-xuVgF",
        "outputId": "8786012a-1ea3-435b-d4da-ac7fe93fe4a4"
      },
      "execution_count": 14,
      "outputs": [
        {
          "output_type": "stream",
          "name": "stdout",
          "text": [
            "tensor([[2., 2.],\n",
            "        [2., 2.]])\n",
            "tensor([[1., 1.],\n",
            "        [1., 1.]])\n",
            "\n",
            "Sum with + \n",
            " tensor([[3., 3.],\n",
            "        [3., 3.]])\n",
            "\n",
            "Sum with pytorch add\n",
            " tensor([[3., 3.],\n",
            "        [3., 3.]])\n"
          ]
        }
      ]
    },
    {
      "cell_type": "markdown",
      "source": [
        "Inplace sum with add_\n",
        "All torch operations contains an inplace wersion with a method with _ suffix "
      ],
      "metadata": {
        "id": "MTVL2uYMvN_m"
      }
    },
    {
      "cell_type": "code",
      "source": [
        "y = torch.ones(2,2)\n",
        "print(y)\n",
        "z = y\n",
        "z.add_(x)\n",
        "print('\\n',y)"
      ],
      "metadata": {
        "colab": {
          "base_uri": "https://localhost:8080/"
        },
        "id": "ti3ugBvYvp7k",
        "outputId": "3b7b3d34-8062-40f9-d03a-bc0d104105c2"
      },
      "execution_count": 15,
      "outputs": [
        {
          "output_type": "stream",
          "name": "stdout",
          "text": [
            "tensor([[1., 1.],\n",
            "        [1., 1.]])\n",
            "\n",
            " tensor([[3., 3.],\n",
            "        [3., 3.]])\n"
          ]
        }
      ]
    },
    {
      "cell_type": "markdown",
      "source": [
        "##### Copy tensors"
      ],
      "metadata": {
        "id": "h8txG-VZwIvG"
      }
    },
    {
      "cell_type": "markdown",
      "source": [
        "Tensors are passed by reference by new variables, if you want to create a copy of a torch the easiest way is with clone().detach()"
      ],
      "metadata": {
        "id": "xYOjk7_AwSvf"
      }
    },
    {
      "cell_type": "code",
      "source": [
        "y = torch.ones(2,2)\n",
        "print(y)\n",
        "z = y.clone().detach()\n",
        "z.add_(x)\n",
        "print('\\n',y)"
      ],
      "metadata": {
        "colab": {
          "base_uri": "https://localhost:8080/"
        },
        "id": "qB2ENJDOwLHN",
        "outputId": "231ec2de-369d-4eea-d55d-fc13b8071cf6"
      },
      "execution_count": 16,
      "outputs": [
        {
          "output_type": "stream",
          "name": "stdout",
          "text": [
            "tensor([[1., 1.],\n",
            "        [1., 1.]])\n",
            "\n",
            " tensor([[1., 1.],\n",
            "        [1., 1.]])\n"
          ]
        }
      ]
    },
    {
      "cell_type": "markdown",
      "source": [
        "##### Tensor multiplication"
      ],
      "metadata": {
        "id": "CJMzuLnkwEi4"
      }
    },
    {
      "cell_type": "markdown",
      "source": [
        "mul() for element-wise multiplication  \n",
        "div for element-wise div\n",
        "If you add _ suffix the operation will be done inplace"
      ],
      "metadata": {
        "id": "Fmcr3b03w8iM"
      }
    },
    {
      "cell_type": "code",
      "source": [
        "x = 2* torch.ones(2,2)\n",
        "y = 3* torch.ones(2,2)\n",
        "print(x)\n",
        "print(y)\n",
        "print('\\n mul\\n', torch.mul(x,y))\n",
        "print('\\n div\\n', torch.div(x,y))"
      ],
      "metadata": {
        "colab": {
          "base_uri": "https://localhost:8080/"
        },
        "id": "yMbyzzPsw5yn",
        "outputId": "cc9bd9fa-4081-46b4-cb17-ec943b0d278d"
      },
      "execution_count": 18,
      "outputs": [
        {
          "output_type": "stream",
          "name": "stdout",
          "text": [
            "tensor([[2., 2.],\n",
            "        [2., 2.]])\n",
            "tensor([[3., 3.],\n",
            "        [3., 3.]])\n",
            "\n",
            " mul\n",
            " tensor([[6., 6.],\n",
            "        [6., 6.]])\n",
            "\n",
            " div\n",
            " tensor([[0.6667, 0.6667],\n",
            "        [0.6667, 0.6667]])\n"
          ]
        }
      ]
    },
    {
      "cell_type": "markdown",
      "source": [
        "#### Tensor slices"
      ],
      "metadata": {
        "id": "MaGtLB2_zZpP"
      }
    },
    {
      "cell_type": "code",
      "source": [
        "x = torch.rand(2,3)\n",
        "print(x)\n",
        "print('\\nFirst column:\\n', x[:,0])\n",
        "print('\\nSecond column:\\n',x[:,1])\n",
        "print('\\nFirst row:\\n', x[0,:])\n",
        "print('\\nFirst element:\\n', x[0,0])"
      ],
      "metadata": {
        "colab": {
          "base_uri": "https://localhost:8080/"
        },
        "id": "oyswl5K-zen2",
        "outputId": "9ec0de25-2c49-412f-ff1f-b08365073467"
      },
      "execution_count": 20,
      "outputs": [
        {
          "output_type": "stream",
          "name": "stdout",
          "text": [
            "tensor([[0.0926, 0.1827, 0.4434],\n",
            "        [0.7679, 0.1382, 0.1795]])\n",
            "\n",
            "First column:\n",
            " tensor([0.0926, 0.7679])\n",
            "\n",
            "Second column:\n",
            " tensor([0.1827, 0.1382])\n",
            "\n",
            "First row:\n",
            " tensor([0.0926, 0.1827, 0.4434])\n",
            "\n",
            "First element:\n",
            " tensor(0.0926)\n"
          ]
        }
      ]
    },
    {
      "cell_type": "markdown",
      "source": [
        "#### Tensor reshape"
      ],
      "metadata": {
        "id": "VHbdJNkD0Gn2"
      }
    },
    {
      "cell_type": "markdown",
      "source": [
        "**view method allow us to modify tensors shape**"
      ],
      "metadata": {
        "id": "-pE-_Xdj0PG_"
      }
    },
    {
      "cell_type": "markdown",
      "source": [
        "view(-1) reduces one dimension"
      ],
      "metadata": {
        "id": "5xQ0iJ2j0WXd"
      }
    },
    {
      "cell_type": "code",
      "source": [
        "x = torch.rand(4,4)\n",
        "print(x)\n",
        "\n",
        "print('\\n Unidimensional tensor: \\n')\n",
        "print(x.view(-1))"
      ],
      "metadata": {
        "colab": {
          "base_uri": "https://localhost:8080/"
        },
        "id": "13EqZiFY0LKe",
        "outputId": "aa413c0b-070c-408d-ea16-7c5aaf068abe"
      },
      "execution_count": 21,
      "outputs": [
        {
          "output_type": "stream",
          "name": "stdout",
          "text": [
            "tensor([[0.5726, 0.7866, 0.1130, 0.8924],\n",
            "        [0.9729, 0.6911, 0.1535, 0.4172],\n",
            "        [0.2860, 0.7404, 0.6883, 0.3342],\n",
            "        [0.2379, 0.2465, 0.3115, 0.6316]])\n",
            "\n",
            " Unidimensional tensor: \n",
            "\n",
            "tensor([0.5726, 0.7866, 0.1130, 0.8924, 0.9729, 0.6911, 0.1535, 0.4172, 0.2860,\n",
            "        0.7404, 0.6883, 0.3342, 0.2379, 0.2465, 0.3115, 0.6316])\n"
          ]
        }
      ]
    },
    {
      "cell_type": "markdown",
      "source": [
        "If we use with -1 argument with the desired size from the result dimension, torch will calculate it automatically.\n",
        "For example:\n",
        " * 8 columns (-1,8)\n",
        " * 8 rows (8,-1)"
      ],
      "metadata": {
        "id": "6SYhsntD0sDO"
      }
    },
    {
      "cell_type": "code",
      "source": [
        "print(x)\n",
        "print('\\n 8 columns tensor : \\n')\n",
        "print(x.view(-1, 8))\n",
        "\n",
        "print('\\n 8 rows tensor : \\n')\n",
        "print(x.view(8, -1))"
      ],
      "metadata": {
        "colab": {
          "base_uri": "https://localhost:8080/"
        },
        "id": "XNF9W_iV1NLe",
        "outputId": "623aab5a-62e4-40f9-9a15-5e2f0043678d"
      },
      "execution_count": 22,
      "outputs": [
        {
          "output_type": "stream",
          "name": "stdout",
          "text": [
            "tensor([[0.5726, 0.7866, 0.1130, 0.8924],\n",
            "        [0.9729, 0.6911, 0.1535, 0.4172],\n",
            "        [0.2860, 0.7404, 0.6883, 0.3342],\n",
            "        [0.2379, 0.2465, 0.3115, 0.6316]])\n",
            "\n",
            " 8 columns tensor : \n",
            "\n",
            "tensor([[0.5726, 0.7866, 0.1130, 0.8924, 0.9729, 0.6911, 0.1535, 0.4172],\n",
            "        [0.2860, 0.7404, 0.6883, 0.3342, 0.2379, 0.2465, 0.3115, 0.6316]])\n",
            "\n",
            " 8 rows tensor : \n",
            "\n",
            "tensor([[0.5726, 0.7866],\n",
            "        [0.1130, 0.8924],\n",
            "        [0.9729, 0.6911],\n",
            "        [0.1535, 0.4172],\n",
            "        [0.2860, 0.7404],\n",
            "        [0.6883, 0.3342],\n",
            "        [0.2379, 0.2465],\n",
            "        [0.3115, 0.6316]])\n"
          ]
        }
      ]
    },
    {
      "cell_type": "markdown",
      "source": [
        "**None argument allow us to modify dimensions too**"
      ],
      "metadata": {
        "id": "SyH43xOX1dY1"
      }
    },
    {
      "cell_type": "markdown",
      "source": [
        "[None,:] Adds a extra dimesion where Nonw keyword is found. It helps us when we multiply matrixs"
      ],
      "metadata": {
        "id": "WIAl4inO2j_z"
      }
    },
    {
      "cell_type": "code",
      "source": [
        "y = torch.tensor([1.0,1.0,1.0])\n",
        "print(y)\n",
        "print('Dim : ', y.shape)"
      ],
      "metadata": {
        "colab": {
          "base_uri": "https://localhost:8080/"
        },
        "id": "Aqu-StEW1jUw",
        "outputId": "f544b94f-e503-423f-b318-6dde5ed0b16b"
      },
      "execution_count": 23,
      "outputs": [
        {
          "output_type": "stream",
          "name": "stdout",
          "text": [
            "tensor([1., 1., 1.])\n",
            "Dim :  torch.Size([3])\n"
          ]
        }
      ]
    },
    {
      "cell_type": "code",
      "source": [
        "y = torch.tensor([1.0,1.0,1.0])[:,None]\n",
        "print(y)\n",
        "print('Dim : ', y.shape)\n",
        "y2 = y[:,None]\n",
        "print(y2)\n",
        "print('Dim : ', y2.shape)"
      ],
      "metadata": {
        "colab": {
          "base_uri": "https://localhost:8080/"
        },
        "id": "1rZw8VhD2DH4",
        "outputId": "8ad28b5a-a198-496d-d884-46cc8b1eccc7"
      },
      "execution_count": 27,
      "outputs": [
        {
          "output_type": "stream",
          "name": "stdout",
          "text": [
            "tensor([[1.],\n",
            "        [1.],\n",
            "        [1.]])\n",
            "Dim :  torch.Size([3, 1])\n",
            "tensor([[[1.]],\n",
            "\n",
            "        [[1.]],\n",
            "\n",
            "        [[1.]]])\n",
            "Dim :  torch.Size([3, 1, 1])\n"
          ]
        }
      ]
    },
    {
      "cell_type": "code",
      "source": [
        "y = torch.tensor([1.0,1.0,1.0])[None,:]\n",
        "print(y)\n",
        "print('Dim : ', y.shape)"
      ],
      "metadata": {
        "colab": {
          "base_uri": "https://localhost:8080/"
        },
        "id": "JISL1p1k2IL-",
        "outputId": "d7d2361e-309d-434a-e869-0d8ebd3902dc"
      },
      "execution_count": 25,
      "outputs": [
        {
          "output_type": "stream",
          "name": "stdout",
          "text": [
            "tensor([[1., 1., 1.]])\n",
            "Dim :  torch.Size([1, 3])\n"
          ]
        }
      ]
    },
    {
      "cell_type": "markdown",
      "source": [
        "#### Numpy & Pytorch"
      ],
      "metadata": {
        "id": "Qjacn3Ap21HW"
      }
    },
    {
      "cell_type": "markdown",
      "source": [
        "##### Pytorch -> Numpy"
      ],
      "metadata": {
        "id": "UvcJPDUZ259W"
      }
    },
    {
      "cell_type": "markdown",
      "source": [
        "with numpy() method. It works as a pointer. Updates un torch object modifies numpy. Only when the tensor is not in GPU"
      ],
      "metadata": {
        "id": "-nxJVYMn2_v-"
      }
    },
    {
      "cell_type": "code",
      "source": [
        "import numpy as np\n",
        "\n",
        "a = torch.ones(3)\n",
        "print(a)\n",
        "b = a.numpy()\n",
        "print(b)\n",
        "\n",
        "a.add_(1)\n",
        "print(a)\n",
        "print(b)\n"
      ],
      "metadata": {
        "colab": {
          "base_uri": "https://localhost:8080/"
        },
        "id": "Y_hF3Agt3eGt",
        "outputId": "e8c123b7-37dd-482b-8589-dcbda3cdddd0"
      },
      "execution_count": 28,
      "outputs": [
        {
          "output_type": "stream",
          "name": "stdout",
          "text": [
            "tensor([1., 1., 1.])\n",
            "[1. 1. 1.]\n",
            "tensor([2., 2., 2.])\n",
            "[2. 2. 2.]\n"
          ]
        }
      ]
    },
    {
      "cell_type": "markdown",
      "source": [
        "##### Numpy -> Torch"
      ],
      "metadata": {
        "id": "FDj9V6Fw32bt"
      }
    },
    {
      "cell_type": "code",
      "source": [
        "a = np.ones((3,2))\n",
        "print(a)\n",
        "b = torch.from_numpy(a)\n",
        "print(b)\n"
      ],
      "metadata": {
        "colab": {
          "base_uri": "https://localhost:8080/"
        },
        "id": "rUMiqTrB35yO",
        "outputId": "82b5f6e7-fa47-403b-c530-535836bdadb1"
      },
      "execution_count": 29,
      "outputs": [
        {
          "output_type": "stream",
          "name": "stdout",
          "text": [
            "[[1. 1.]\n",
            " [1. 1.]\n",
            " [1. 1.]]\n",
            "tensor([[1., 1.],\n",
            "        [1., 1.],\n",
            "        [1., 1.]], dtype=torch.float64)\n"
          ]
        }
      ]
    },
    {
      "cell_type": "markdown",
      "source": [
        "#### Matrix multiplication"
      ],
      "metadata": {
        "id": "3VUsLQV24F7-"
      }
    },
    {
      "cell_type": "code",
      "source": [
        "#Element wise with mul or *\n",
        "#Matrix product with matmul\n",
        "\n",
        "#1.0 for converting matrix to float type\n",
        "\n",
        "x = 1.0*torch.tensor([[1,1,1],[2,2,2],[3,3,3]])\n",
        "print(x)\n",
        "y = torch.eye(3,3)\n",
        "print(y)\n",
        "\n",
        "print('\\n Element wise multiplication : \\n', x*y)\n",
        "\n",
        "print('\\n Matrix product : \\n', torch.matmul(x,y))"
      ],
      "metadata": {
        "colab": {
          "base_uri": "https://localhost:8080/"
        },
        "id": "ILzv39P44Jhu",
        "outputId": "1306bb4a-aae2-4738-f7ab-7a9e70aed994"
      },
      "execution_count": 30,
      "outputs": [
        {
          "output_type": "stream",
          "name": "stdout",
          "text": [
            "tensor([[1., 1., 1.],\n",
            "        [2., 2., 2.],\n",
            "        [3., 3., 3.]])\n",
            "tensor([[1., 0., 0.],\n",
            "        [0., 1., 0.],\n",
            "        [0., 0., 1.]])\n",
            "\n",
            " Element wise multiplication : \n",
            " tensor([[1., 0., 0.],\n",
            "        [0., 2., 0.],\n",
            "        [0., 0., 3.]])\n",
            "\n",
            " Matrix product : \n",
            " tensor([[1., 1., 1.],\n",
            "        [2., 2., 2.],\n",
            "        [3., 3., 3.]])\n"
          ]
        }
      ]
    },
    {
      "cell_type": "code",
      "source": [
        "x = torch.tensor([[1.0,1.0,1.0],[2.0,2.0,2.0],[3.0,3.0,3.0]])\n",
        "print('x:\\n',x)\n",
        "print('Dim:', x.shape)\n",
        "\n",
        "y = torch.tensor([1.0,1.0,1.0])[:,None]\n",
        "print('y:\\n',y)\n",
        "print('Dim:', y.shape)\n",
        "\n",
        "print('mul x, y:\\n', x.mul(y))\n",
        "print('Matmul x, y:\\n', x.matmul(y))"
      ],
      "metadata": {
        "colab": {
          "base_uri": "https://localhost:8080/"
        },
        "id": "nvNmfR7K54TW",
        "outputId": "7b7ef1e1-39d0-4ab4-80e5-c7d12401dcaa"
      },
      "execution_count": 39,
      "outputs": [
        {
          "output_type": "stream",
          "name": "stdout",
          "text": [
            "x:\n",
            " tensor([[1., 1., 1.],\n",
            "        [2., 2., 2.],\n",
            "        [3., 3., 3.]])\n",
            "Dim: torch.Size([3, 3])\n",
            "y:\n",
            " tensor([[1.],\n",
            "        [1.],\n",
            "        [1.]])\n",
            "Dim: torch.Size([3, 1])\n",
            "mul x, y:\n",
            " tensor([[1., 1., 1.],\n",
            "        [2., 2., 2.],\n",
            "        [3., 3., 3.]])\n",
            "Matmul x, y:\n",
            " tensor([[3.],\n",
            "        [6.],\n",
            "        [9.]])\n"
          ]
        }
      ]
    },
    {
      "cell_type": "markdown",
      "source": [
        "#### Transpose"
      ],
      "metadata": {
        "id": "2VN2nlUt5gDg"
      }
    },
    {
      "cell_type": "code",
      "source": [
        "x = torch.tensor([[1.0,1.0,1.0],[2.0,2.0,2.0],[3.0,3.0,3.0]])\n",
        "print(x)\n",
        "print('\\n Matriz Transpuesta \\n')\n",
        "x.transpose(0,1)"
      ],
      "metadata": {
        "colab": {
          "base_uri": "https://localhost:8080/"
        },
        "id": "j7f_KJRt5k_V",
        "outputId": "3186da95-4d52-4503-ade1-eaaeab78ecb2"
      },
      "execution_count": 31,
      "outputs": [
        {
          "output_type": "stream",
          "name": "stdout",
          "text": [
            "tensor([[1., 1., 1.],\n",
            "        [2., 2., 2.],\n",
            "        [3., 3., 3.]])\n",
            "\n",
            " Matriz Transpuesta \n",
            "\n"
          ]
        },
        {
          "output_type": "execute_result",
          "data": {
            "text/plain": [
              "tensor([[1., 2., 3.],\n",
              "        [1., 2., 3.],\n",
              "        [1., 2., 3.]])"
            ]
          },
          "metadata": {},
          "execution_count": 31
        }
      ]
    },
    {
      "cell_type": "markdown",
      "source": [
        "## **Pytorch neural network intro**"
      ],
      "metadata": {
        "id": "YIF3tm607JwM"
      }
    },
    {
      "cell_type": "markdown",
      "source": [
        "nn component help us to define neural networks"
      ],
      "metadata": {
        "id": "eKVq_llp7T9N"
      }
    },
    {
      "cell_type": "code",
      "source": [
        "from torch import nn"
      ],
      "metadata": {
        "id": "NOOK5JDZ7ef3"
      },
      "execution_count": 40,
      "outputs": []
    },
    {
      "cell_type": "markdown",
      "source": [
        "#### Neural Network definition as a class"
      ],
      "metadata": {
        "id": "x2l7ss1d7bBM"
      }
    },
    {
      "cell_type": "markdown",
      "source": [
        "We define a neuron with an input layer, a hidden layer and a output layer with feedforwading architecture"
      ],
      "metadata": {
        "id": "PSz8uyA-8EjH"
      }
    },
    {
      "cell_type": "code",
      "source": [
        "class NeuralNetwork(nn.Module):\n",
        "\n",
        "  def __init__(self, in_n=784, hidden_n=156, out_n=1):\n",
        "    super(NeuralNetwork,self).__init__()\n",
        "\n",
        "    # w0:= Input weights -> hidden layer\n",
        "    # nn.Linear(input neurons, hidden_neurons, bias=True)\n",
        "    self.hidden = nn.Linear(in_n, hidden_n)\n",
        "\n",
        "    # W1:= Hidden layer weights -> output layer  \n",
        "    # nn.Linear(hidden neurons, output neurons, bias=True)\n",
        "    self.output = nn.Linear(hidden_n, out_n)\n",
        "        \n",
        "    # Activation functions \n",
        "    # Sigma 1 [hidden layer]\n",
        "    self.sigmoid = nn.Sigmoid()\n",
        "    # Sigma 2 [output layer]\n",
        "    self.softmax = nn.Softmax(dim=1)\n",
        "  \n",
        "  def forward(self, x):\n",
        "    # x0 * w0\n",
        "    x=self.hidden(x)\n",
        "    # sigma1 evaluation, get x1\n",
        "    x = self.sigmoid(x)\n",
        "\n",
        "    # x1 * w1\n",
        "    x = self.output(x)\n",
        "    # Sigma2 evaluation, get y\n",
        "    x = self.softmax(x)\n",
        "    return x"
      ],
      "metadata": {
        "id": "sJKaE9T67THW"
      },
      "execution_count": 45,
      "outputs": []
    },
    {
      "cell_type": "markdown",
      "source": [
        "Doing the feedforward.\n",
        "Weights and bias are initialized automatically"
      ],
      "metadata": {
        "id": "qae_WVVs9e8G"
      }
    },
    {
      "cell_type": "code",
      "source": [
        "# Seed\n",
        "torch.manual_seed(345)\n",
        "\n",
        "# 28x28 = 784 (Imagine an 28x28 image)\n",
        "x0 = torch.rand((1, 784))\n",
        "model_nn = NeuralNetwork(in_n=784, hidden_n=256, out_n=1)\n",
        "resultado = model_nn(x0)\n",
        "print(resultado)"
      ],
      "metadata": {
        "colab": {
          "base_uri": "https://localhost:8080/"
        },
        "id": "gt5Nj-UH9oJH",
        "outputId": "6e3a20bf-59ac-471e-ad1a-34e19777545c"
      },
      "execution_count": 46,
      "outputs": [
        {
          "output_type": "stream",
          "name": "stdout",
          "text": [
            "tensor([[1.]], grad_fn=<SoftmaxBackward0>)\n"
          ]
        }
      ]
    },
    {
      "cell_type": "markdown",
      "source": [
        "For evaluating our network we try with a smaller network and we change softwax for an identity function"
      ],
      "metadata": {
        "id": "uzVg2_i7-GlP"
      }
    },
    {
      "cell_type": "code",
      "source": [
        "torch.manual_seed(345)\n",
        "\n",
        "\n",
        "n_in = 3\n",
        "n_hid = 5\n",
        "n_out = 1\n",
        "\n",
        "x0 = torch.rand((1, n_in))\n",
        "\n",
        "model_nn = NeuralNetwork(in_n=n_in, hidden_n=n_hid, out_n=n_out)\n",
        "model_nn.softmax = nn.Identity()\n",
        "resultado = model_nn(x0)\n",
        "print(resultado)"
      ],
      "metadata": {
        "colab": {
          "base_uri": "https://localhost:8080/"
        },
        "id": "K2vMjzEa-U0I",
        "outputId": "c576d612-a68e-4841-df85-61ade0adb750"
      },
      "execution_count": 48,
      "outputs": [
        {
          "output_type": "stream",
          "name": "stdout",
          "text": [
            "tensor([[0.3952]], grad_fn=<AddmmBackward0>)\n"
          ]
        }
      ]
    },
    {
      "cell_type": "markdown",
      "source": [
        "Evaluating the network"
      ],
      "metadata": {
        "id": "e27rxLwL-fn6"
      }
    },
    {
      "cell_type": "markdown",
      "source": [
        "with .weight we can check the layer weights"
      ],
      "metadata": {
        "id": "mT_yIEOJ-kiA"
      }
    },
    {
      "cell_type": "code",
      "source": [
        "# Hidden layer weight\n",
        "print(model_nn.hidden.weight)"
      ],
      "metadata": {
        "colab": {
          "base_uri": "https://localhost:8080/"
        },
        "id": "g7685kNb-jg-",
        "outputId": "521aceee-d95e-4140-fd84-a215064b051d"
      },
      "execution_count": 49,
      "outputs": [
        {
          "output_type": "stream",
          "name": "stdout",
          "text": [
            "Parameter containing:\n",
            "tensor([[ 0.3351, -0.4106, -0.3619],\n",
            "        [-0.4247, -0.3092,  0.0131],\n",
            "        [ 0.4064,  0.1796,  0.4533],\n",
            "        [ 0.4600,  0.2685,  0.0652],\n",
            "        [ 0.0783, -0.5293,  0.5048]], requires_grad=True)\n"
          ]
        }
      ]
    },
    {
      "cell_type": "code",
      "source": [
        "# Hidden layer input\n",
        "W0 = model_nn.hidden.weight\n",
        "b0 = model_nn.hidden.bias[None,:]\n",
        "# No olvides utilizar None para hacer las dimensiones compatibles\n",
        "print('Dim W0:   ', W0.shape)\n",
        "print('Dim b0:   ', b0.shape)\n",
        "\n",
        "print()\n",
        "\n",
        "# Output layer input\n",
        "W1 = model_nn.output.weight\n",
        "\n",
        "b1 = model_nn.output.bias[None,:] \n",
        "print('Dim W1:   ', W1.shape)\n",
        "print('Dim b1:   ', b1.shape)\n",
        "\n",
        "# x0 dimension\n",
        "print('\\nDim de x0 : ',x0.shape)"
      ],
      "metadata": {
        "colab": {
          "base_uri": "https://localhost:8080/"
        },
        "id": "68rmpaCI_CJY",
        "outputId": "7ed0ea35-96f4-43bb-d2ac-dadf44fa5fdb"
      },
      "execution_count": 50,
      "outputs": [
        {
          "output_type": "stream",
          "name": "stdout",
          "text": [
            "Dim W0:    torch.Size([5, 3])\n",
            "Dim b0:    torch.Size([1, 5])\n",
            "\n",
            "Dim W1:    torch.Size([1, 5])\n",
            "Dim b1:    torch.Size([1, 1])\n",
            "\n",
            "Dim de x0 :  torch.Size([1, 3])\n"
          ]
        }
      ]
    },
    {
      "cell_type": "markdown",
      "source": [
        "Dimensions are correct but weight matrix are transposed"
      ],
      "metadata": {
        "id": "ZDVqqQ9f_Wkt"
      }
    },
    {
      "cell_type": "markdown",
      "source": [
        "Manual evaluation"
      ],
      "metadata": {
        "id": "0tm-yr7o_y7X"
      }
    },
    {
      "cell_type": "code",
      "source": [
        "# Input from hidden layer\n",
        "input1 = torch.matmul(x0, W0.transpose(0,1))\n",
        "input1 = input1 + b0\n",
        "print(input1.shape)\n",
        "\n",
        "# Exit from hidden layer\n",
        "sigma_1 = nn.Sigmoid()\n",
        "hidden_out = sigma_1(input1)\n",
        "hidden_out.shape"
      ],
      "metadata": {
        "colab": {
          "base_uri": "https://localhost:8080/"
        },
        "id": "CmCNJVw__g74",
        "outputId": "28905dec-7ac4-4da7-a74f-2cbd149330fd"
      },
      "execution_count": 51,
      "outputs": [
        {
          "output_type": "stream",
          "name": "stdout",
          "text": [
            "torch.Size([1, 5])\n"
          ]
        },
        {
          "output_type": "execute_result",
          "data": {
            "text/plain": [
              "torch.Size([1, 5])"
            ]
          },
          "metadata": {},
          "execution_count": 51
        }
      ]
    },
    {
      "cell_type": "code",
      "source": [
        "# Input from output layer\n",
        "input2 = torch.matmul(hidden_out, W1.transpose(0,1))\n",
        "input2 = input2 + b1\n",
        "print(input2.shape)\n",
        "# network output\n",
        "sigma_2 = nn.Identity()\n",
        "y_out = sigma_2(input2)\n",
        "y_out[0]"
      ],
      "metadata": {
        "colab": {
          "base_uri": "https://localhost:8080/"
        },
        "id": "e6v7s1oM_2fB",
        "outputId": "2b5a2b83-6d1b-4a29-ce9c-d350ec1caf33"
      },
      "execution_count": 52,
      "outputs": [
        {
          "output_type": "stream",
          "name": "stdout",
          "text": [
            "torch.Size([1, 1])\n"
          ]
        },
        {
          "output_type": "execute_result",
          "data": {
            "text/plain": [
              "tensor([0.3952], grad_fn=<SelectBackward0>)"
            ]
          },
          "metadata": {},
          "execution_count": 52
        }
      ]
    },
    {
      "cell_type": "markdown",
      "source": [
        "Results from network and manual evaluation are thea same .3952"
      ],
      "metadata": {
        "id": "FZUxL1X-AD1v"
      }
    },
    {
      "cell_type": "markdown",
      "source": [
        "Setting weights manually"
      ],
      "metadata": {
        "id": "qltBlvJ2AP5u"
      }
    },
    {
      "cell_type": "code",
      "source": [
        "torch.manual_seed(345)\n",
        "\n",
        "\n",
        "n_in = 3\n",
        "n_hid = 5\n",
        "n_out = 1\n",
        "\n",
        "model_nn = NeuralNetwork(in_n=n_in, hidden_n=n_hid, out_n=n_out)\n",
        "\n",
        "# Definamos los pesos manualmente\n",
        "x0 = torch.rand((1, n_in))\n",
        "W0_ = torch.rand((n_hid, n_in))\n",
        "b0_ = torch.rand((n_hid))\n",
        "W1_ = torch.rand((n_out, n_hid))\n",
        "b1_ = torch.rand((n_out))\n",
        "\n",
        "#How to set weights manually.\n",
        "model_nn.hidden.weight.data = W0_\n",
        "model_nn.hidden.bias.data = b0_\n",
        "model_nn.output.weight.data = W1_\n",
        "model_nn.output.bias.data = b1_\n",
        "\n",
        "resultado = model_nn(x0)\n",
        "print(resultado)"
      ],
      "metadata": {
        "colab": {
          "base_uri": "https://localhost:8080/"
        },
        "id": "FtRukhuQAUGe",
        "outputId": "259103ac-cf7c-4dc5-cf47-ba0dc23c6963"
      },
      "execution_count": 53,
      "outputs": [
        {
          "output_type": "stream",
          "name": "stdout",
          "text": [
            "tensor([[1.]], grad_fn=<SoftmaxBackward0>)\n"
          ]
        }
      ]
    },
    {
      "cell_type": "markdown",
      "source": [
        "#### Neural network with sequential"
      ],
      "metadata": {
        "id": "JqB4-w57Aj8H"
      }
    },
    {
      "cell_type": "code",
      "source": [
        "\n",
        "n_x = 784\n",
        "n_hidden = [256]\n",
        "n_y = 1\n",
        "\n",
        "# Neural network with sequential\n",
        "model_s = nn.Sequential(\n",
        "    # X0 x W0 \n",
        "    nn.Linear(n_x, n_hidden[0]), \n",
        "    # X1 = sigma_1(W0 x X0)\n",
        "    nn.Sigmoid(),\n",
        "    # X1 x W1\n",
        "    nn.Linear(n_hidden[0], n_y),\n",
        "    # Y = X2 = sigma_2(W1 x X1)\n",
        "    nn.Softmax(dim=1))\n",
        "\n",
        "print(model_s)"
      ],
      "metadata": {
        "colab": {
          "base_uri": "https://localhost:8080/"
        },
        "id": "vPn9T6s3Am3-",
        "outputId": "c47d3568-32a0-4210-8e20-a2eca50c6398"
      },
      "execution_count": 54,
      "outputs": [
        {
          "output_type": "stream",
          "name": "stdout",
          "text": [
            "Sequential(\n",
            "  (0): Linear(in_features=784, out_features=256, bias=True)\n",
            "  (1): Sigmoid()\n",
            "  (2): Linear(in_features=256, out_features=1, bias=True)\n",
            "  (3): Softmax(dim=1)\n",
            ")\n"
          ]
        }
      ]
    }
  ]
}