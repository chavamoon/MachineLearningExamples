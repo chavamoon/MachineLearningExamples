{
  "nbformat": 4,
  "nbformat_minor": 0,
  "metadata": {
    "colab": {
      "name": "MNIST Neural Network Training.ipynb",
      "provenance": [],
      "collapsed_sections": [],
      "toc_visible": true,
      "authorship_tag": "ABX9TyOAkVQ2fCMAv+/coC6mYbEI",
      "include_colab_link": true
    },
    "kernelspec": {
      "name": "python3",
      "display_name": "Python 3"
    },
    "language_info": {
      "name": "python"
    },
    "widgets": {
      "application/vnd.jupyter.widget-state+json": {
        "0770ad09f6b242b9810de5001eb76076": {
          "model_module": "@jupyter-widgets/controls",
          "model_name": "HBoxModel",
          "model_module_version": "1.5.0",
          "state": {
            "_view_name": "HBoxView",
            "_dom_classes": [],
            "_model_name": "HBoxModel",
            "_view_module": "@jupyter-widgets/controls",
            "_model_module_version": "1.5.0",
            "_view_count": null,
            "_view_module_version": "1.5.0",
            "box_style": "",
            "layout": "IPY_MODEL_96bd0971ccfa4c438af4706978039515",
            "_model_module": "@jupyter-widgets/controls",
            "children": [
              "IPY_MODEL_3228fd01146c43e4aa82a29eed49ee1a",
              "IPY_MODEL_7a7f259ebc874c21a43f80a3c939a8ec",
              "IPY_MODEL_66ba131619274801a7aefd089c06fbac"
            ]
          }
        },
        "96bd0971ccfa4c438af4706978039515": {
          "model_module": "@jupyter-widgets/base",
          "model_name": "LayoutModel",
          "model_module_version": "1.2.0",
          "state": {
            "_view_name": "LayoutView",
            "grid_template_rows": null,
            "right": null,
            "justify_content": null,
            "_view_module": "@jupyter-widgets/base",
            "overflow": null,
            "_model_module_version": "1.2.0",
            "_view_count": null,
            "flex_flow": null,
            "width": null,
            "min_width": null,
            "border": null,
            "align_items": null,
            "bottom": null,
            "_model_module": "@jupyter-widgets/base",
            "top": null,
            "grid_column": null,
            "overflow_y": null,
            "overflow_x": null,
            "grid_auto_flow": null,
            "grid_area": null,
            "grid_template_columns": null,
            "flex": null,
            "_model_name": "LayoutModel",
            "justify_items": null,
            "grid_row": null,
            "max_height": null,
            "align_content": null,
            "visibility": null,
            "align_self": null,
            "height": null,
            "min_height": null,
            "padding": null,
            "grid_auto_rows": null,
            "grid_gap": null,
            "max_width": null,
            "order": null,
            "_view_module_version": "1.2.0",
            "grid_template_areas": null,
            "object_position": null,
            "object_fit": null,
            "grid_auto_columns": null,
            "margin": null,
            "display": null,
            "left": null
          }
        },
        "3228fd01146c43e4aa82a29eed49ee1a": {
          "model_module": "@jupyter-widgets/controls",
          "model_name": "HTMLModel",
          "model_module_version": "1.5.0",
          "state": {
            "_view_name": "HTMLView",
            "style": "IPY_MODEL_311aefec280349eda288d89a67d96f04",
            "_dom_classes": [],
            "description": "",
            "_model_name": "HTMLModel",
            "placeholder": "​",
            "_view_module": "@jupyter-widgets/controls",
            "_model_module_version": "1.5.0",
            "value": "",
            "_view_count": null,
            "_view_module_version": "1.5.0",
            "description_tooltip": null,
            "_model_module": "@jupyter-widgets/controls",
            "layout": "IPY_MODEL_5b6cb0be2c34466cb09c6be3bb80023a"
          }
        },
        "7a7f259ebc874c21a43f80a3c939a8ec": {
          "model_module": "@jupyter-widgets/controls",
          "model_name": "FloatProgressModel",
          "model_module_version": "1.5.0",
          "state": {
            "_view_name": "ProgressView",
            "style": "IPY_MODEL_d69efd67a4f04a638764b9fe1ab4d201",
            "_dom_classes": [],
            "description": "",
            "_model_name": "FloatProgressModel",
            "bar_style": "success",
            "max": 9912422,
            "_view_module": "@jupyter-widgets/controls",
            "_model_module_version": "1.5.0",
            "value": 9912422,
            "_view_count": null,
            "_view_module_version": "1.5.0",
            "orientation": "horizontal",
            "min": 0,
            "description_tooltip": null,
            "_model_module": "@jupyter-widgets/controls",
            "layout": "IPY_MODEL_86923edbcc20485f8bb48869a5ad6307"
          }
        },
        "66ba131619274801a7aefd089c06fbac": {
          "model_module": "@jupyter-widgets/controls",
          "model_name": "HTMLModel",
          "model_module_version": "1.5.0",
          "state": {
            "_view_name": "HTMLView",
            "style": "IPY_MODEL_164fbab62b7e49dea825b56b3b97cde9",
            "_dom_classes": [],
            "description": "",
            "_model_name": "HTMLModel",
            "placeholder": "​",
            "_view_module": "@jupyter-widgets/controls",
            "_model_module_version": "1.5.0",
            "value": " 9913344/? [00:00&lt;00:00, 16680363.75it/s]",
            "_view_count": null,
            "_view_module_version": "1.5.0",
            "description_tooltip": null,
            "_model_module": "@jupyter-widgets/controls",
            "layout": "IPY_MODEL_c0b4314ad6134771ba5c77d116077c92"
          }
        },
        "311aefec280349eda288d89a67d96f04": {
          "model_module": "@jupyter-widgets/controls",
          "model_name": "DescriptionStyleModel",
          "model_module_version": "1.5.0",
          "state": {
            "_view_name": "StyleView",
            "_model_name": "DescriptionStyleModel",
            "description_width": "",
            "_view_module": "@jupyter-widgets/base",
            "_model_module_version": "1.5.0",
            "_view_count": null,
            "_view_module_version": "1.2.0",
            "_model_module": "@jupyter-widgets/controls"
          }
        },
        "5b6cb0be2c34466cb09c6be3bb80023a": {
          "model_module": "@jupyter-widgets/base",
          "model_name": "LayoutModel",
          "model_module_version": "1.2.0",
          "state": {
            "_view_name": "LayoutView",
            "grid_template_rows": null,
            "right": null,
            "justify_content": null,
            "_view_module": "@jupyter-widgets/base",
            "overflow": null,
            "_model_module_version": "1.2.0",
            "_view_count": null,
            "flex_flow": null,
            "width": null,
            "min_width": null,
            "border": null,
            "align_items": null,
            "bottom": null,
            "_model_module": "@jupyter-widgets/base",
            "top": null,
            "grid_column": null,
            "overflow_y": null,
            "overflow_x": null,
            "grid_auto_flow": null,
            "grid_area": null,
            "grid_template_columns": null,
            "flex": null,
            "_model_name": "LayoutModel",
            "justify_items": null,
            "grid_row": null,
            "max_height": null,
            "align_content": null,
            "visibility": null,
            "align_self": null,
            "height": null,
            "min_height": null,
            "padding": null,
            "grid_auto_rows": null,
            "grid_gap": null,
            "max_width": null,
            "order": null,
            "_view_module_version": "1.2.0",
            "grid_template_areas": null,
            "object_position": null,
            "object_fit": null,
            "grid_auto_columns": null,
            "margin": null,
            "display": null,
            "left": null
          }
        },
        "d69efd67a4f04a638764b9fe1ab4d201": {
          "model_module": "@jupyter-widgets/controls",
          "model_name": "ProgressStyleModel",
          "model_module_version": "1.5.0",
          "state": {
            "_view_name": "StyleView",
            "_model_name": "ProgressStyleModel",
            "description_width": "",
            "_view_module": "@jupyter-widgets/base",
            "_model_module_version": "1.5.0",
            "_view_count": null,
            "_view_module_version": "1.2.0",
            "bar_color": null,
            "_model_module": "@jupyter-widgets/controls"
          }
        },
        "86923edbcc20485f8bb48869a5ad6307": {
          "model_module": "@jupyter-widgets/base",
          "model_name": "LayoutModel",
          "model_module_version": "1.2.0",
          "state": {
            "_view_name": "LayoutView",
            "grid_template_rows": null,
            "right": null,
            "justify_content": null,
            "_view_module": "@jupyter-widgets/base",
            "overflow": null,
            "_model_module_version": "1.2.0",
            "_view_count": null,
            "flex_flow": null,
            "width": null,
            "min_width": null,
            "border": null,
            "align_items": null,
            "bottom": null,
            "_model_module": "@jupyter-widgets/base",
            "top": null,
            "grid_column": null,
            "overflow_y": null,
            "overflow_x": null,
            "grid_auto_flow": null,
            "grid_area": null,
            "grid_template_columns": null,
            "flex": null,
            "_model_name": "LayoutModel",
            "justify_items": null,
            "grid_row": null,
            "max_height": null,
            "align_content": null,
            "visibility": null,
            "align_self": null,
            "height": null,
            "min_height": null,
            "padding": null,
            "grid_auto_rows": null,
            "grid_gap": null,
            "max_width": null,
            "order": null,
            "_view_module_version": "1.2.0",
            "grid_template_areas": null,
            "object_position": null,
            "object_fit": null,
            "grid_auto_columns": null,
            "margin": null,
            "display": null,
            "left": null
          }
        },
        "164fbab62b7e49dea825b56b3b97cde9": {
          "model_module": "@jupyter-widgets/controls",
          "model_name": "DescriptionStyleModel",
          "model_module_version": "1.5.0",
          "state": {
            "_view_name": "StyleView",
            "_model_name": "DescriptionStyleModel",
            "description_width": "",
            "_view_module": "@jupyter-widgets/base",
            "_model_module_version": "1.5.0",
            "_view_count": null,
            "_view_module_version": "1.2.0",
            "_model_module": "@jupyter-widgets/controls"
          }
        },
        "c0b4314ad6134771ba5c77d116077c92": {
          "model_module": "@jupyter-widgets/base",
          "model_name": "LayoutModel",
          "model_module_version": "1.2.0",
          "state": {
            "_view_name": "LayoutView",
            "grid_template_rows": null,
            "right": null,
            "justify_content": null,
            "_view_module": "@jupyter-widgets/base",
            "overflow": null,
            "_model_module_version": "1.2.0",
            "_view_count": null,
            "flex_flow": null,
            "width": null,
            "min_width": null,
            "border": null,
            "align_items": null,
            "bottom": null,
            "_model_module": "@jupyter-widgets/base",
            "top": null,
            "grid_column": null,
            "overflow_y": null,
            "overflow_x": null,
            "grid_auto_flow": null,
            "grid_area": null,
            "grid_template_columns": null,
            "flex": null,
            "_model_name": "LayoutModel",
            "justify_items": null,
            "grid_row": null,
            "max_height": null,
            "align_content": null,
            "visibility": null,
            "align_self": null,
            "height": null,
            "min_height": null,
            "padding": null,
            "grid_auto_rows": null,
            "grid_gap": null,
            "max_width": null,
            "order": null,
            "_view_module_version": "1.2.0",
            "grid_template_areas": null,
            "object_position": null,
            "object_fit": null,
            "grid_auto_columns": null,
            "margin": null,
            "display": null,
            "left": null
          }
        },
        "3b23edec63644d3bbeabc3519f9f375b": {
          "model_module": "@jupyter-widgets/controls",
          "model_name": "HBoxModel",
          "model_module_version": "1.5.0",
          "state": {
            "_view_name": "HBoxView",
            "_dom_classes": [],
            "_model_name": "HBoxModel",
            "_view_module": "@jupyter-widgets/controls",
            "_model_module_version": "1.5.0",
            "_view_count": null,
            "_view_module_version": "1.5.0",
            "box_style": "",
            "layout": "IPY_MODEL_0dfaea95b54841f1817688b5a6b0d129",
            "_model_module": "@jupyter-widgets/controls",
            "children": [
              "IPY_MODEL_e6db5a43882a4273a32099270effdb78",
              "IPY_MODEL_d23dc0ec1874402991a9ac740661eb9f",
              "IPY_MODEL_0dda81a03af448b2b747e92db504e7f7"
            ]
          }
        },
        "0dfaea95b54841f1817688b5a6b0d129": {
          "model_module": "@jupyter-widgets/base",
          "model_name": "LayoutModel",
          "model_module_version": "1.2.0",
          "state": {
            "_view_name": "LayoutView",
            "grid_template_rows": null,
            "right": null,
            "justify_content": null,
            "_view_module": "@jupyter-widgets/base",
            "overflow": null,
            "_model_module_version": "1.2.0",
            "_view_count": null,
            "flex_flow": null,
            "width": null,
            "min_width": null,
            "border": null,
            "align_items": null,
            "bottom": null,
            "_model_module": "@jupyter-widgets/base",
            "top": null,
            "grid_column": null,
            "overflow_y": null,
            "overflow_x": null,
            "grid_auto_flow": null,
            "grid_area": null,
            "grid_template_columns": null,
            "flex": null,
            "_model_name": "LayoutModel",
            "justify_items": null,
            "grid_row": null,
            "max_height": null,
            "align_content": null,
            "visibility": null,
            "align_self": null,
            "height": null,
            "min_height": null,
            "padding": null,
            "grid_auto_rows": null,
            "grid_gap": null,
            "max_width": null,
            "order": null,
            "_view_module_version": "1.2.0",
            "grid_template_areas": null,
            "object_position": null,
            "object_fit": null,
            "grid_auto_columns": null,
            "margin": null,
            "display": null,
            "left": null
          }
        },
        "e6db5a43882a4273a32099270effdb78": {
          "model_module": "@jupyter-widgets/controls",
          "model_name": "HTMLModel",
          "model_module_version": "1.5.0",
          "state": {
            "_view_name": "HTMLView",
            "style": "IPY_MODEL_b2a16b29c74d45f0ab7ce1694782eb14",
            "_dom_classes": [],
            "description": "",
            "_model_name": "HTMLModel",
            "placeholder": "​",
            "_view_module": "@jupyter-widgets/controls",
            "_model_module_version": "1.5.0",
            "value": "",
            "_view_count": null,
            "_view_module_version": "1.5.0",
            "description_tooltip": null,
            "_model_module": "@jupyter-widgets/controls",
            "layout": "IPY_MODEL_284053c062d840298b044e31a736e9ec"
          }
        },
        "d23dc0ec1874402991a9ac740661eb9f": {
          "model_module": "@jupyter-widgets/controls",
          "model_name": "FloatProgressModel",
          "model_module_version": "1.5.0",
          "state": {
            "_view_name": "ProgressView",
            "style": "IPY_MODEL_a6909d7a4fba411fad27bdac539b6917",
            "_dom_classes": [],
            "description": "",
            "_model_name": "FloatProgressModel",
            "bar_style": "success",
            "max": 28881,
            "_view_module": "@jupyter-widgets/controls",
            "_model_module_version": "1.5.0",
            "value": 28881,
            "_view_count": null,
            "_view_module_version": "1.5.0",
            "orientation": "horizontal",
            "min": 0,
            "description_tooltip": null,
            "_model_module": "@jupyter-widgets/controls",
            "layout": "IPY_MODEL_acf753908ff5491a8701ca77ea26d99d"
          }
        },
        "0dda81a03af448b2b747e92db504e7f7": {
          "model_module": "@jupyter-widgets/controls",
          "model_name": "HTMLModel",
          "model_module_version": "1.5.0",
          "state": {
            "_view_name": "HTMLView",
            "style": "IPY_MODEL_d48109fcd6af40ec86631c50b7e12b64",
            "_dom_classes": [],
            "description": "",
            "_model_name": "HTMLModel",
            "placeholder": "​",
            "_view_module": "@jupyter-widgets/controls",
            "_model_module_version": "1.5.0",
            "value": " 29696/? [00:00&lt;00:00, 687961.49it/s]",
            "_view_count": null,
            "_view_module_version": "1.5.0",
            "description_tooltip": null,
            "_model_module": "@jupyter-widgets/controls",
            "layout": "IPY_MODEL_412b2aecf4b14943965f5d81b6e58aae"
          }
        },
        "b2a16b29c74d45f0ab7ce1694782eb14": {
          "model_module": "@jupyter-widgets/controls",
          "model_name": "DescriptionStyleModel",
          "model_module_version": "1.5.0",
          "state": {
            "_view_name": "StyleView",
            "_model_name": "DescriptionStyleModel",
            "description_width": "",
            "_view_module": "@jupyter-widgets/base",
            "_model_module_version": "1.5.0",
            "_view_count": null,
            "_view_module_version": "1.2.0",
            "_model_module": "@jupyter-widgets/controls"
          }
        },
        "284053c062d840298b044e31a736e9ec": {
          "model_module": "@jupyter-widgets/base",
          "model_name": "LayoutModel",
          "model_module_version": "1.2.0",
          "state": {
            "_view_name": "LayoutView",
            "grid_template_rows": null,
            "right": null,
            "justify_content": null,
            "_view_module": "@jupyter-widgets/base",
            "overflow": null,
            "_model_module_version": "1.2.0",
            "_view_count": null,
            "flex_flow": null,
            "width": null,
            "min_width": null,
            "border": null,
            "align_items": null,
            "bottom": null,
            "_model_module": "@jupyter-widgets/base",
            "top": null,
            "grid_column": null,
            "overflow_y": null,
            "overflow_x": null,
            "grid_auto_flow": null,
            "grid_area": null,
            "grid_template_columns": null,
            "flex": null,
            "_model_name": "LayoutModel",
            "justify_items": null,
            "grid_row": null,
            "max_height": null,
            "align_content": null,
            "visibility": null,
            "align_self": null,
            "height": null,
            "min_height": null,
            "padding": null,
            "grid_auto_rows": null,
            "grid_gap": null,
            "max_width": null,
            "order": null,
            "_view_module_version": "1.2.0",
            "grid_template_areas": null,
            "object_position": null,
            "object_fit": null,
            "grid_auto_columns": null,
            "margin": null,
            "display": null,
            "left": null
          }
        },
        "a6909d7a4fba411fad27bdac539b6917": {
          "model_module": "@jupyter-widgets/controls",
          "model_name": "ProgressStyleModel",
          "model_module_version": "1.5.0",
          "state": {
            "_view_name": "StyleView",
            "_model_name": "ProgressStyleModel",
            "description_width": "",
            "_view_module": "@jupyter-widgets/base",
            "_model_module_version": "1.5.0",
            "_view_count": null,
            "_view_module_version": "1.2.0",
            "bar_color": null,
            "_model_module": "@jupyter-widgets/controls"
          }
        },
        "acf753908ff5491a8701ca77ea26d99d": {
          "model_module": "@jupyter-widgets/base",
          "model_name": "LayoutModel",
          "model_module_version": "1.2.0",
          "state": {
            "_view_name": "LayoutView",
            "grid_template_rows": null,
            "right": null,
            "justify_content": null,
            "_view_module": "@jupyter-widgets/base",
            "overflow": null,
            "_model_module_version": "1.2.0",
            "_view_count": null,
            "flex_flow": null,
            "width": null,
            "min_width": null,
            "border": null,
            "align_items": null,
            "bottom": null,
            "_model_module": "@jupyter-widgets/base",
            "top": null,
            "grid_column": null,
            "overflow_y": null,
            "overflow_x": null,
            "grid_auto_flow": null,
            "grid_area": null,
            "grid_template_columns": null,
            "flex": null,
            "_model_name": "LayoutModel",
            "justify_items": null,
            "grid_row": null,
            "max_height": null,
            "align_content": null,
            "visibility": null,
            "align_self": null,
            "height": null,
            "min_height": null,
            "padding": null,
            "grid_auto_rows": null,
            "grid_gap": null,
            "max_width": null,
            "order": null,
            "_view_module_version": "1.2.0",
            "grid_template_areas": null,
            "object_position": null,
            "object_fit": null,
            "grid_auto_columns": null,
            "margin": null,
            "display": null,
            "left": null
          }
        },
        "d48109fcd6af40ec86631c50b7e12b64": {
          "model_module": "@jupyter-widgets/controls",
          "model_name": "DescriptionStyleModel",
          "model_module_version": "1.5.0",
          "state": {
            "_view_name": "StyleView",
            "_model_name": "DescriptionStyleModel",
            "description_width": "",
            "_view_module": "@jupyter-widgets/base",
            "_model_module_version": "1.5.0",
            "_view_count": null,
            "_view_module_version": "1.2.0",
            "_model_module": "@jupyter-widgets/controls"
          }
        },
        "412b2aecf4b14943965f5d81b6e58aae": {
          "model_module": "@jupyter-widgets/base",
          "model_name": "LayoutModel",
          "model_module_version": "1.2.0",
          "state": {
            "_view_name": "LayoutView",
            "grid_template_rows": null,
            "right": null,
            "justify_content": null,
            "_view_module": "@jupyter-widgets/base",
            "overflow": null,
            "_model_module_version": "1.2.0",
            "_view_count": null,
            "flex_flow": null,
            "width": null,
            "min_width": null,
            "border": null,
            "align_items": null,
            "bottom": null,
            "_model_module": "@jupyter-widgets/base",
            "top": null,
            "grid_column": null,
            "overflow_y": null,
            "overflow_x": null,
            "grid_auto_flow": null,
            "grid_area": null,
            "grid_template_columns": null,
            "flex": null,
            "_model_name": "LayoutModel",
            "justify_items": null,
            "grid_row": null,
            "max_height": null,
            "align_content": null,
            "visibility": null,
            "align_self": null,
            "height": null,
            "min_height": null,
            "padding": null,
            "grid_auto_rows": null,
            "grid_gap": null,
            "max_width": null,
            "order": null,
            "_view_module_version": "1.2.0",
            "grid_template_areas": null,
            "object_position": null,
            "object_fit": null,
            "grid_auto_columns": null,
            "margin": null,
            "display": null,
            "left": null
          }
        },
        "45d33e3d72a44a39a94d95a85dd2764f": {
          "model_module": "@jupyter-widgets/controls",
          "model_name": "HBoxModel",
          "model_module_version": "1.5.0",
          "state": {
            "_view_name": "HBoxView",
            "_dom_classes": [],
            "_model_name": "HBoxModel",
            "_view_module": "@jupyter-widgets/controls",
            "_model_module_version": "1.5.0",
            "_view_count": null,
            "_view_module_version": "1.5.0",
            "box_style": "",
            "layout": "IPY_MODEL_142155ada35b44ea8e6d14cc186abc46",
            "_model_module": "@jupyter-widgets/controls",
            "children": [
              "IPY_MODEL_2f42fef1da1c4915ad5894c543ec8f7d",
              "IPY_MODEL_327f2d01f14345d6bde174fdca8fbebc",
              "IPY_MODEL_66310616283f4ea7aec97fbcb966f5d0"
            ]
          }
        },
        "142155ada35b44ea8e6d14cc186abc46": {
          "model_module": "@jupyter-widgets/base",
          "model_name": "LayoutModel",
          "model_module_version": "1.2.0",
          "state": {
            "_view_name": "LayoutView",
            "grid_template_rows": null,
            "right": null,
            "justify_content": null,
            "_view_module": "@jupyter-widgets/base",
            "overflow": null,
            "_model_module_version": "1.2.0",
            "_view_count": null,
            "flex_flow": null,
            "width": null,
            "min_width": null,
            "border": null,
            "align_items": null,
            "bottom": null,
            "_model_module": "@jupyter-widgets/base",
            "top": null,
            "grid_column": null,
            "overflow_y": null,
            "overflow_x": null,
            "grid_auto_flow": null,
            "grid_area": null,
            "grid_template_columns": null,
            "flex": null,
            "_model_name": "LayoutModel",
            "justify_items": null,
            "grid_row": null,
            "max_height": null,
            "align_content": null,
            "visibility": null,
            "align_self": null,
            "height": null,
            "min_height": null,
            "padding": null,
            "grid_auto_rows": null,
            "grid_gap": null,
            "max_width": null,
            "order": null,
            "_view_module_version": "1.2.0",
            "grid_template_areas": null,
            "object_position": null,
            "object_fit": null,
            "grid_auto_columns": null,
            "margin": null,
            "display": null,
            "left": null
          }
        },
        "2f42fef1da1c4915ad5894c543ec8f7d": {
          "model_module": "@jupyter-widgets/controls",
          "model_name": "HTMLModel",
          "model_module_version": "1.5.0",
          "state": {
            "_view_name": "HTMLView",
            "style": "IPY_MODEL_dd8b82a262804c469651e811b25a54b8",
            "_dom_classes": [],
            "description": "",
            "_model_name": "HTMLModel",
            "placeholder": "​",
            "_view_module": "@jupyter-widgets/controls",
            "_model_module_version": "1.5.0",
            "value": "",
            "_view_count": null,
            "_view_module_version": "1.5.0",
            "description_tooltip": null,
            "_model_module": "@jupyter-widgets/controls",
            "layout": "IPY_MODEL_00d87d93d1174bcba0297aa14c7a34e5"
          }
        },
        "327f2d01f14345d6bde174fdca8fbebc": {
          "model_module": "@jupyter-widgets/controls",
          "model_name": "FloatProgressModel",
          "model_module_version": "1.5.0",
          "state": {
            "_view_name": "ProgressView",
            "style": "IPY_MODEL_11b79d2fa23540699e54832277266829",
            "_dom_classes": [],
            "description": "",
            "_model_name": "FloatProgressModel",
            "bar_style": "success",
            "max": 1648877,
            "_view_module": "@jupyter-widgets/controls",
            "_model_module_version": "1.5.0",
            "value": 1648877,
            "_view_count": null,
            "_view_module_version": "1.5.0",
            "orientation": "horizontal",
            "min": 0,
            "description_tooltip": null,
            "_model_module": "@jupyter-widgets/controls",
            "layout": "IPY_MODEL_8a4d51cac6514c0a9e5ba1364bfc1b44"
          }
        },
        "66310616283f4ea7aec97fbcb966f5d0": {
          "model_module": "@jupyter-widgets/controls",
          "model_name": "HTMLModel",
          "model_module_version": "1.5.0",
          "state": {
            "_view_name": "HTMLView",
            "style": "IPY_MODEL_4a84958ecf984959a97fb2c4b5f09d46",
            "_dom_classes": [],
            "description": "",
            "_model_name": "HTMLModel",
            "placeholder": "​",
            "_view_module": "@jupyter-widgets/controls",
            "_model_module_version": "1.5.0",
            "value": " 1649664/? [00:00&lt;00:00, 5929333.42it/s]",
            "_view_count": null,
            "_view_module_version": "1.5.0",
            "description_tooltip": null,
            "_model_module": "@jupyter-widgets/controls",
            "layout": "IPY_MODEL_b18f4fe142aa4774a15e0ce582d53ce4"
          }
        },
        "dd8b82a262804c469651e811b25a54b8": {
          "model_module": "@jupyter-widgets/controls",
          "model_name": "DescriptionStyleModel",
          "model_module_version": "1.5.0",
          "state": {
            "_view_name": "StyleView",
            "_model_name": "DescriptionStyleModel",
            "description_width": "",
            "_view_module": "@jupyter-widgets/base",
            "_model_module_version": "1.5.0",
            "_view_count": null,
            "_view_module_version": "1.2.0",
            "_model_module": "@jupyter-widgets/controls"
          }
        },
        "00d87d93d1174bcba0297aa14c7a34e5": {
          "model_module": "@jupyter-widgets/base",
          "model_name": "LayoutModel",
          "model_module_version": "1.2.0",
          "state": {
            "_view_name": "LayoutView",
            "grid_template_rows": null,
            "right": null,
            "justify_content": null,
            "_view_module": "@jupyter-widgets/base",
            "overflow": null,
            "_model_module_version": "1.2.0",
            "_view_count": null,
            "flex_flow": null,
            "width": null,
            "min_width": null,
            "border": null,
            "align_items": null,
            "bottom": null,
            "_model_module": "@jupyter-widgets/base",
            "top": null,
            "grid_column": null,
            "overflow_y": null,
            "overflow_x": null,
            "grid_auto_flow": null,
            "grid_area": null,
            "grid_template_columns": null,
            "flex": null,
            "_model_name": "LayoutModel",
            "justify_items": null,
            "grid_row": null,
            "max_height": null,
            "align_content": null,
            "visibility": null,
            "align_self": null,
            "height": null,
            "min_height": null,
            "padding": null,
            "grid_auto_rows": null,
            "grid_gap": null,
            "max_width": null,
            "order": null,
            "_view_module_version": "1.2.0",
            "grid_template_areas": null,
            "object_position": null,
            "object_fit": null,
            "grid_auto_columns": null,
            "margin": null,
            "display": null,
            "left": null
          }
        },
        "11b79d2fa23540699e54832277266829": {
          "model_module": "@jupyter-widgets/controls",
          "model_name": "ProgressStyleModel",
          "model_module_version": "1.5.0",
          "state": {
            "_view_name": "StyleView",
            "_model_name": "ProgressStyleModel",
            "description_width": "",
            "_view_module": "@jupyter-widgets/base",
            "_model_module_version": "1.5.0",
            "_view_count": null,
            "_view_module_version": "1.2.0",
            "bar_color": null,
            "_model_module": "@jupyter-widgets/controls"
          }
        },
        "8a4d51cac6514c0a9e5ba1364bfc1b44": {
          "model_module": "@jupyter-widgets/base",
          "model_name": "LayoutModel",
          "model_module_version": "1.2.0",
          "state": {
            "_view_name": "LayoutView",
            "grid_template_rows": null,
            "right": null,
            "justify_content": null,
            "_view_module": "@jupyter-widgets/base",
            "overflow": null,
            "_model_module_version": "1.2.0",
            "_view_count": null,
            "flex_flow": null,
            "width": null,
            "min_width": null,
            "border": null,
            "align_items": null,
            "bottom": null,
            "_model_module": "@jupyter-widgets/base",
            "top": null,
            "grid_column": null,
            "overflow_y": null,
            "overflow_x": null,
            "grid_auto_flow": null,
            "grid_area": null,
            "grid_template_columns": null,
            "flex": null,
            "_model_name": "LayoutModel",
            "justify_items": null,
            "grid_row": null,
            "max_height": null,
            "align_content": null,
            "visibility": null,
            "align_self": null,
            "height": null,
            "min_height": null,
            "padding": null,
            "grid_auto_rows": null,
            "grid_gap": null,
            "max_width": null,
            "order": null,
            "_view_module_version": "1.2.0",
            "grid_template_areas": null,
            "object_position": null,
            "object_fit": null,
            "grid_auto_columns": null,
            "margin": null,
            "display": null,
            "left": null
          }
        },
        "4a84958ecf984959a97fb2c4b5f09d46": {
          "model_module": "@jupyter-widgets/controls",
          "model_name": "DescriptionStyleModel",
          "model_module_version": "1.5.0",
          "state": {
            "_view_name": "StyleView",
            "_model_name": "DescriptionStyleModel",
            "description_width": "",
            "_view_module": "@jupyter-widgets/base",
            "_model_module_version": "1.5.0",
            "_view_count": null,
            "_view_module_version": "1.2.0",
            "_model_module": "@jupyter-widgets/controls"
          }
        },
        "b18f4fe142aa4774a15e0ce582d53ce4": {
          "model_module": "@jupyter-widgets/base",
          "model_name": "LayoutModel",
          "model_module_version": "1.2.0",
          "state": {
            "_view_name": "LayoutView",
            "grid_template_rows": null,
            "right": null,
            "justify_content": null,
            "_view_module": "@jupyter-widgets/base",
            "overflow": null,
            "_model_module_version": "1.2.0",
            "_view_count": null,
            "flex_flow": null,
            "width": null,
            "min_width": null,
            "border": null,
            "align_items": null,
            "bottom": null,
            "_model_module": "@jupyter-widgets/base",
            "top": null,
            "grid_column": null,
            "overflow_y": null,
            "overflow_x": null,
            "grid_auto_flow": null,
            "grid_area": null,
            "grid_template_columns": null,
            "flex": null,
            "_model_name": "LayoutModel",
            "justify_items": null,
            "grid_row": null,
            "max_height": null,
            "align_content": null,
            "visibility": null,
            "align_self": null,
            "height": null,
            "min_height": null,
            "padding": null,
            "grid_auto_rows": null,
            "grid_gap": null,
            "max_width": null,
            "order": null,
            "_view_module_version": "1.2.0",
            "grid_template_areas": null,
            "object_position": null,
            "object_fit": null,
            "grid_auto_columns": null,
            "margin": null,
            "display": null,
            "left": null
          }
        },
        "fb247c757a33485db63eae191da28532": {
          "model_module": "@jupyter-widgets/controls",
          "model_name": "HBoxModel",
          "model_module_version": "1.5.0",
          "state": {
            "_view_name": "HBoxView",
            "_dom_classes": [],
            "_model_name": "HBoxModel",
            "_view_module": "@jupyter-widgets/controls",
            "_model_module_version": "1.5.0",
            "_view_count": null,
            "_view_module_version": "1.5.0",
            "box_style": "",
            "layout": "IPY_MODEL_5132605f50274247860d9179477ac00f",
            "_model_module": "@jupyter-widgets/controls",
            "children": [
              "IPY_MODEL_0e24e320317d4dbdbf9a3479826cbcca",
              "IPY_MODEL_6fca08f554134b4e96676440dbbe1dff",
              "IPY_MODEL_b7a062003d4d42d8bec88e78e153bbb2"
            ]
          }
        },
        "5132605f50274247860d9179477ac00f": {
          "model_module": "@jupyter-widgets/base",
          "model_name": "LayoutModel",
          "model_module_version": "1.2.0",
          "state": {
            "_view_name": "LayoutView",
            "grid_template_rows": null,
            "right": null,
            "justify_content": null,
            "_view_module": "@jupyter-widgets/base",
            "overflow": null,
            "_model_module_version": "1.2.0",
            "_view_count": null,
            "flex_flow": null,
            "width": null,
            "min_width": null,
            "border": null,
            "align_items": null,
            "bottom": null,
            "_model_module": "@jupyter-widgets/base",
            "top": null,
            "grid_column": null,
            "overflow_y": null,
            "overflow_x": null,
            "grid_auto_flow": null,
            "grid_area": null,
            "grid_template_columns": null,
            "flex": null,
            "_model_name": "LayoutModel",
            "justify_items": null,
            "grid_row": null,
            "max_height": null,
            "align_content": null,
            "visibility": null,
            "align_self": null,
            "height": null,
            "min_height": null,
            "padding": null,
            "grid_auto_rows": null,
            "grid_gap": null,
            "max_width": null,
            "order": null,
            "_view_module_version": "1.2.0",
            "grid_template_areas": null,
            "object_position": null,
            "object_fit": null,
            "grid_auto_columns": null,
            "margin": null,
            "display": null,
            "left": null
          }
        },
        "0e24e320317d4dbdbf9a3479826cbcca": {
          "model_module": "@jupyter-widgets/controls",
          "model_name": "HTMLModel",
          "model_module_version": "1.5.0",
          "state": {
            "_view_name": "HTMLView",
            "style": "IPY_MODEL_ad38b1770c5a4288afe3a0510dd06e4e",
            "_dom_classes": [],
            "description": "",
            "_model_name": "HTMLModel",
            "placeholder": "​",
            "_view_module": "@jupyter-widgets/controls",
            "_model_module_version": "1.5.0",
            "value": "",
            "_view_count": null,
            "_view_module_version": "1.5.0",
            "description_tooltip": null,
            "_model_module": "@jupyter-widgets/controls",
            "layout": "IPY_MODEL_cd5d92fb712046c88510544505d039c8"
          }
        },
        "6fca08f554134b4e96676440dbbe1dff": {
          "model_module": "@jupyter-widgets/controls",
          "model_name": "FloatProgressModel",
          "model_module_version": "1.5.0",
          "state": {
            "_view_name": "ProgressView",
            "style": "IPY_MODEL_e076efad0ecd490ca98f534676572295",
            "_dom_classes": [],
            "description": "",
            "_model_name": "FloatProgressModel",
            "bar_style": "success",
            "max": 4542,
            "_view_module": "@jupyter-widgets/controls",
            "_model_module_version": "1.5.0",
            "value": 4542,
            "_view_count": null,
            "_view_module_version": "1.5.0",
            "orientation": "horizontal",
            "min": 0,
            "description_tooltip": null,
            "_model_module": "@jupyter-widgets/controls",
            "layout": "IPY_MODEL_10acc015194641ff94f5c5a3065252c9"
          }
        },
        "b7a062003d4d42d8bec88e78e153bbb2": {
          "model_module": "@jupyter-widgets/controls",
          "model_name": "HTMLModel",
          "model_module_version": "1.5.0",
          "state": {
            "_view_name": "HTMLView",
            "style": "IPY_MODEL_17825b9b3bda46699aa08d76680c072f",
            "_dom_classes": [],
            "description": "",
            "_model_name": "HTMLModel",
            "placeholder": "​",
            "_view_module": "@jupyter-widgets/controls",
            "_model_module_version": "1.5.0",
            "value": " 5120/? [00:00&lt;00:00, 138658.26it/s]",
            "_view_count": null,
            "_view_module_version": "1.5.0",
            "description_tooltip": null,
            "_model_module": "@jupyter-widgets/controls",
            "layout": "IPY_MODEL_78c1dc6df21f40229c32a73a522fa200"
          }
        },
        "ad38b1770c5a4288afe3a0510dd06e4e": {
          "model_module": "@jupyter-widgets/controls",
          "model_name": "DescriptionStyleModel",
          "model_module_version": "1.5.0",
          "state": {
            "_view_name": "StyleView",
            "_model_name": "DescriptionStyleModel",
            "description_width": "",
            "_view_module": "@jupyter-widgets/base",
            "_model_module_version": "1.5.0",
            "_view_count": null,
            "_view_module_version": "1.2.0",
            "_model_module": "@jupyter-widgets/controls"
          }
        },
        "cd5d92fb712046c88510544505d039c8": {
          "model_module": "@jupyter-widgets/base",
          "model_name": "LayoutModel",
          "model_module_version": "1.2.0",
          "state": {
            "_view_name": "LayoutView",
            "grid_template_rows": null,
            "right": null,
            "justify_content": null,
            "_view_module": "@jupyter-widgets/base",
            "overflow": null,
            "_model_module_version": "1.2.0",
            "_view_count": null,
            "flex_flow": null,
            "width": null,
            "min_width": null,
            "border": null,
            "align_items": null,
            "bottom": null,
            "_model_module": "@jupyter-widgets/base",
            "top": null,
            "grid_column": null,
            "overflow_y": null,
            "overflow_x": null,
            "grid_auto_flow": null,
            "grid_area": null,
            "grid_template_columns": null,
            "flex": null,
            "_model_name": "LayoutModel",
            "justify_items": null,
            "grid_row": null,
            "max_height": null,
            "align_content": null,
            "visibility": null,
            "align_self": null,
            "height": null,
            "min_height": null,
            "padding": null,
            "grid_auto_rows": null,
            "grid_gap": null,
            "max_width": null,
            "order": null,
            "_view_module_version": "1.2.0",
            "grid_template_areas": null,
            "object_position": null,
            "object_fit": null,
            "grid_auto_columns": null,
            "margin": null,
            "display": null,
            "left": null
          }
        },
        "e076efad0ecd490ca98f534676572295": {
          "model_module": "@jupyter-widgets/controls",
          "model_name": "ProgressStyleModel",
          "model_module_version": "1.5.0",
          "state": {
            "_view_name": "StyleView",
            "_model_name": "ProgressStyleModel",
            "description_width": "",
            "_view_module": "@jupyter-widgets/base",
            "_model_module_version": "1.5.0",
            "_view_count": null,
            "_view_module_version": "1.2.0",
            "bar_color": null,
            "_model_module": "@jupyter-widgets/controls"
          }
        },
        "10acc015194641ff94f5c5a3065252c9": {
          "model_module": "@jupyter-widgets/base",
          "model_name": "LayoutModel",
          "model_module_version": "1.2.0",
          "state": {
            "_view_name": "LayoutView",
            "grid_template_rows": null,
            "right": null,
            "justify_content": null,
            "_view_module": "@jupyter-widgets/base",
            "overflow": null,
            "_model_module_version": "1.2.0",
            "_view_count": null,
            "flex_flow": null,
            "width": null,
            "min_width": null,
            "border": null,
            "align_items": null,
            "bottom": null,
            "_model_module": "@jupyter-widgets/base",
            "top": null,
            "grid_column": null,
            "overflow_y": null,
            "overflow_x": null,
            "grid_auto_flow": null,
            "grid_area": null,
            "grid_template_columns": null,
            "flex": null,
            "_model_name": "LayoutModel",
            "justify_items": null,
            "grid_row": null,
            "max_height": null,
            "align_content": null,
            "visibility": null,
            "align_self": null,
            "height": null,
            "min_height": null,
            "padding": null,
            "grid_auto_rows": null,
            "grid_gap": null,
            "max_width": null,
            "order": null,
            "_view_module_version": "1.2.0",
            "grid_template_areas": null,
            "object_position": null,
            "object_fit": null,
            "grid_auto_columns": null,
            "margin": null,
            "display": null,
            "left": null
          }
        },
        "17825b9b3bda46699aa08d76680c072f": {
          "model_module": "@jupyter-widgets/controls",
          "model_name": "DescriptionStyleModel",
          "model_module_version": "1.5.0",
          "state": {
            "_view_name": "StyleView",
            "_model_name": "DescriptionStyleModel",
            "description_width": "",
            "_view_module": "@jupyter-widgets/base",
            "_model_module_version": "1.5.0",
            "_view_count": null,
            "_view_module_version": "1.2.0",
            "_model_module": "@jupyter-widgets/controls"
          }
        },
        "78c1dc6df21f40229c32a73a522fa200": {
          "model_module": "@jupyter-widgets/base",
          "model_name": "LayoutModel",
          "model_module_version": "1.2.0",
          "state": {
            "_view_name": "LayoutView",
            "grid_template_rows": null,
            "right": null,
            "justify_content": null,
            "_view_module": "@jupyter-widgets/base",
            "overflow": null,
            "_model_module_version": "1.2.0",
            "_view_count": null,
            "flex_flow": null,
            "width": null,
            "min_width": null,
            "border": null,
            "align_items": null,
            "bottom": null,
            "_model_module": "@jupyter-widgets/base",
            "top": null,
            "grid_column": null,
            "overflow_y": null,
            "overflow_x": null,
            "grid_auto_flow": null,
            "grid_area": null,
            "grid_template_columns": null,
            "flex": null,
            "_model_name": "LayoutModel",
            "justify_items": null,
            "grid_row": null,
            "max_height": null,
            "align_content": null,
            "visibility": null,
            "align_self": null,
            "height": null,
            "min_height": null,
            "padding": null,
            "grid_auto_rows": null,
            "grid_gap": null,
            "max_width": null,
            "order": null,
            "_view_module_version": "1.2.0",
            "grid_template_areas": null,
            "object_position": null,
            "object_fit": null,
            "grid_auto_columns": null,
            "margin": null,
            "display": null,
            "left": null
          }
        }
      }
    }
  },
  "cells": [
    {
      "cell_type": "markdown",
      "metadata": {
        "id": "view-in-github",
        "colab_type": "text"
      },
      "source": [
        "<a href=\"https://colab.research.google.com/github/chavamoon/MachineLearningExamples/blob/main/MNIST_Neural_Network_Training.ipynb\" target=\"_parent\"><img src=\"https://colab.research.google.com/assets/colab-badge.svg\" alt=\"Open In Colab\"/></a>"
      ]
    },
    {
      "cell_type": "code",
      "execution_count": 1,
      "metadata": {
        "id": "g8QyPYYc3xfl"
      },
      "outputs": [],
      "source": [
        "import torch\n",
        "import torch.nn as nn\n",
        "import torch.nn.functional as F\n",
        "import torch.optim as optim\n",
        "from torchvision import datasets, transforms\n",
        "from torch.autograd import Variable\n",
        "import numpy as np\n",
        "import matplotlib.pyplot as plt\n",
        "import seaborn as sns\n",
        "sns.set_style('darkgrid')"
      ]
    },
    {
      "cell_type": "markdown",
      "source": [
        "# Ejemplo de entrenamiento de una red reuronal para reconocer dígitos escritos a mano de MNIST"
      ],
      "metadata": {
        "id": "PC_DyVVk3yAG"
      }
    },
    {
      "cell_type": "markdown",
      "source": [
        "Definición de parámetros generales"
      ],
      "metadata": {
        "id": "dTxdyf0X4nq2"
      }
    },
    {
      "cell_type": "code",
      "source": [
        "# Diccionarios de argumentos\n",
        "args = {}\n",
        "kwargs = {}\n",
        "\n",
        "# Configuración de tamaño de lote o batch en entrenamiento y validación\n",
        "args['batch_size'] = 1000\n",
        "args['test_batch_size'] = 1000\n",
        "\n",
        "#Hiperparámetros de entrenamiento\n",
        "# Epoch -> Númer de veces que pasamos por todos los datos\n",
        "args['epoch'] = 10\n",
        "# la tasa de aprendizaje (learning rate) del descenso por gradiente\n",
        "args['lr'] = 0.01\n",
        "# El momento o momentum del descenso por gradiente, necesario para un descenso de gradiente estocástico.\n",
        "args['momentum'] = 0.5\n",
        "\n",
        "#Parámetros de pytorch\n",
        "#Semilla aleatoria\n",
        "args['seed'] = 345\n",
        "#cada cuanto habrá logs\n",
        "args['log_interval'] = 10\n",
        "#usar GPU si existe (cuda), de lo contrario cpu\n",
        "device = torch.device('cuda' if torch.cuda.is_available() else 'cpu')\n",
        "args['cuda'] = device\n",
        "print('Args:', args)"
      ],
      "metadata": {
        "colab": {
          "base_uri": "https://localhost:8080/"
        },
        "id": "ZjsI_ynz4qm5",
        "outputId": "1349cef9-cea2-4d85-f436-9d58010a0cd5"
      },
      "execution_count": 2,
      "outputs": [
        {
          "output_type": "stream",
          "name": "stdout",
          "text": [
            "Args: {'batch_size': 1000, 'test_batch_size': 1000, 'epoch': 10, 'lr': 0.01, 'momentum': 0.5, 'seed': 345, 'log_interval': 10, 'cuda': device(type='cpu')}\n"
          ]
        }
      ]
    },
    {
      "cell_type": "markdown",
      "source": [
        "## Lectura de los datos"
      ],
      "metadata": {
        "id": "_F0lrmo34eCQ"
      }
    },
    {
      "cell_type": "markdown",
      "source": [
        "Se cargan los datos y se dividen en entrenamiento y pruebas.\n",
        "\n",
        "```\n",
        "torch.utils.data.DataLoader\n",
        "```\n",
        "\n",
        "DataLoader permite cargar lso datos y prepararlos para el entrenamiento y validación.\n",
        "\n",
        "Principales parámetros:\n",
        "- datasets = Datos que queremos\n",
        "- batch_size = Tamaño del lote o del batch de etrenamiento\n",
        "- shuffle = Si se quiere revolver el dataset en cada época\n",
        "\n",
        "```\n",
        "datasets.MNIST\n",
        "```\n",
        "Llama a los datos MNIST\n",
        "\n",
        "Principales parámetros:\n",
        "- root -> Directorio donde existen o descargarán las imágenes o datos\n",
        "- train -> Si utiliza datos de entrenamiento o no\n",
        "- download -> Si se descargan los datos o no. Si los datos ya están en local no descarga\n",
        "- transform -> Si aplica transformación a las imágenes\n",
        "\n",
        "```\n",
        "transforms.Compose\n",
        "```\n",
        "Permite anifar transformaciones, parecido a sequential utilizado para construir redes, pero a transformaciones.\n",
        "\n",
        "En este caso pasamos dos transformaciones:\n",
        "* transform.ToTensor -> Convierte las imágenes a un tensor\n",
        "* transform.Normalze -> Normaliza los tensores. Debemos aplicar la misma normalización a los datos de entrenamiento que a los de prueba."
      ],
      "metadata": {
        "id": "N5k6EjIf56sS"
      }
    },
    {
      "cell_type": "code",
      "source": [
        "train_loader = torch.utils.data.DataLoader(\n",
        "    datasets.MNIST(root='../data',\n",
        "                   train = True,\n",
        "                   download = True,\n",
        "                   transform=transforms.Compose([transforms.ToTensor()])),\n",
        "    batch_size=args['batch_size'],\n",
        "    shuffle=True\n",
        ")"
      ],
      "metadata": {
        "id": "OOVwDAJl4gsc",
        "colab": {
          "base_uri": "https://localhost:8080/",
          "height": 423,
          "referenced_widgets": [
            "0770ad09f6b242b9810de5001eb76076",
            "96bd0971ccfa4c438af4706978039515",
            "3228fd01146c43e4aa82a29eed49ee1a",
            "7a7f259ebc874c21a43f80a3c939a8ec",
            "66ba131619274801a7aefd089c06fbac",
            "311aefec280349eda288d89a67d96f04",
            "5b6cb0be2c34466cb09c6be3bb80023a",
            "d69efd67a4f04a638764b9fe1ab4d201",
            "86923edbcc20485f8bb48869a5ad6307",
            "164fbab62b7e49dea825b56b3b97cde9",
            "c0b4314ad6134771ba5c77d116077c92",
            "3b23edec63644d3bbeabc3519f9f375b",
            "0dfaea95b54841f1817688b5a6b0d129",
            "e6db5a43882a4273a32099270effdb78",
            "d23dc0ec1874402991a9ac740661eb9f",
            "0dda81a03af448b2b747e92db504e7f7",
            "b2a16b29c74d45f0ab7ce1694782eb14",
            "284053c062d840298b044e31a736e9ec",
            "a6909d7a4fba411fad27bdac539b6917",
            "acf753908ff5491a8701ca77ea26d99d",
            "d48109fcd6af40ec86631c50b7e12b64",
            "412b2aecf4b14943965f5d81b6e58aae",
            "45d33e3d72a44a39a94d95a85dd2764f",
            "142155ada35b44ea8e6d14cc186abc46",
            "2f42fef1da1c4915ad5894c543ec8f7d",
            "327f2d01f14345d6bde174fdca8fbebc",
            "66310616283f4ea7aec97fbcb966f5d0",
            "dd8b82a262804c469651e811b25a54b8",
            "00d87d93d1174bcba0297aa14c7a34e5",
            "11b79d2fa23540699e54832277266829",
            "8a4d51cac6514c0a9e5ba1364bfc1b44",
            "4a84958ecf984959a97fb2c4b5f09d46",
            "b18f4fe142aa4774a15e0ce582d53ce4",
            "fb247c757a33485db63eae191da28532",
            "5132605f50274247860d9179477ac00f",
            "0e24e320317d4dbdbf9a3479826cbcca",
            "6fca08f554134b4e96676440dbbe1dff",
            "b7a062003d4d42d8bec88e78e153bbb2",
            "ad38b1770c5a4288afe3a0510dd06e4e",
            "cd5d92fb712046c88510544505d039c8",
            "e076efad0ecd490ca98f534676572295",
            "10acc015194641ff94f5c5a3065252c9",
            "17825b9b3bda46699aa08d76680c072f",
            "78c1dc6df21f40229c32a73a522fa200"
          ]
        },
        "outputId": "0be9f3e3-c934-46c8-95f2-81cf5dc0d247"
      },
      "execution_count": 3,
      "outputs": [
        {
          "output_type": "stream",
          "name": "stdout",
          "text": [
            "Downloading http://yann.lecun.com/exdb/mnist/train-images-idx3-ubyte.gz\n",
            "Downloading http://yann.lecun.com/exdb/mnist/train-images-idx3-ubyte.gz to ../data/MNIST/raw/train-images-idx3-ubyte.gz\n"
          ]
        },
        {
          "output_type": "display_data",
          "data": {
            "application/vnd.jupyter.widget-view+json": {
              "model_id": "0770ad09f6b242b9810de5001eb76076",
              "version_minor": 0,
              "version_major": 2
            },
            "text/plain": [
              "  0%|          | 0/9912422 [00:00<?, ?it/s]"
            ]
          },
          "metadata": {}
        },
        {
          "output_type": "stream",
          "name": "stdout",
          "text": [
            "Extracting ../data/MNIST/raw/train-images-idx3-ubyte.gz to ../data/MNIST/raw\n",
            "\n",
            "Downloading http://yann.lecun.com/exdb/mnist/train-labels-idx1-ubyte.gz\n",
            "Downloading http://yann.lecun.com/exdb/mnist/train-labels-idx1-ubyte.gz to ../data/MNIST/raw/train-labels-idx1-ubyte.gz\n"
          ]
        },
        {
          "output_type": "display_data",
          "data": {
            "application/vnd.jupyter.widget-view+json": {
              "model_id": "3b23edec63644d3bbeabc3519f9f375b",
              "version_minor": 0,
              "version_major": 2
            },
            "text/plain": [
              "  0%|          | 0/28881 [00:00<?, ?it/s]"
            ]
          },
          "metadata": {}
        },
        {
          "output_type": "stream",
          "name": "stdout",
          "text": [
            "Extracting ../data/MNIST/raw/train-labels-idx1-ubyte.gz to ../data/MNIST/raw\n",
            "\n",
            "Downloading http://yann.lecun.com/exdb/mnist/t10k-images-idx3-ubyte.gz\n",
            "Downloading http://yann.lecun.com/exdb/mnist/t10k-images-idx3-ubyte.gz to ../data/MNIST/raw/t10k-images-idx3-ubyte.gz\n"
          ]
        },
        {
          "output_type": "display_data",
          "data": {
            "application/vnd.jupyter.widget-view+json": {
              "model_id": "45d33e3d72a44a39a94d95a85dd2764f",
              "version_minor": 0,
              "version_major": 2
            },
            "text/plain": [
              "  0%|          | 0/1648877 [00:00<?, ?it/s]"
            ]
          },
          "metadata": {}
        },
        {
          "output_type": "stream",
          "name": "stdout",
          "text": [
            "Extracting ../data/MNIST/raw/t10k-images-idx3-ubyte.gz to ../data/MNIST/raw\n",
            "\n",
            "Downloading http://yann.lecun.com/exdb/mnist/t10k-labels-idx1-ubyte.gz\n",
            "Downloading http://yann.lecun.com/exdb/mnist/t10k-labels-idx1-ubyte.gz to ../data/MNIST/raw/t10k-labels-idx1-ubyte.gz\n"
          ]
        },
        {
          "output_type": "display_data",
          "data": {
            "application/vnd.jupyter.widget-view+json": {
              "model_id": "fb247c757a33485db63eae191da28532",
              "version_minor": 0,
              "version_major": 2
            },
            "text/plain": [
              "  0%|          | 0/4542 [00:00<?, ?it/s]"
            ]
          },
          "metadata": {}
        },
        {
          "output_type": "stream",
          "name": "stdout",
          "text": [
            "Extracting ../data/MNIST/raw/t10k-labels-idx1-ubyte.gz to ../data/MNIST/raw\n",
            "\n"
          ]
        }
      ]
    },
    {
      "cell_type": "markdown",
      "source": [
        "Media y desviación estandar de un lote"
      ],
      "metadata": {
        "id": "MWJN4jeC9WoG"
      }
    },
    {
      "cell_type": "code",
      "source": [
        "#Obtenemos primer batch\n",
        "examples = enumerate(train_loader)\n",
        "# example_data tiene los datso en pixeles de cada observación\n",
        "# example_targets tiene las etiquetas de la observación\n",
        "batch_idx, (example_data, example_targets) = next(examples)\n",
        "\n",
        "#En este caso canales = 1 porque son imágenes en blanco y negro\n",
        "print('Dimensión del batch (Número de observaciones, canales, altura, ancho:', example_data.shape)\n",
        "print('Media del batch:', torch.mean(example_data))\n",
        "print('Std del batch:', torch.std(example_data))\n",
        "print('Contenido de una observación en formato tensorial \\n', example_data[0][0])\n",
        "# 0 = negro 1 tiende a blanco\n",
        "print('Valor de la observación \\n', example_targets[0])"
      ],
      "metadata": {
        "colab": {
          "base_uri": "https://localhost:8080/"
        },
        "id": "iwdTvUy89bN-",
        "outputId": "d3f5afd6-c082-469e-abf8-8ffee181d0f6"
      },
      "execution_count": 4,
      "outputs": [
        {
          "output_type": "stream",
          "name": "stdout",
          "text": [
            "Dimensión del batch (Número de observaciones, canales, altura, ancho: torch.Size([1000, 1, 28, 28])\n",
            "Media del batch: tensor(0.1310)\n",
            "Std del batch: tensor(0.3088)\n",
            "Contenido de una observación en formato tensorial \n",
            " tensor([[0.0000, 0.0000, 0.0000, 0.0000, 0.0000, 0.0000, 0.0000, 0.0000, 0.0000,\n",
            "         0.0000, 0.0000, 0.0000, 0.0000, 0.0000, 0.0000, 0.0000, 0.0000, 0.0000,\n",
            "         0.0000, 0.0000, 0.0000, 0.0000, 0.0000, 0.0000, 0.0000, 0.0000, 0.0000,\n",
            "         0.0000],\n",
            "        [0.0000, 0.0000, 0.0000, 0.0000, 0.0000, 0.0000, 0.0000, 0.0000, 0.0000,\n",
            "         0.0000, 0.0000, 0.0000, 0.0000, 0.0000, 0.0000, 0.0000, 0.0000, 0.0000,\n",
            "         0.0000, 0.0000, 0.0000, 0.0000, 0.0000, 0.0000, 0.0000, 0.0000, 0.0000,\n",
            "         0.0000],\n",
            "        [0.0000, 0.0000, 0.0000, 0.0000, 0.0000, 0.0000, 0.0000, 0.0000, 0.0000,\n",
            "         0.0000, 0.0000, 0.0000, 0.0000, 0.0000, 0.0000, 0.0000, 0.0000, 0.0000,\n",
            "         0.0000, 0.0000, 0.0000, 0.0000, 0.0000, 0.0000, 0.0000, 0.0000, 0.0000,\n",
            "         0.0000],\n",
            "        [0.0000, 0.0000, 0.0000, 0.0000, 0.0000, 0.0000, 0.0000, 0.0000, 0.0000,\n",
            "         0.0000, 0.0000, 0.0000, 0.0000, 0.0000, 0.0000, 0.0000, 0.0000, 0.0000,\n",
            "         0.0000, 0.0000, 0.0000, 0.0000, 0.0000, 0.0000, 0.0000, 0.0000, 0.0000,\n",
            "         0.0000],\n",
            "        [0.0000, 0.0000, 0.0000, 0.0000, 0.0000, 0.0000, 0.0000, 0.0000, 0.0000,\n",
            "         0.0000, 0.0000, 0.0000, 0.0000, 0.0000, 0.0000, 0.0000, 0.0000, 0.0000,\n",
            "         0.0000, 0.0000, 0.0000, 0.0000, 0.0000, 0.0000, 0.0000, 0.0000, 0.0000,\n",
            "         0.0000],\n",
            "        [0.0000, 0.0000, 0.0000, 0.0000, 0.0000, 0.0000, 0.0000, 0.0000, 0.0000,\n",
            "         0.0000, 0.0000, 0.0000, 0.0000, 0.0000, 0.0863, 0.0863, 0.0000, 0.0000,\n",
            "         0.0745, 0.0941, 0.0941, 0.0941, 0.0275, 0.0000, 0.0000, 0.0000, 0.0000,\n",
            "         0.0000],\n",
            "        [0.0000, 0.0000, 0.0000, 0.0000, 0.0000, 0.0000, 0.0000, 0.0000, 0.0000,\n",
            "         0.0000, 0.0000, 0.0000, 0.1333, 0.5490, 0.9569, 0.9176, 0.2667, 0.6314,\n",
            "         0.9255, 0.9882, 0.9922, 0.9882, 0.6039, 0.1176, 0.0000, 0.0000, 0.0000,\n",
            "         0.0000],\n",
            "        [0.0000, 0.0000, 0.0000, 0.0000, 0.0000, 0.0000, 0.0000, 0.0000, 0.0000,\n",
            "         0.0000, 0.0000, 0.0510, 0.7961, 0.9882, 0.9882, 0.9922, 0.9882, 0.9882,\n",
            "         0.9882, 0.9882, 0.9922, 0.9882, 0.9882, 0.8902, 0.5137, 0.0000, 0.0000,\n",
            "         0.0000],\n",
            "        [0.0000, 0.0000, 0.0000, 0.0000, 0.0000, 0.0000, 0.0000, 0.0000, 0.0000,\n",
            "         0.0000, 0.0000, 0.1843, 0.9882, 0.9882, 0.9882, 0.9608, 0.6275, 0.6275,\n",
            "         0.6275, 0.6275, 0.6314, 0.6275, 0.7255, 0.9882, 0.8235, 0.0000, 0.0000,\n",
            "         0.0000],\n",
            "        [0.0000, 0.0000, 0.0000, 0.0000, 0.0000, 0.0000, 0.0000, 0.0000, 0.0000,\n",
            "         0.0000, 0.0431, 0.7569, 0.9882, 0.9882, 0.7843, 0.0824, 0.0000, 0.0000,\n",
            "         0.0000, 0.0000, 0.0000, 0.0000, 0.0275, 0.0863, 0.0471, 0.0000, 0.0000,\n",
            "         0.0000],\n",
            "        [0.0000, 0.0000, 0.0000, 0.0000, 0.0000, 0.0000, 0.0000, 0.0000, 0.0000,\n",
            "         0.4980, 1.0000, 0.9922, 0.9922, 0.9922, 0.7451, 0.0000, 0.0000, 0.0000,\n",
            "         0.0000, 0.0000, 0.0000, 0.0000, 0.0000, 0.0000, 0.0000, 0.0000, 0.0000,\n",
            "         0.0000],\n",
            "        [0.0000, 0.0000, 0.0000, 0.0000, 0.0000, 0.0000, 0.0000, 0.0000, 0.0667,\n",
            "         0.9176, 0.9922, 0.9882, 0.9882, 0.6745, 0.1961, 0.0000, 0.0000, 0.0000,\n",
            "         0.0000, 0.0000, 0.0000, 0.0000, 0.0000, 0.0000, 0.0000, 0.0000, 0.0000,\n",
            "         0.0000],\n",
            "        [0.0000, 0.0000, 0.0000, 0.0000, 0.0000, 0.0000, 0.0000, 0.2000, 0.8196,\n",
            "         0.9882, 0.9922, 0.7333, 0.2706, 0.0510, 0.0000, 0.0000, 0.0000, 0.0000,\n",
            "         0.0000, 0.0000, 0.0000, 0.0000, 0.0000, 0.0000, 0.0000, 0.0000, 0.0000,\n",
            "         0.0000],\n",
            "        [0.0000, 0.0000, 0.0000, 0.0000, 0.0000, 0.0000, 0.0667, 0.5333, 0.9882,\n",
            "         0.9882, 0.9922, 0.7922, 0.3647, 0.0667, 0.0000, 0.0000, 0.0000, 0.0000,\n",
            "         0.0000, 0.0000, 0.0000, 0.0000, 0.0000, 0.0000, 0.0000, 0.0000, 0.0000,\n",
            "         0.0000],\n",
            "        [0.0000, 0.0000, 0.0000, 0.0000, 0.0000, 0.0000, 0.0196, 0.7451, 0.9882,\n",
            "         0.9882, 0.9922, 0.9882, 0.9882, 0.9176, 0.9020, 0.4157, 0.0000, 0.0000,\n",
            "         0.0000, 0.0000, 0.0000, 0.0000, 0.0000, 0.0000, 0.0000, 0.0000, 0.0000,\n",
            "         0.0000],\n",
            "        [0.0000, 0.0000, 0.0000, 0.0000, 0.0000, 0.0000, 0.0000, 0.1255, 0.4549,\n",
            "         0.6588, 0.9059, 0.9176, 0.9922, 0.9922, 0.9922, 1.0000, 0.9098, 0.4196,\n",
            "         0.0196, 0.0000, 0.0000, 0.0000, 0.0000, 0.0000, 0.0000, 0.0000, 0.0000,\n",
            "         0.0000],\n",
            "        [0.0000, 0.0000, 0.0000, 0.0000, 0.0000, 0.0000, 0.0000, 0.0000, 0.0000,\n",
            "         0.0000, 0.0000, 0.0667, 0.3608, 0.7255, 0.8078, 0.9922, 0.9882, 0.9882,\n",
            "         0.5294, 0.0196, 0.0000, 0.0000, 0.0000, 0.0000, 0.0000, 0.0000, 0.0000,\n",
            "         0.0000],\n",
            "        [0.0000, 0.0000, 0.0000, 0.0000, 0.0000, 0.0000, 0.0000, 0.0000, 0.0000,\n",
            "         0.0000, 0.0000, 0.0000, 0.0000, 0.0000, 0.0000, 0.5137, 0.8902, 0.9882,\n",
            "         0.9882, 0.5373, 0.0000, 0.0000, 0.0000, 0.0000, 0.0000, 0.0000, 0.0000,\n",
            "         0.0000],\n",
            "        [0.0000, 0.0000, 0.0000, 0.0000, 0.0000, 0.5333, 0.0000, 0.0000, 0.0000,\n",
            "         0.0000, 0.0000, 0.0000, 0.0000, 0.0000, 0.0000, 0.0000, 0.1137, 0.7686,\n",
            "         0.9882, 0.9882, 0.0000, 0.0000, 0.0000, 0.0000, 0.0000, 0.0000, 0.0000,\n",
            "         0.0000],\n",
            "        [0.0000, 0.0000, 0.0000, 0.0000, 0.0000, 0.7804, 0.5294, 0.0000, 0.0000,\n",
            "         0.0000, 0.0000, 0.0000, 0.0000, 0.0000, 0.0000, 0.0000, 0.0000, 0.5137,\n",
            "         0.9882, 0.9882, 0.2078, 0.0000, 0.0000, 0.0000, 0.0000, 0.0000, 0.0000,\n",
            "         0.0000],\n",
            "        [0.0000, 0.0000, 0.0000, 0.0000, 0.0000, 0.7922, 0.9098, 0.5412, 0.1725,\n",
            "         0.0510, 0.0000, 0.0000, 0.0000, 0.0000, 0.0431, 0.0941, 0.1765, 0.8706,\n",
            "         0.9922, 0.9922, 0.2078, 0.0000, 0.0000, 0.0000, 0.0000, 0.0000, 0.0000,\n",
            "         0.0000],\n",
            "        [0.0000, 0.0000, 0.0000, 0.0000, 0.0000, 0.8118, 0.9255, 0.9882, 0.9882,\n",
            "         0.8275, 0.6353, 0.6314, 0.4275, 0.6314, 0.7961, 0.9922, 0.9882, 0.9882,\n",
            "         0.9882, 0.6157, 0.0000, 0.0000, 0.0000, 0.0000, 0.0000, 0.0000, 0.0000,\n",
            "         0.0000],\n",
            "        [0.0000, 0.0000, 0.0000, 0.0000, 0.0000, 0.0000, 0.5059, 0.9882, 0.9882,\n",
            "         0.9882, 0.9922, 0.9882, 0.9882, 0.9882, 0.9882, 0.9922, 0.9882, 0.7922,\n",
            "         0.3490, 0.0235, 0.0000, 0.0000, 0.0000, 0.0000, 0.0000, 0.0000, 0.0000,\n",
            "         0.0000],\n",
            "        [0.0000, 0.0000, 0.0000, 0.0000, 0.0000, 0.0000, 0.0353, 0.1765, 0.5451,\n",
            "         0.6275, 0.6314, 0.6275, 0.6275, 0.6275, 0.6275, 0.5882, 0.1765, 0.0510,\n",
            "         0.0000, 0.0000, 0.0000, 0.0000, 0.0000, 0.0000, 0.0000, 0.0000, 0.0000,\n",
            "         0.0000],\n",
            "        [0.0000, 0.0000, 0.0000, 0.0000, 0.0000, 0.0000, 0.0000, 0.0000, 0.0000,\n",
            "         0.0000, 0.0000, 0.0000, 0.0000, 0.0000, 0.0000, 0.0000, 0.0000, 0.0000,\n",
            "         0.0000, 0.0000, 0.0000, 0.0000, 0.0000, 0.0000, 0.0000, 0.0000, 0.0000,\n",
            "         0.0000],\n",
            "        [0.0000, 0.0000, 0.0000, 0.0000, 0.0000, 0.0000, 0.0000, 0.0000, 0.0000,\n",
            "         0.0000, 0.0000, 0.0000, 0.0000, 0.0000, 0.0000, 0.0000, 0.0000, 0.0000,\n",
            "         0.0000, 0.0000, 0.0000, 0.0000, 0.0000, 0.0000, 0.0000, 0.0000, 0.0000,\n",
            "         0.0000],\n",
            "        [0.0000, 0.0000, 0.0000, 0.0000, 0.0000, 0.0000, 0.0000, 0.0000, 0.0000,\n",
            "         0.0000, 0.0000, 0.0000, 0.0000, 0.0000, 0.0000, 0.0000, 0.0000, 0.0000,\n",
            "         0.0000, 0.0000, 0.0000, 0.0000, 0.0000, 0.0000, 0.0000, 0.0000, 0.0000,\n",
            "         0.0000],\n",
            "        [0.0000, 0.0000, 0.0000, 0.0000, 0.0000, 0.0000, 0.0000, 0.0000, 0.0000,\n",
            "         0.0000, 0.0000, 0.0000, 0.0000, 0.0000, 0.0000, 0.0000, 0.0000, 0.0000,\n",
            "         0.0000, 0.0000, 0.0000, 0.0000, 0.0000, 0.0000, 0.0000, 0.0000, 0.0000,\n",
            "         0.0000]])\n",
            "Valor de la observación \n",
            " tensor(5)\n"
          ]
        }
      ]
    },
    {
      "cell_type": "markdown",
      "source": [
        "Graficamos una observación\n"
      ],
      "metadata": {
        "id": "OLTKbiIS-1NX"
      }
    },
    {
      "cell_type": "code",
      "source": [
        "fig = plt.figure()\n",
        "plt.tight_layout()\n",
        "plt.imshow(example_data[0][0], cmap='gray', interpolation='none')\n",
        "plt.xticks([])\n",
        "plt.yticks([])"
      ],
      "metadata": {
        "colab": {
          "base_uri": "https://localhost:8080/",
          "height": 265
        },
        "id": "quOhUacY-43g",
        "outputId": "96318920-2f01-4bfb-b289-e213d97ee392"
      },
      "execution_count": 5,
      "outputs": [
        {
          "output_type": "execute_result",
          "data": {
            "text/plain": [
              "([], <a list of 0 Text major ticklabel objects>)"
            ]
          },
          "metadata": {},
          "execution_count": 5
        },
        {
          "output_type": "display_data",
          "data": {
            "image/png": "[encoded data removed]",
            "text/plain": [
              "<Figure size 432x288 with 1 Axes>"
            ]
          },
          "metadata": {}
        }
      ]
    },
    {
      "cell_type": "markdown",
      "source": [
        "Media y desviación estandar de todos los batches de entrenamiento"
      ],
      "metadata": {
        "id": "frufogXv_USv"
      }
    },
    {
      "cell_type": "code",
      "source": [
        "examples = enumerate(train_loader)\n",
        "\n",
        "# Listas para guardar resultados por batch\n",
        "batch_mean = []\n",
        "batch_std = []\n",
        "batch_labels = []\n",
        "\n",
        "for batch_idx, (example_data, example_targets) in examples:\n",
        "  batch_mean.append(torch.mean(example_data).item())\n",
        "  batch_std.append(torch.std(example_data).item())\n",
        "  batch_labels.append(example_targets)\n",
        "\n",
        "# Convertir las etiquetas a numpy array\n",
        "batch_labels = map(lambda x: x.numpy(), batch_labels )\n",
        "batch_labels = np.concatenate(list(batch_labels))\n",
        "#todas las etiquetas de las imágenes\n",
        "batch_labels"
      ],
      "metadata": {
        "colab": {
          "base_uri": "https://localhost:8080/"
        },
        "id": "FsWTsTcn_a0L",
        "outputId": "77e887c6-3406-4c63-c4c9-493acb83f89a"
      },
      "execution_count": 6,
      "outputs": [
        {
          "output_type": "execute_result",
          "data": {
            "text/plain": [
              "array([0, 6, 7, ..., 5, 0, 1])"
            ]
          },
          "metadata": {},
          "execution_count": 6
        }
      ]
    },
    {
      "cell_type": "markdown",
      "source": [
        "Gráfica de la distribución de las etiquetas en el set de datos"
      ],
      "metadata": {
        "id": "zGjfWNBFEXws"
      }
    },
    {
      "cell_type": "code",
      "source": [
        "sns.displot(data=batch_labels)"
      ],
      "metadata": {
        "colab": {
          "base_uri": "https://localhost:8080/",
          "height": 386
        },
        "id": "68Uwre7-EelK",
        "outputId": "bbe667b3-5b99-49eb-e37d-7678da8c3dbe"
      },
      "execution_count": 7,
      "outputs": [
        {
          "output_type": "execute_result",
          "data": {
            "text/plain": [
              "<seaborn.axisgrid.FacetGrid at 0x7fa046fa95d0>"
            ]
          },
          "metadata": {},
          "execution_count": 7
        },
        {
          "output_type": "display_data",
          "data": {
            "image/png": "[encoded data removed]",
            "text/plain": [
              "<Figure size 360x360 with 1 Axes>"
            ]
          },
          "metadata": {
            "needs_background": "light"
          }
        }
      ]
    },
    {
      "cell_type": "markdown",
      "source": [
        "Histograma de la media de los pixeles"
      ],
      "metadata": {
        "id": "k9aa0OUNEx1E"
      }
    },
    {
      "cell_type": "code",
      "source": [
        "sns.displot(data=batch_mean)\n",
        "print('Media de pixeles:  ',sum(batch_mean)/len(batch_mean))"
      ],
      "metadata": {
        "colab": {
          "base_uri": "https://localhost:8080/",
          "height": 386
        },
        "id": "q_79CclSEz5N",
        "outputId": "6e08416b-30a2-43f3-fafe-9f83899d1ef9"
      },
      "execution_count": 8,
      "outputs": [
        {
          "output_type": "stream",
          "name": "stdout",
          "text": [
            "Media de pixeles:   0.1306604787707329\n"
          ]
        },
        {
          "output_type": "display_data",
          "data": {
            "image/png": "[encoded data removed]",
            "text/plain": [
              "<Figure size 360x360 with 1 Axes>"
            ]
          },
          "metadata": {
            "needs_background": "light"
          }
        }
      ]
    },
    {
      "cell_type": "markdown",
      "source": [
        "Histograma de la desviación estandar de los pixeles"
      ],
      "metadata": {
        "id": "vvKJOSvgFMY5"
      }
    },
    {
      "cell_type": "code",
      "source": [
        "print('Std de pixeles:  ',sum(batch_std)/len(batch_std))\n",
        "sns.displot(data=batch_std)"
      ],
      "metadata": {
        "colab": {
          "base_uri": "https://localhost:8080/",
          "height": 404
        },
        "id": "IQ5nZfkXFPch",
        "outputId": "adc53f73-c11a-4268-d61c-452811c8b93d"
      },
      "execution_count": 9,
      "outputs": [
        {
          "output_type": "stream",
          "name": "stdout",
          "text": [
            "Std de pixeles:   0.30810109674930575\n"
          ]
        },
        {
          "output_type": "execute_result",
          "data": {
            "text/plain": [
              "<seaborn.axisgrid.FacetGrid at 0x7f9f3062e750>"
            ]
          },
          "metadata": {},
          "execution_count": 9
        },
        {
          "output_type": "display_data",
          "data": {
            "image/png": "[encoded data removed]",
            "text/plain": [
              "<Figure size 360x360 with 1 Axes>"
            ]
          },
          "metadata": {
            "needs_background": "light"
          }
        }
      ]
    },
    {
      "cell_type": "markdown",
      "source": [
        "Vistazo a los datos de prueba"
      ],
      "metadata": {
        "id": "hvp31G31Fb9d"
      }
    },
    {
      "cell_type": "markdown",
      "source": [
        "* Sin normalización"
      ],
      "metadata": {
        "id": "5Cxh7y1IFjK2"
      }
    },
    {
      "cell_type": "code",
      "source": [
        "test_loader = torch.utils.data.DataLoader(\n",
        "    datasets.MNIST('../data', train=False, transform=transforms.Compose([\n",
        "                       transforms.ToTensor()\n",
        "                   ])),\n",
        "    batch_size=args['test_batch_size'], \n",
        "    shuffle=False)\n",
        "\n",
        "examples = enumerate(test_loader)\n",
        "batch_idx, (example_data, example_targets) = next(examples)\n",
        "\n",
        "#Vistazo a los primeros 6 números\n",
        "fig = plt.figure()\n",
        "for i in range(6):\n",
        "  plt.subplot(2,3,i+1)\n",
        "  plt.tight_layout()\n",
        "  plt.imshow(example_data[i][0], cmap='gray', interpolation='none')\n",
        "  plt.title(\"Ground Truth: {}\".format(example_targets[i]))\n",
        "  plt.xticks([])\n",
        "  plt.yticks([])\n"
      ],
      "metadata": {
        "colab": {
          "base_uri": "https://localhost:8080/",
          "height": 280
        },
        "id": "OETkNs2AFp1Q",
        "outputId": "9d542cc1-20fb-4e12-f0da-c530309c789f"
      },
      "execution_count": 10,
      "outputs": [
        {
          "output_type": "display_data",
          "data": {
            "image/png": "[encoded data removed]",
            "text/plain": [
              "<Figure size 432x288 with 6 Axes>"
            ]
          },
          "metadata": {}
        }
      ]
    },
    {
      "cell_type": "markdown",
      "source": [
        "Normalizando"
      ],
      "metadata": {
        "id": "li2rvUTcHLbv"
      }
    },
    {
      "cell_type": "code",
      "source": [
        "test_loader = torch.utils.data.DataLoader(\n",
        "    datasets.MNIST('../data', train=False, transform=transforms.Compose([\n",
        "                       transforms.ToTensor(),\n",
        "                       transforms.Normalize((sum(batch_mean)/len(batch_mean),), (sum(batch_std)/len(batch_std),))\n",
        "                   ])),\n",
        "    batch_size=args['test_batch_size'], \n",
        "    shuffle=False)\n",
        "\n",
        "examples = enumerate(test_loader)\n",
        "batch_idx, (example_data, example_targets) = next(examples)\n",
        "\n",
        "print(example_data.shape)\n",
        "\n",
        "import matplotlib.pyplot as plt\n",
        "\n",
        "fig = plt.figure()\n",
        "for i in range(6):\n",
        "  plt.subplot(2,3,i+1)\n",
        "  plt.tight_layout()\n",
        "  plt.imshow(example_data[i][0], cmap='gray', interpolation='none')\n",
        "  plt.title(\"Ground Truth: {}\".format(example_targets[i]))\n",
        "  plt.xticks([])\n",
        "  plt.yticks([])\n"
      ],
      "metadata": {
        "colab": {
          "base_uri": "https://localhost:8080/",
          "height": 297
        },
        "id": "J1Y9x6P-HNdT",
        "outputId": "7e172b35-d7ca-4f54-c3a4-8b43ebde6220"
      },
      "execution_count": 11,
      "outputs": [
        {
          "output_type": "stream",
          "name": "stdout",
          "text": [
            "torch.Size([1000, 1, 28, 28])\n"
          ]
        },
        {
          "output_type": "display_data",
          "data": {
            "image/png": "[encoded data removed]",
            "text/plain": [
              "<Figure size 432x288 with 6 Axes>"
            ]
          },
          "metadata": {}
        }
      ]
    },
    {
      "cell_type": "markdown",
      "source": [
        " En este caso a simple vista no hay mucha diferencia, aun asi es importante normalizar!\n",
        "En esta ocasion como las imagenes son en blanco y negro, solo tenemos un canal."
      ],
      "metadata": {
        "id": "x6GwFOGkHldq"
      }
    },
    {
      "cell_type": "markdown",
      "source": [
        "Cargado final, con normalizaciones."
      ],
      "metadata": {
        "id": "5-0KzQWjHvAJ"
      }
    },
    {
      "cell_type": "code",
      "source": [
        "#load the data\n",
        "avg_mean = sum(batch_mean)/len(batch_mean)\n",
        "avg_std =  sum(batch_std)/len(batch_std)\n",
        "\n",
        "train_loader = torch.utils.data.DataLoader(\n",
        "    datasets.MNIST(root='../data', \n",
        "                   train=True, \n",
        "                   download=True,\n",
        "                   transform=transforms.Compose([\n",
        "                       transforms.ToTensor(),\n",
        "                       transforms.Normalize((avg_mean,), (avg_std,))\n",
        "                   ])),\n",
        "    batch_size=args['batch_size'], \n",
        "    shuffle=True)\n",
        "\n",
        "test_loader = torch.utils.data.DataLoader(\n",
        "    datasets.MNIST('../data', \n",
        "                   train=False, \n",
        "                   download = True,\n",
        "                   transform=transforms.Compose([\n",
        "                       transforms.ToTensor(),\n",
        "                       transforms.Normalize((avg_mean,), (avg_std,))\n",
        "                   ])),\n",
        "    batch_size=args['test_batch_size'], \n",
        "    shuffle=True)"
      ],
      "metadata": {
        "id": "kpWpJo21HuRh"
      },
      "execution_count": 12,
      "outputs": []
    },
    {
      "cell_type": "markdown",
      "source": [
        "Resumen;\n",
        "+ Cargado de los datos, y los hemos dividido entre entrenamiento y prueba.\n",
        "+ Hemo visto la distribucion de las etiquetas (labels) en el entrenamiento, que parece bastante balanceada.\n",
        "+ Hemos obtenido la media y std de los datos de entrenamiento.\n",
        "+ Normalizamos los datos.\n",
        "+ Revisamos la integridad de los datos.  \n",
        "Hemos realizado con exito el ETL, y parte del EDA"
      ],
      "metadata": {
        "id": "q-FjkIyWIPY1"
      }
    },
    {
      "cell_type": "markdown",
      "source": [
        "## Definición de la clase de la red neuronal"
      ],
      "metadata": {
        "id": "RdRwPrWNbT0q"
      }
    },
    {
      "cell_type": "code",
      "source": [
        "from torch import nn\n",
        "\n",
        "class NeuralNetwork(nn.Module):\n",
        "\n",
        "    def __init__(self, in_n=784, hidden_n=256, out_n=1):\n",
        "        super(NeuralNetwork, self).__init__()\n",
        "        \n",
        "        # W0:= Pesos entrada -> oculta \n",
        "        # nn.Linear(neuronas de entrada, neuronas ocultas, bias=True)\n",
        "        self.hidden = nn.Linear(in_n, hidden_n)\n",
        "\n",
        "        # W1:= Pesos oculta -> salida \n",
        "        # nn.Linear(neuronas ocultas, neuronas salida, bias=True)\n",
        "        self.output = nn.Linear(hidden_n, out_n)\n",
        "        \n",
        "        # Funciones de Activacion \n",
        "        # Sigma 1 [capa oculta]\n",
        "        self.sigmoid = nn.Sigmoid()\n",
        "        # Sigma 2 [capa de salida]\n",
        "        self.softmax = nn.Softmax(dim=1)\n",
        "        \n",
        "    def forward(self, x):\n",
        "        # Flujo o feedforward de nuestra red\n",
        "\n",
        "        # Flatten tensores de imagenes\n",
        "        x = x.view(x.size(0), -1)\n",
        "        # Multiplicacion de X0 por W0\n",
        "        x = self.hidden(x)\n",
        "        # Evaluar Sigma uno / Obtener X1\n",
        "        x = self.sigmoid(x)\n",
        "        # Multiplicacion de X1 por W1\n",
        "        x = self.output(x)\n",
        "        # Evaluar en Sigma 2 / Obtener X2\n",
        "        # es log_softmax, debido a que la función de pérdida que utilizaremos es Negative log-likelihood loss\n",
        "        x = F.log_softmax(x, dim=1)\n",
        "        return x"
      ],
      "metadata": {
        "id": "_MmgTYPEbeyM"
      },
      "execution_count": 13,
      "outputs": []
    },
    {
      "cell_type": "markdown",
      "source": [
        "## Evaluación del modelo"
      ],
      "metadata": {
        "id": "pD70hOavciP8"
      }
    },
    {
      "cell_type": "markdown",
      "source": [
        "* **model.eval:**= Pone al modelo en modo de evaluacion. No calcula el gradiente, y desactiva el comportamiento de entrenamiento. Por ejemplo, descativa el dropout de neuronas.\n",
        "* **.cuda()** := carga el tensor al GPU\n",
        "* **F.nll_loss** := Funcion negative log-likelihood\n",
        "* **output.data.max:**= Nos regresa el valor maximo del tensor, y el indice que le corresponde."
      ],
      "metadata": {
        "id": "ZXreBZXkdUdq"
      }
    },
    {
      "cell_type": "code",
      "source": [
        "def prueba(model, test_loader, args):\n",
        "  # Modelo en modo evaluación (elimina dropouy y no calcula el gradiente)\n",
        "  model.eval()\n",
        "  test_loss = 0\n",
        "  correct = 0\n",
        "\n",
        "  #iterar sobre cada batch/lote de prueba\n",
        "  for data, target in test_loader:\n",
        "    #usar gpu en lo que se pueda\n",
        "    #nota: la comunicación entre cpu y gpu puede llegar a ser tardada\n",
        "    if args['cuda'] == 'cuda':\n",
        "      data, target = data.cuda(), target.cuda()\n",
        "    \n",
        "    # resultado del feedforward\n",
        "    output = model(data)\n",
        "\n",
        "    #función de pérdida en el batch. Negative log-likelihood loss\n",
        "    test_loss += F.nll_loss(output, target, reduction='sum').item()\n",
        "\n",
        "    #obtener la neurora  -> label con mayor probabilidad\n",
        "    #la neurona k coresponde al número k o etiqueta k\n",
        "    pred = output.data.max(1, keepdim=True)[1]\n",
        "\n",
        "    #Número de predicciones correctas, .cpu() copia los tensores al cpu\n",
        "    correct += pred.eq(target.data.view_as(pred)).long().cpu().sum()\n",
        "\n",
        "  # % de observaciones correctas\n",
        "  test_loss /= len(test_loader.dataset)\n",
        "\n",
        "  print('\\n Datos de Prueba: Perdida: {:.3f}, Accuracy: {}/{} ({:.0f}%)\\n'.format(\n",
        "        test_loss, correct, len(test_loader.dataset),\n",
        "        100. * correct / len(test_loader.dataset)))\n"
      ],
      "metadata": {
        "id": "tFy4KWHzdTxE"
      },
      "execution_count": 38,
      "outputs": []
    },
    {
      "cell_type": "code",
      "source": [
        "model_nn = NeuralNetwork(in_n=784, hidden_n=256, out_n=10)\n",
        "prueba(model = model_nn, test_loader=test_loader, args=args)"
      ],
      "metadata": {
        "colab": {
          "base_uri": "https://localhost:8080/"
        },
        "id": "D5ghw6r0fwhU",
        "outputId": "151ca79a-acff-43ff-dfb9-ce16c257bceb"
      },
      "execution_count": 39,
      "outputs": [
        {
          "output_type": "stream",
          "name": "stdout",
          "text": [
            "\n",
            " Datos de Prueba: Perdida: 2.321, Accuracy: 1148/10000 (11%)\n",
            "\n"
          ]
        }
      ]
    },
    {
      "cell_type": "markdown",
      "source": [
        "Podemos observar que nuestra red no esta entrenada de manera optima, pues el accuracy es cercano al 10%. Esto es equivalente a elegir al azar.\n",
        "\n",
        "Debemos entrenar nuestra red."
      ],
      "metadata": {
        "id": "Cbx6-cGjk7MP"
      }
    },
    {
      "cell_type": "markdown",
      "source": [
        "## Función de entrenamiento"
      ],
      "metadata": {
        "id": "dRlm0PdSlABv"
      }
    },
    {
      "cell_type": "markdown",
      "source": [
        "Definamos la funcion de entrenamiento, para una epoca. Nuestro modelo evalua cada lote/batch una vez.\n",
        "\n",
        "* **model.train()**:= Pone al modelo en modo de entrenamiento. Activa el dropout y calcula el gradiente.\n",
        "* **Variable()**:= Es un wrapper alrededor de la clase tensor de Pytorch, que permite guardar operaciones intermedias, y calcular el gradiente. **Es un método deprecado**\n",
        "* **.backward()**:= Computa el gradiente de los pesos, con la informacion de un objeto tipo Variable.\n",
        "* **step.()**:= Calcula/actualiza los pesos de acuerdo al gradiente."
      ],
      "metadata": {
        "id": "-L28dFtFlLAP"
      }
    },
    {
      "cell_type": "code",
      "source": [
        "def entrenamiento(model, train_loader, args, epoch):\n",
        "    # Pone al modelo en modo entrenamiento. Calcula autograd, y activa el dropout.\n",
        "    model.train()\n",
        "    for batch_idx, (data, target) in enumerate(train_loader):\n",
        "        # carga las matrices al GPU de ser necesario\n",
        "        if args['cuda'] == 'cuda':\n",
        "            data, target = data.cuda(), target.cuda()\n",
        "\n",
        "        # Convierte el tensor a Variable para calcular la derivada \n",
        "        #data, target = Variable(data), Varaible(target)\n",
        "        data, target = data, target\n",
        "\n",
        "        # Reinicia el gradiente del lote a 0\n",
        "        optimizer.zero_grad()\n",
        "\n",
        "        # Feedforward\n",
        "        output = model(data)\n",
        "\n",
        "        # Calcula la perdida log-loss\n",
        "        loss = nn.NLLLoss()\n",
        "        loss = loss(output, target)\n",
        "\n",
        "        # Calcula el gradiente (backward) \n",
        "        loss.backward()\n",
        "\n",
        "        # Optimiza/recalcula los pesos\n",
        "        optimizer.step()\n",
        "\n",
        "        # Imprime la perdida. \n",
        "        if batch_idx % args['log_interval'] == 0:\n",
        "            print('Train Epoch: {} [{}/{} ({:.0f}%)]\\tLoss: {:.6f}'.format(\n",
        "                epoch, batch_idx * len(data), len(train_loader.dataset),\n",
        "                100. * batch_idx / len(train_loader), loss.item()))"
      ],
      "metadata": {
        "id": "Maf7ZXlulJl1"
      },
      "execution_count": 40,
      "outputs": []
    },
    {
      "cell_type": "markdown",
      "source": [
        "### Entrenamiento de una época"
      ],
      "metadata": {
        "id": "WyExm7UqmHq3"
      }
    },
    {
      "cell_type": "code",
      "source": [
        "args['lr']=0.1\n",
        "model_nn = NeuralNetwork(in_n=784, hidden_n=256, out_n=10)\n",
        "optimizer = optim.SGD(model_nn.parameters(), lr=args['lr'],\n",
        "                      momentum=args['momentum'])\n",
        "\n",
        "for epoch in range(1, 2):\n",
        "    entrenamiento(model = model_nn, train_loader=train_loader, args=args, \n",
        "                  epoch=epoch)\n",
        "    prueba(model = model_nn, test_loader=test_loader, args=args)"
      ],
      "metadata": {
        "colab": {
          "base_uri": "https://localhost:8080/"
        },
        "id": "qIlsaj4Jly1_",
        "outputId": "2b8bb7ed-37fb-4fc2-8603-5364ddb5578c"
      },
      "execution_count": 41,
      "outputs": [
        {
          "output_type": "stream",
          "name": "stdout",
          "text": [
            "Train Epoch: 1 [0/60000 (0%)]\tLoss: 2.297177\n",
            "Train Epoch: 1 [10000/60000 (17%)]\tLoss: 1.858502\n",
            "Train Epoch: 1 [20000/60000 (33%)]\tLoss: 1.349968\n",
            "Train Epoch: 1 [30000/60000 (50%)]\tLoss: 1.037184\n",
            "Train Epoch: 1 [40000/60000 (67%)]\tLoss: 0.840908\n",
            "Train Epoch: 1 [50000/60000 (83%)]\tLoss: 0.699748\n",
            "\n",
            " Datos de Prueba: Perdida: 0.612, Accuracy: 8661/10000 (87%)\n",
            "\n"
          ]
        }
      ]
    },
    {
      "cell_type": "markdown",
      "source": [
        "### Entrenamiento de más épocas"
      ],
      "metadata": {
        "id": "6wDiAmW2mC-e"
      }
    },
    {
      "cell_type": "code",
      "source": [
        "# Hyperparametros de Entrenamiento\n",
        "# Epoca:= El numero de veces por el que pasamos por todos los datos\n",
        "args['epoch']= 5 \n",
        "# La tasa de aprendizaje del descenso por gradiente \n",
        "args['lr']=0.1\n",
        "\n",
        "model_nn = NeuralNetwork(in_n=784, hidden_n=256, out_n=10)\n",
        "optimizer = optim.SGD(model_nn.parameters(), lr=args['lr'],\n",
        "                      momentum=args['momentum'])\n",
        "# Carga el modelo al GPU de ser necesario\n",
        "if args['cuda'] == 'cuda':\n",
        "    model.cuda()\n",
        "\n",
        "for epoch in range(0, args['epoch']):\n",
        "    entrenamiento(model = model_nn, train_loader=train_loader, args=args, \n",
        "                  epoch=epoch)\n",
        "    prueba(model = model_nn, test_loader=test_loader, args=args)"
      ],
      "metadata": {
        "colab": {
          "base_uri": "https://localhost:8080/"
        },
        "id": "LPxVJkeomaGg",
        "outputId": "34ab4690-a7b7-4634-bbe5-2aaff735c80b"
      },
      "execution_count": 42,
      "outputs": [
        {
          "output_type": "stream",
          "name": "stdout",
          "text": [
            "Train Epoch: 0 [0/60000 (0%)]\tLoss: 2.354335\n",
            "Train Epoch: 0 [10000/60000 (17%)]\tLoss: 1.837771\n",
            "Train Epoch: 0 [20000/60000 (33%)]\tLoss: 1.332949\n",
            "Train Epoch: 0 [30000/60000 (50%)]\tLoss: 0.989982\n",
            "Train Epoch: 0 [40000/60000 (67%)]\tLoss: 0.827800\n",
            "Train Epoch: 0 [50000/60000 (83%)]\tLoss: 0.694832\n",
            "\n",
            " Datos de Prueba: Perdida: 0.607, Accuracy: 8673/10000 (87%)\n",
            "\n",
            "Train Epoch: 1 [0/60000 (0%)]\tLoss: 0.651423\n",
            "Train Epoch: 1 [10000/60000 (17%)]\tLoss: 0.563676\n",
            "Train Epoch: 1 [20000/60000 (33%)]\tLoss: 0.510702\n",
            "Train Epoch: 1 [30000/60000 (50%)]\tLoss: 0.517731\n",
            "Train Epoch: 1 [40000/60000 (67%)]\tLoss: 0.470612\n",
            "Train Epoch: 1 [50000/60000 (83%)]\tLoss: 0.474279\n",
            "\n",
            " Datos de Prueba: Perdida: 0.417, Accuracy: 8914/10000 (89%)\n",
            "\n",
            "Train Epoch: 2 [0/60000 (0%)]\tLoss: 0.410633\n",
            "Train Epoch: 2 [10000/60000 (17%)]\tLoss: 0.414802\n",
            "Train Epoch: 2 [20000/60000 (33%)]\tLoss: 0.367206\n",
            "Train Epoch: 2 [30000/60000 (50%)]\tLoss: 0.348425\n",
            "Train Epoch: 2 [40000/60000 (67%)]\tLoss: 0.418754\n",
            "Train Epoch: 2 [50000/60000 (83%)]\tLoss: 0.365904\n",
            "\n",
            " Datos de Prueba: Perdida: 0.358, Accuracy: 9019/10000 (90%)\n",
            "\n",
            "Train Epoch: 3 [0/60000 (0%)]\tLoss: 0.365493\n",
            "Train Epoch: 3 [10000/60000 (17%)]\tLoss: 0.372835\n",
            "Train Epoch: 3 [20000/60000 (33%)]\tLoss: 0.333300\n",
            "Train Epoch: 3 [30000/60000 (50%)]\tLoss: 0.379837\n",
            "Train Epoch: 3 [40000/60000 (67%)]\tLoss: 0.333409\n",
            "Train Epoch: 3 [50000/60000 (83%)]\tLoss: 0.328452\n",
            "\n",
            " Datos de Prueba: Perdida: 0.326, Accuracy: 9082/10000 (91%)\n",
            "\n",
            "Train Epoch: 4 [0/60000 (0%)]\tLoss: 0.348372\n",
            "Train Epoch: 4 [10000/60000 (17%)]\tLoss: 0.346497\n",
            "Train Epoch: 4 [20000/60000 (33%)]\tLoss: 0.347101\n",
            "Train Epoch: 4 [30000/60000 (50%)]\tLoss: 0.316316\n",
            "Train Epoch: 4 [40000/60000 (67%)]\tLoss: 0.325514\n",
            "Train Epoch: 4 [50000/60000 (83%)]\tLoss: 0.304585\n",
            "\n",
            " Datos de Prueba: Perdida: 0.307, Accuracy: 9144/10000 (91%)\n",
            "\n"
          ]
        }
      ]
    },
    {
      "cell_type": "markdown",
      "source": [
        "### Entrenamiento con un learning rate grande"
      ],
      "metadata": {
        "id": "BY0oSlKRnBbY"
      }
    },
    {
      "cell_type": "markdown",
      "source": [
        "Esperariamos que nuestras predicciones se comportaran como pendulo, pues un learning rate grande tiende al sobre ajuste."
      ],
      "metadata": {
        "id": "gruhcKUvnH23"
      }
    },
    {
      "cell_type": "code",
      "source": [
        "# Hyperparametros de Entrenamiento\n",
        "# Epoca:= El numero de veces por el que pasamos por todos los datos\n",
        "args['epoch'] = 5  \n",
        "# La tasa de aprendizaje del descenso por gradiente \n",
        "args['lr'] = 1000\n",
        "\n",
        "\n",
        "optimizer = optim.SGD(model_nn.parameters(), lr=args['lr'],\n",
        "                      momentum=args['momentum'])\n",
        "\n",
        "# Carga el modelo al GPU de ser necesario\n",
        "if args['cuda'] == 'cuda':\n",
        "    model.cuda()\n",
        "\n",
        "for epoch in range(0, args['epoch']):\n",
        "    entrenamiento(model = model_nn, train_loader=train_loader, args=args, \n",
        "                  epoch=epoch)\n",
        "    prueba(model = model_nn, test_loader=test_loader, args=args)"
      ],
      "metadata": {
        "colab": {
          "base_uri": "https://localhost:8080/"
        },
        "id": "Ysrk5rPZnMNy",
        "outputId": "f5210162-3078-4fa5-df54-f22b84d1bb53"
      },
      "execution_count": 43,
      "outputs": [
        {
          "output_type": "stream",
          "name": "stdout",
          "text": [
            "Train Epoch: 0 [0/60000 (0%)]\tLoss: 0.311175\n",
            "Train Epoch: 0 [10000/60000 (17%)]\tLoss: 43188.503906\n",
            "Train Epoch: 0 [20000/60000 (33%)]\tLoss: 19452.923828\n",
            "Train Epoch: 0 [30000/60000 (50%)]\tLoss: 17549.650391\n",
            "Train Epoch: 0 [40000/60000 (67%)]\tLoss: 17420.378906\n",
            "Train Epoch: 0 [50000/60000 (83%)]\tLoss: 14953.050781\n",
            "\n",
            " Datos de Prueba: Perdida: 14105.809, Accuracy: 1028/10000 (10%)\n",
            "\n",
            "Train Epoch: 1 [0/60000 (0%)]\tLoss: 13910.328125\n",
            "Train Epoch: 1 [10000/60000 (17%)]\tLoss: 12064.736328\n",
            "Train Epoch: 1 [20000/60000 (33%)]\tLoss: 6555.790039\n",
            "Train Epoch: 1 [30000/60000 (50%)]\tLoss: 15596.445312\n",
            "Train Epoch: 1 [40000/60000 (67%)]\tLoss: 14766.756836\n",
            "Train Epoch: 1 [50000/60000 (83%)]\tLoss: 13595.730469\n",
            "\n",
            " Datos de Prueba: Perdida: 11936.346, Accuracy: 1177/10000 (12%)\n",
            "\n",
            "Train Epoch: 2 [0/60000 (0%)]\tLoss: 12569.392578\n",
            "Train Epoch: 2 [10000/60000 (17%)]\tLoss: 12767.064453\n",
            "Train Epoch: 2 [20000/60000 (33%)]\tLoss: 11435.403320\n",
            "Train Epoch: 2 [30000/60000 (50%)]\tLoss: 8630.991211\n",
            "Train Epoch: 2 [40000/60000 (67%)]\tLoss: 13899.482422\n",
            "Train Epoch: 2 [50000/60000 (83%)]\tLoss: 12286.346680\n",
            "\n",
            " Datos de Prueba: Perdida: 11761.125, Accuracy: 1920/10000 (19%)\n",
            "\n",
            "Train Epoch: 3 [0/60000 (0%)]\tLoss: 11592.598633\n",
            "Train Epoch: 3 [10000/60000 (17%)]\tLoss: 10693.184570\n",
            "Train Epoch: 3 [20000/60000 (33%)]\tLoss: 10218.893555\n",
            "Train Epoch: 3 [30000/60000 (50%)]\tLoss: 10763.042969\n",
            "Train Epoch: 3 [40000/60000 (67%)]\tLoss: 6217.323242\n",
            "Train Epoch: 3 [50000/60000 (83%)]\tLoss: 9195.625977\n",
            "\n",
            " Datos de Prueba: Perdida: 8267.820, Accuracy: 1547/10000 (15%)\n",
            "\n",
            "Train Epoch: 4 [0/60000 (0%)]\tLoss: 8072.298828\n",
            "Train Epoch: 4 [10000/60000 (17%)]\tLoss: 8042.752441\n",
            "Train Epoch: 4 [20000/60000 (33%)]\tLoss: 9499.931641\n",
            "Train Epoch: 4 [30000/60000 (50%)]\tLoss: 6520.092773\n",
            "Train Epoch: 4 [40000/60000 (67%)]\tLoss: 9011.120117\n",
            "Train Epoch: 4 [50000/60000 (83%)]\tLoss: 16016.279297\n",
            "\n",
            " Datos de Prueba: Perdida: 10067.255, Accuracy: 1711/10000 (17%)\n",
            "\n"
          ]
        }
      ]
    },
    {
      "cell_type": "markdown",
      "source": [
        "### Entrenamiento con learning rate pequeño"
      ],
      "metadata": {
        "id": "645sl6ThndgH"
      }
    },
    {
      "cell_type": "code",
      "source": [
        "# Hyperparametros de Entrenamiento\n",
        "# Epoca:= El numero de veces por el que pasamos por todos los datos\n",
        "args['epoch']=5  \n",
        "# La tasa de aprendizaje del descenso por gradiente \n",
        "args['lr']=0.0001\n",
        "\n",
        "\n",
        "model_nn = NeuralNetwork(in_n=784, hidden_n=256, out_n=10)\n",
        "optimizer = optim.SGD(model_nn.parameters(), lr=args['lr'],\n",
        "                      momentum=args['momentum'])\n",
        "# Carga el modelo al GPU de ser necesario\n",
        "if args['cuda'] == 'cuda':\n",
        "    model.cuda()\n",
        "\n",
        "for epoch in range(0, args['epoch']):\n",
        "    entrenamiento(model = model_nn, train_loader=train_loader, args=args, \n",
        "                  epoch=epoch)\n",
        "    prueba(model = model_nn, test_loader=test_loader, args=args)"
      ],
      "metadata": {
        "colab": {
          "base_uri": "https://localhost:8080/"
        },
        "id": "jQolR2dFnloX",
        "outputId": "f8f0cd75-7b8f-4576-f6a6-89269ea0dded"
      },
      "execution_count": 45,
      "outputs": [
        {
          "output_type": "stream",
          "name": "stdout",
          "text": [
            "Train Epoch: 0 [0/60000 (0%)]\tLoss: 2.379733\n",
            "Train Epoch: 0 [10000/60000 (17%)]\tLoss: 2.361256\n",
            "Train Epoch: 0 [20000/60000 (33%)]\tLoss: 2.370038\n",
            "Train Epoch: 0 [30000/60000 (50%)]\tLoss: 2.354182\n",
            "Train Epoch: 0 [40000/60000 (67%)]\tLoss: 2.359053\n",
            "Train Epoch: 0 [50000/60000 (83%)]\tLoss: 2.337951\n",
            "\n",
            " Datos de Prueba: Perdida: 2.351, Accuracy: 1009/10000 (10%)\n",
            "\n",
            "Train Epoch: 1 [0/60000 (0%)]\tLoss: 2.352625\n",
            "Train Epoch: 1 [10000/60000 (17%)]\tLoss: 2.345863\n",
            "Train Epoch: 1 [20000/60000 (33%)]\tLoss: 2.344594\n",
            "Train Epoch: 1 [30000/60000 (50%)]\tLoss: 2.337265\n",
            "Train Epoch: 1 [40000/60000 (67%)]\tLoss: 2.347759\n",
            "Train Epoch: 1 [50000/60000 (83%)]\tLoss: 2.352893\n",
            "\n",
            " Datos de Prueba: Perdida: 2.341, Accuracy: 1008/10000 (10%)\n",
            "\n",
            "Train Epoch: 2 [0/60000 (0%)]\tLoss: 2.346411\n",
            "Train Epoch: 2 [10000/60000 (17%)]\tLoss: 2.335805\n",
            "Train Epoch: 2 [20000/60000 (33%)]\tLoss: 2.340847\n",
            "Train Epoch: 2 [30000/60000 (50%)]\tLoss: 2.330778\n",
            "Train Epoch: 2 [40000/60000 (67%)]\tLoss: 2.336062\n",
            "Train Epoch: 2 [50000/60000 (83%)]\tLoss: 2.332967\n",
            "\n",
            " Datos de Prueba: Perdida: 2.332, Accuracy: 1006/10000 (10%)\n",
            "\n",
            "Train Epoch: 3 [0/60000 (0%)]\tLoss: 2.331461\n",
            "Train Epoch: 3 [10000/60000 (17%)]\tLoss: 2.326076\n",
            "Train Epoch: 3 [20000/60000 (33%)]\tLoss: 2.334635\n",
            "Train Epoch: 3 [30000/60000 (50%)]\tLoss: 2.331719\n",
            "Train Epoch: 3 [40000/60000 (67%)]\tLoss: 2.324891\n",
            "Train Epoch: 3 [50000/60000 (83%)]\tLoss: 2.331286\n",
            "\n",
            " Datos de Prueba: Perdida: 2.324, Accuracy: 1002/10000 (10%)\n",
            "\n",
            "Train Epoch: 4 [0/60000 (0%)]\tLoss: 2.330193\n",
            "Train Epoch: 4 [10000/60000 (17%)]\tLoss: 2.328668\n",
            "Train Epoch: 4 [20000/60000 (33%)]\tLoss: 2.326539\n",
            "Train Epoch: 4 [30000/60000 (50%)]\tLoss: 2.314520\n",
            "Train Epoch: 4 [40000/60000 (67%)]\tLoss: 2.321903\n",
            "Train Epoch: 4 [50000/60000 (83%)]\tLoss: 2.310271\n",
            "\n",
            " Datos de Prueba: Perdida: 2.317, Accuracy: 994/10000 (10%)\n",
            "\n"
          ]
        }
      ]
    },
    {
      "cell_type": "markdown",
      "source": [
        "En general Queremos que nuestro learning rate, se encuentre entre 0.0 y 1.0.\n",
        "\n",
        "* Existe una compensacion inversa entre el learning rate, y el numero de epocas. Si tuvieramos tiempo y recuros, lo ideal seria tener un learning rate bajo y entrenar por muchas epocas.\n",
        "* Tambien es conventiente intentar varios learning rates, con pocas epocas para detectar optimos locales, o en su defecto empezar con diferentes pesos iniciales, como en nuestro caso."
      ],
      "metadata": {
        "id": "i7b92Z1RmKT_"
      }
    },
    {
      "cell_type": "markdown",
      "source": [
        "![image.png](data:image/png;base64,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)"
      ],
      "metadata": {
        "id": "49uEUWban_zK"
      }
    },
    {
      "cell_type": "markdown",
      "source": [
        "![image.png](data:image/png;base64,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)"
      ],
      "metadata": {
        "id": "wwGFszSkoK54"
      }
    },
    {
      "cell_type": "markdown",
      "source": [
        "Fuente: https://www.kaggle.com/residentmario/tuning-your-learning-rate"
      ],
      "metadata": {
        "id": "-9bDok8AoQmp"
      }
    },
    {
      "cell_type": "markdown",
      "source": [
        "### Entrenamiento con pocas neuronas"
      ],
      "metadata": {
        "id": "DP3VhS3soUTI"
      }
    },
    {
      "cell_type": "markdown",
      "source": [
        "Solamente dos neuronas en la capa oculta"
      ],
      "metadata": {
        "id": "LRwWzp9toaZ4"
      }
    },
    {
      "cell_type": "code",
      "source": [
        "# Hyperparametros de Entrenamiento\n",
        "# Epoca:= El numero de veces por el que pasamos por todos los datos\n",
        "args['epoch']=5  \n",
        "# La tasa de aprendizaje del descenso por gradiente \n",
        "args['lr']=1.0\n",
        "\n",
        "\n",
        "model_nn = NeuralNetwork(in_n=784, hidden_n=2, out_n=10)\n",
        "optimizer = optim.SGD(model_nn.parameters(), lr=args['lr'],\n",
        "                      momentum=args['momentum'])\n",
        "# Carga el modelo al GPU de ser necesario\n",
        "if args['cuda'] == 'cuda':\n",
        "    model.cuda()\n",
        "\n",
        "for epoch in range(0, args['epoch']):\n",
        "    entrenamiento(model = model_nn, train_loader=train_loader, args=args, \n",
        "                  epoch=epoch)\n",
        "    prueba(model = model_nn, test_loader=test_loader, args=args)\n"
      ],
      "metadata": {
        "colab": {
          "base_uri": "https://localhost:8080/"
        },
        "id": "AoV09ScToBif",
        "outputId": "36345a1b-a958-4511-dc1d-b934f8d7e0b6"
      },
      "execution_count": 46,
      "outputs": [
        {
          "output_type": "stream",
          "name": "stdout",
          "text": [
            "Train Epoch: 0 [0/60000 (0%)]\tLoss: 2.368591\n",
            "Train Epoch: 0 [10000/60000 (17%)]\tLoss: 2.156877\n",
            "Train Epoch: 0 [20000/60000 (33%)]\tLoss: 1.996270\n",
            "Train Epoch: 0 [30000/60000 (50%)]\tLoss: 1.909614\n",
            "Train Epoch: 0 [40000/60000 (67%)]\tLoss: 1.823692\n",
            "Train Epoch: 0 [50000/60000 (83%)]\tLoss: 1.763449\n",
            "\n",
            " Datos de Prueba: Perdida: 1.706, Accuracy: 3831/10000 (38%)\n",
            "\n",
            "Train Epoch: 1 [0/60000 (0%)]\tLoss: 1.698008\n",
            "Train Epoch: 1 [10000/60000 (17%)]\tLoss: 1.629111\n",
            "Train Epoch: 1 [20000/60000 (33%)]\tLoss: 1.649647\n",
            "Train Epoch: 1 [30000/60000 (50%)]\tLoss: 1.538844\n",
            "Train Epoch: 1 [40000/60000 (67%)]\tLoss: 1.522186\n",
            "Train Epoch: 1 [50000/60000 (83%)]\tLoss: 1.585316\n",
            "\n",
            " Datos de Prueba: Perdida: 1.497, Accuracy: 4104/10000 (41%)\n",
            "\n",
            "Train Epoch: 2 [0/60000 (0%)]\tLoss: 1.525970\n",
            "Train Epoch: 2 [10000/60000 (17%)]\tLoss: 1.543841\n",
            "Train Epoch: 2 [20000/60000 (33%)]\tLoss: 1.547008\n",
            "Train Epoch: 2 [30000/60000 (50%)]\tLoss: 1.535622\n",
            "Train Epoch: 2 [40000/60000 (67%)]\tLoss: 1.445795\n",
            "Train Epoch: 2 [50000/60000 (83%)]\tLoss: 1.490633\n",
            "\n",
            " Datos de Prueba: Perdida: 1.463, Accuracy: 4177/10000 (42%)\n",
            "\n",
            "Train Epoch: 3 [0/60000 (0%)]\tLoss: 1.519035\n",
            "Train Epoch: 3 [10000/60000 (17%)]\tLoss: 1.442474\n",
            "Train Epoch: 3 [20000/60000 (33%)]\tLoss: 1.473032\n",
            "Train Epoch: 3 [30000/60000 (50%)]\tLoss: 1.431892\n",
            "Train Epoch: 3 [40000/60000 (67%)]\tLoss: 1.519187\n",
            "Train Epoch: 3 [50000/60000 (83%)]\tLoss: 1.342649\n",
            "\n",
            " Datos de Prueba: Perdida: 1.377, Accuracy: 4018/10000 (40%)\n",
            "\n",
            "Train Epoch: 4 [0/60000 (0%)]\tLoss: 1.358544\n",
            "Train Epoch: 4 [10000/60000 (17%)]\tLoss: 1.429864\n",
            "Train Epoch: 4 [20000/60000 (33%)]\tLoss: 1.328403\n",
            "Train Epoch: 4 [30000/60000 (50%)]\tLoss: 1.428315\n",
            "Train Epoch: 4 [40000/60000 (67%)]\tLoss: 1.360265\n",
            "Train Epoch: 4 [50000/60000 (83%)]\tLoss: 1.321393\n",
            "\n",
            " Datos de Prueba: Perdida: 1.347, Accuracy: 4048/10000 (40%)\n",
            "\n"
          ]
        }
      ]
    },
    {
      "cell_type": "markdown",
      "source": [
        "### Entrenamiento con muchas neuronas"
      ],
      "metadata": {
        "id": "5lpvbzFpowPY"
      }
    },
    {
      "cell_type": "code",
      "source": [
        "# Hyperparametros de Entrenamiento\n",
        "# Epoca:= El numero de veces por el que pasamos por todos los datos\n",
        "args['epoch']=5  \n",
        "# La tasa de aprendizaje del descenso por gradiente \n",
        "args['lr']=1.0\n",
        "\n",
        "\n",
        "model_nn = NeuralNetwork(in_n=784, hidden_n=5000, out_n=10)\n",
        "optimizer = optim.SGD(model_nn.parameters(), lr=args['lr'],\n",
        "                      momentum=args['momentum'])\n",
        "# Carga el modelo al GPU de ser necesario\n",
        "if args['cuda'] == 'cuda':\n",
        "    model.cuda()\n",
        "\n",
        "for epoch in range(0, args['epoch']):\n",
        "    entrenamiento(model = model_nn, train_loader=train_loader, args=args, \n",
        "                  epoch=epoch)\n",
        "    prueba(model = model_nn, test_loader=test_loader, args=args)"
      ],
      "metadata": {
        "colab": {
          "base_uri": "https://localhost:8080/"
        },
        "id": "Y9y4dFKuo12_",
        "outputId": "a53c6e8e-cfcd-4c10-b85b-968f4a008f80"
      },
      "execution_count": 47,
      "outputs": [
        {
          "output_type": "stream",
          "name": "stdout",
          "text": [
            "Train Epoch: 0 [0/60000 (0%)]\tLoss: 2.318213\n",
            "Train Epoch: 0 [10000/60000 (17%)]\tLoss: 2.685063\n",
            "Train Epoch: 0 [20000/60000 (33%)]\tLoss: 1.865970\n",
            "Train Epoch: 0 [30000/60000 (50%)]\tLoss: 1.488859\n",
            "Train Epoch: 0 [40000/60000 (67%)]\tLoss: 1.075175\n",
            "Train Epoch: 0 [50000/60000 (83%)]\tLoss: 0.807900\n",
            "\n",
            " Datos de Prueba: Perdida: 0.615, Accuracy: 8724/10000 (87%)\n",
            "\n",
            "Train Epoch: 1 [0/60000 (0%)]\tLoss: 0.603349\n",
            "Train Epoch: 1 [10000/60000 (17%)]\tLoss: 0.661873\n",
            "Train Epoch: 1 [20000/60000 (33%)]\tLoss: 0.495098\n",
            "Train Epoch: 1 [30000/60000 (50%)]\tLoss: 0.538652\n",
            "Train Epoch: 1 [40000/60000 (67%)]\tLoss: 0.379726\n",
            "Train Epoch: 1 [50000/60000 (83%)]\tLoss: 0.344683\n",
            "\n",
            " Datos de Prueba: Perdida: 0.327, Accuracy: 9138/10000 (91%)\n",
            "\n",
            "Train Epoch: 2 [0/60000 (0%)]\tLoss: 0.373593\n",
            "Train Epoch: 2 [10000/60000 (17%)]\tLoss: 0.425028\n",
            "Train Epoch: 2 [20000/60000 (33%)]\tLoss: 0.297479\n",
            "Train Epoch: 2 [30000/60000 (50%)]\tLoss: 0.249593\n",
            "Train Epoch: 2 [40000/60000 (67%)]\tLoss: 0.251414\n",
            "Train Epoch: 2 [50000/60000 (83%)]\tLoss: 0.319055\n",
            "\n",
            " Datos de Prueba: Perdida: 0.256, Accuracy: 9313/10000 (93%)\n",
            "\n",
            "Train Epoch: 3 [0/60000 (0%)]\tLoss: 0.203769\n",
            "Train Epoch: 3 [10000/60000 (17%)]\tLoss: 0.365238\n",
            "Train Epoch: 3 [20000/60000 (33%)]\tLoss: 0.242308\n",
            "Train Epoch: 3 [30000/60000 (50%)]\tLoss: 0.248029\n",
            "Train Epoch: 3 [40000/60000 (67%)]\tLoss: 0.217675\n",
            "Train Epoch: 3 [50000/60000 (83%)]\tLoss: 0.227051\n",
            "\n",
            " Datos de Prueba: Perdida: 0.225, Accuracy: 9379/10000 (94%)\n",
            "\n",
            "Train Epoch: 4 [0/60000 (0%)]\tLoss: 0.233571\n",
            "Train Epoch: 4 [10000/60000 (17%)]\tLoss: 0.215250\n",
            "Train Epoch: 4 [20000/60000 (33%)]\tLoss: 0.253821\n",
            "Train Epoch: 4 [30000/60000 (50%)]\tLoss: 0.266335\n",
            "Train Epoch: 4 [40000/60000 (67%)]\tLoss: 0.193918\n",
            "Train Epoch: 4 [50000/60000 (83%)]\tLoss: 0.199280\n",
            "\n",
            " Datos de Prueba: Perdida: 0.201, Accuracy: 9457/10000 (95%)\n",
            "\n"
          ]
        }
      ]
    }
  ]
}